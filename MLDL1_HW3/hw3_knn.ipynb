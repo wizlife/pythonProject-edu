{
 "cells": [
  {
   "cell_type": "markdown",
   "metadata": {
    "id": "f7MWUDI2IBYW"
   },
   "source": [
    "## Colab Setup"
   ]
  },
  {
   "cell_type": "code",
   "metadata": {
    "id": "JsEbh_t58ZJo"
   },
   "source": [
    "from google.colab import drive\n",
    "drive.mount('/content/drive')"
   ],
   "execution_count": null,
   "outputs": []
  },
  {
   "cell_type": "code",
   "metadata": {
    "id": "_GXMM3Js7hII",
    "ExecuteTime": {
     "end_time": "2024-05-25T12:24:46.887298Z",
     "start_time": "2024-05-25T12:24:46.884581Z"
    }
   },
   "source": [
    "\"\"\"\n",
    "Change directory to where this file is located\n",
    "\"\"\"\n",
    "#%cd '/content/drive/PATH/TO/MNIST_DATA_FILE'\n",
    "%cd '/Users/jspark/workspace/PycharmProjects/pythonProject/MLDL1_HW3/'"
   ],
   "outputs": [
    {
     "name": "stdout",
     "output_type": "stream",
     "text": [
      "/Users/jspark/workspace/PycharmProjects/pythonProject/MLDL1_HW3\n"
     ]
    }
   ],
   "execution_count": 2
  },
  {
   "cell_type": "markdown",
   "metadata": {
    "id": "rR3VeoqMIFbq"
   },
   "source": [
    "## Import Modules"
   ]
  },
  {
   "cell_type": "code",
   "metadata": {
    "id": "JAC2qQEy7rM8",
    "ExecuteTime": {
     "end_time": "2024-05-25T12:24:50.446878Z",
     "start_time": "2024-05-25T12:24:49.944281Z"
    }
   },
   "source": [
    "import numpy as np\n",
    "import matplotlib.pyplot as plt\n",
    "from numpy.linalg import norm"
   ],
   "outputs": [],
   "execution_count": 3
  },
  {
   "cell_type": "markdown",
   "metadata": {
    "id": "jMw488CqIOhm"
   },
   "source": [
    "## K-Nearest Neighbor Implementation"
   ]
  },
  {
   "cell_type": "code",
   "metadata": {
    "id": "zpsV2Bb3r3s4",
    "ExecuteTime": {
     "end_time": "2024-05-25T12:24:51.911109Z",
     "start_time": "2024-05-25T12:24:51.904959Z"
    }
   },
   "source": [
    "class KNN:\n",
    "    \"\"\" k-nearest neighbor classifier class \"\"\"\n",
    "\n",
    "    def train(self, X, y):\n",
    "        \"\"\"\n",
    "        Train the classifier using the given training data (X, y).\n",
    "        Recall that for k-nearest neighbors this is just memorizing the training data.\n",
    "\n",
    "        Do NOT Modify this method.\n",
    "\n",
    "        Inputs\n",
    "        - X: A numpy array of shape (N, D), where N is the number of data points,\n",
    "            D is the dimensionality of each data point.\n",
    "        - y: A numpy array of shape (N,) containing the training labels, where\n",
    "            y[i] is the label for X[i]. With C classes, each y[i] is an integer\n",
    "            from 0 to C-1.\n",
    "        \"\"\"\n",
    "        self.X_train = X\n",
    "        self.y_train = y\n",
    "\n",
    "    def inference(self, X_test, k=1, dist_metric='dot'):\n",
    "        \"\"\"\n",
    "        For each test example in X, this method predicts its label by majority vote\n",
    "        from the k nearest training samples. It returns the predicted labels.\n",
    "\n",
    "        Do NOT Modify this method.\n",
    "\n",
    "        Inputs\n",
    "        - X_test: A numpy array of shape (N, D), where N is the number of test data points,\n",
    "            D is the dimensionality of each data point.\n",
    "        - X_train: A numpy array of shape (M, D), where M is the number of training data points,\n",
    "            D is the dimensionality of each data point.\n",
    "        - k: The number of neighbors to participate in voting.\n",
    "            dist_metric: Determines the distance metric to use. The default is dot-product ('dot'),\n",
    "            but you will need to implement 'l2' for question (b).\n",
    "        Returns\n",
    "        - y_pred: A numpy array of shape (N,) containing predicted labels for the test data X,\n",
    "            where y_pred[i] is the predicted label for the test point X[i].\n",
    "        \"\"\"\n",
    "        dists = self.compute_distance(X_test, dist_metric)\n",
    "        y_pred = self.predict_labels(X_test, dists, k)\n",
    "        return y_pred\n",
    "\n",
    "    def compute_distance(self, X_test, dist_metric='l2'):\n",
    "        \"\"\"\n",
    "        Computes the distance between the training data and test data,\n",
    "        using dot-product similarity or Euclidean (L2) distance as the distance metric.\n",
    "\n",
    "        Question (a)\n",
    "\n",
    "        Inputs\n",
    "        - X_test: A numpy array of shape (N, D), where N is the number of test data points,\n",
    "            D is the dimensionality of each data point.\n",
    "        - X_train: A numpy array of shape (M, D), where M is the number of training data points,\n",
    "            D is the dimensionality of each data point.\n",
    "        - dist_metric: Determines the distance metric to use.\n",
    "        Returns\n",
    "        - dists: A numpy array of shape (N, M) where N is the number of test data points,\n",
    "            and M is the number of traininig data points, containing distances between\n",
    "            each pair of test and train data points based on the given distance metric.\n",
    "        \"\"\"\n",
    "        if dist_metric=='dot':\n",
    "          ##### YOUR CODE #####\n",
    "          # dot similarity shape (N, M) : higher similarity -> lower distance\n",
    "          dists = -np.dot(X_test, self.X_train.T)\n",
    "          #####################\n",
    "\n",
    "        elif dist_metric=='cos':\n",
    "          ##### YOUR CODE #####\n",
    "          # norm_test (N,1)\n",
    "          norm_test = np.linalg.norm(X_test, axis=1, keepdims=True)\n",
    "          # norm_train  shape (M,) \n",
    "          norm_train = np.linalg.norm(self.X_train, axis=1)\n",
    "          # cosine similarity shape(N, M) = (N, D) dot (D, M) / (N, M) \n",
    "          cos_similarity = np.dot(X_test, self.X_train.T) / (norm_test * norm_train)\n",
    "          dists = 1 - cos_similarity\n",
    "          #####################\n",
    "\n",
    "        elif dist_metric=='l2':\n",
    "          ##### YOUR CODE #####\n",
    "          # Euclidean (L2) distance = sqrt( (x1 - x2)^2 )\n",
    "          # sum_square shape (N, M) = (N, 1) + (M,)\n",
    "          sum_square = (X_test**2).sum(axis=1, keepdims=True) + (self.X_train**2).sum(axis=1)\n",
    "          # dists shape (N, M) = (N, M) - 2 * (N, D) dot (D, M)\n",
    "          dists = np.sqrt( sum_square - 2 * X_test.dot(self.X_train.T))\n",
    "          #####################\n",
    "        return dists\n",
    "\n",
    "    def predict_labels(self, X_test, dists, k):\n",
    "        \"\"\"\n",
    "        For the given test image, this method takes a majority vote from k closest points\n",
    "        to predict the class of the test image.\n",
    "\n",
    "        Question (b)\n",
    "\n",
    "        Inputs\n",
    "        - X_test: A numpy array of shape (N, D), where N is the number of test data points,\n",
    "            D is the dimensionality of each data point.\n",
    "        - dists: A numpy array of shape (N, M) where N is the number of test data points,\n",
    "            and M is the number of traininig data points, containing distances between\n",
    "            each pair of test and train data points based on the given distance metric.\n",
    "        - k: The number of neighbors to participate in voting.\n",
    "        Returns\n",
    "        - y_pred: A numpy array of shape (N,) containing predicted labels for the test data X,\n",
    "            where y_pred[i] is the predicted label for the test point X[i].\n",
    "        \"\"\"\n",
    "        ##### YOUR CODE #####\n",
    "        # initialize y_pred shape (N,)\n",
    "        y_pred = np.zeros(X_test.shape[0])\n",
    "        for i in range(X_test.shape[0]):\n",
    "            # get k nearest index \n",
    "            nearest_idx = np.argsort(dists[i])[:k]\n",
    "            # get labels of k nearest index\n",
    "            nearest_y = self.y_train[nearest_idx]\n",
    "            nearest_y = nearest_y.flatten() ## to prevent shape error in np.bincount\n",
    "            # find the most common label\n",
    "            y_pred[i] = np.argmax(np.bincount(nearest_y))\n",
    "        #####################\n",
    "        return y_pred\n",
    "\n",
    "    def evaluate(self, y, y_hat):\n",
    "        \"\"\"\n",
    "        Compares the predicted labels to the ground truth y, and prints the\n",
    "        classification accuracy.\n",
    "\n",
    "        Do NOT Modify this method.\n",
    "\n",
    "        Inputs\n",
    "        - y: A numpy array of shape (N,) containing the ground truth labels, where\n",
    "            N is the number of test examples. With C classes, each y[i] is an integer\n",
    "            from 0 to C-1.\n",
    "        - y_hat: A numpy array of shape (N,) containing the predicted labels, where\n",
    "            N is the number of test examples. With C classes, each y_pred[i] is\n",
    "            an integer from 0 to C-1.\n",
    "        Returns:\n",
    "        - accuracy\n",
    "        \"\"\"\n",
    "        y_hat = np.expand_dims(y_hat, axis=1)\n",
    "        num_correct = np.sum(y_hat == y)\n",
    "        accuracy = float(num_correct) / y.shape[0]\n",
    "        return accuracy"
   ],
   "outputs": [],
   "execution_count": 4
  },
  {
   "cell_type": "markdown",
   "metadata": {
    "id": "yvwolO5qHzXl"
   },
   "source": [
    "## Data Loading (MNIST)"
   ]
  },
  {
   "cell_type": "code",
   "metadata": {
    "id": "Nsf9KLqLAufI",
    "ExecuteTime": {
     "end_time": "2024-05-25T12:25:01.461902Z",
     "start_time": "2024-05-25T12:25:00.132216Z"
    }
   },
   "source": [
    "from torch.utils.data import DataLoader\n",
    "from torchvision import datasets\n",
    "from torchvision.transforms import ToTensor\n",
    "\n",
    "class MNIST:\n",
    "    \"\"\" Dataset and DataLoader for the MNIST dataset \"\"\"\n",
    "\n",
    "    def __init__(self, train_batch_size, test_batch_size):\n",
    "        \"\"\"\n",
    "        Do NOT modify this function.\n",
    "        \"\"\"\n",
    "        self.test_batch_size = test_batch_size\n",
    "        self.train_batch_size = train_batch_size\n",
    "\n",
    "    def set_data(self):\n",
    "        \"\"\"\n",
    "        Download and Set the Training and Test data using the MNIST dataset\n",
    "        Use \"torchvision.datasets\" module.\n",
    "\n",
    "        Question (c)\n",
    "\n",
    "        Conditions :\n",
    "        - Data should be \"downloaded\" in the \"data\" directory of the current path\n",
    "        - Data should be in \"Tensor\" form of pytorch.\n",
    "\n",
    "        Returns :\n",
    "        - train_data\n",
    "        - test_data\n",
    "        \"\"\"\n",
    "\n",
    "        print(\"Downloading the MNIST data...\")\n",
    "        ##### YOUR CODE #####\n",
    "        train_data = datasets.MNIST(root='./data', train=True, download=True, transform=ToTensor())\n",
    "        test_data = datasets.MNIST(root='./data', train=False, download=True, transform=ToTensor())\n",
    "        #####################\n",
    "\n",
    "        return train_data, test_data\n",
    "\n",
    "    def load_data(self, train_data, test_data):\n",
    "        \"\"\"\n",
    "        Create DataLoaders that iterate the train_data and the test_data.\n",
    "        Each iteration of the dataloaders should return a batch of the data.\n",
    "        Make sure that the data is shuffled after iterating over all batches.\n",
    "        Use DataLoader class in pytorch.\n",
    "\n",
    "        Question (c)\n",
    "\n",
    "        Input :\n",
    "        - train_data\n",
    "        - test_data\n",
    "\n",
    "        Returns :\n",
    "        - train_loader\n",
    "        - test_loader\n",
    "        \"\"\"\n",
    "        ##### YOUR CODE #####\n",
    "        train_loader = DataLoader(train_data, batch_size=self.train_batch_size, shuffle=True)\n",
    "        test_loader = DataLoader(test_data, batch_size=self.test_batch_size, shuffle=True)\n",
    "        #####################\n",
    "\n",
    "        return train_loader, test_loader\n",
    "\n",
    "    def print_example(self, test_loader):\n",
    "        \"\"\"\n",
    "        Check out a sample of the test data.\n",
    "\n",
    "        Question (c)\n",
    "        (1) Extract one batch from the test_loader and print out a shape of the images in the batch.\n",
    "        (2) Print out 6 images in a rectangular form (height*width = 2*3).\n",
    "\n",
    "        Conditions :\n",
    "        - Print out the Ground truths (labels) above each image as title.\n",
    "            ex. Ground Truth : 8\n",
    "        - Remove ticks and tick labels in the plot.\n",
    "        - Print out the images in grayscale.\n",
    "        - Refer to the format of the expected result below for your answer.\n",
    "\n",
    "        Input :\n",
    "        - test_loader\n",
    "        \"\"\"\n",
    "\n",
    "        ##### YOUR CODE #####\n",
    "        images, labels = next(iter(test_loader))\n",
    "        #############################\n",
    "        print(\"A shape of the images in a batch:\", images.shape)\n",
    "\n",
    "        fig = plt.figure()\n",
    "        for i in range(6):\n",
    "          plt.subplot(2, 3, i + 1)\n",
    "          ##### YOUR CODE #####\n",
    "          plt.imshow(images[i].numpy().squeeze(), cmap='gray')\n",
    "          plt.title(\"Ground Truth: \" + str(labels[i].item()))\n",
    "          plt.xticks([])\n",
    "          plt.yticks([])\n",
    "          #############################\n",
    "        print(fig)"
   ],
   "outputs": [],
   "execution_count": 5
  },
  {
   "cell_type": "code",
   "metadata": {
    "id": "_XaaTIL1DEYW",
    "ExecuteTime": {
     "end_time": "2024-05-25T12:25:03.943736Z",
     "start_time": "2024-05-25T12:25:03.787284Z"
    }
   },
   "source": [
    "num_train_data = 1000\n",
    "num_test_data = 200\n",
    "\n",
    "mnist = MNIST(train_batch_size=num_train_data, test_batch_size=num_test_data)\n",
    "train_data, test_data = mnist.set_data()\n",
    "train_loader, test_loader = mnist.load_data(train_data, test_data)\n",
    "mnist.print_example(test_loader)"
   ],
   "outputs": [
    {
     "name": "stdout",
     "output_type": "stream",
     "text": [
      "Downloading the MNIST data...\n",
      "A shape of the images in a batch: torch.Size([200, 1, 28, 28])\n",
      "Figure(640x480)\n"
     ]
    },
    {
     "data": {
      "text/plain": [
       "<Figure size 640x480 with 6 Axes>"
      ],
      "image/png": "[encoded data removed]"
     },
     "metadata": {},
     "output_type": "display_data"
    }
   ],
   "execution_count": 6
  },
  {
   "cell_type": "markdown",
   "metadata": {
    "id": "cotT57gAeDq3"
   },
   "source": [
    "**Expected Result**\n",
    "\n",
    "A shape of the images in a batch: torch.Size([200, 1, 28, 28])\n",
    "\n",
    "![123.png](data:image/png;base64,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)"
   ]
  },
  {
   "cell_type": "code",
   "metadata": {
    "id": "-iE1cNWW-m64",
    "ExecuteTime": {
     "end_time": "2024-05-25T12:25:09.408761Z",
     "start_time": "2024-05-25T12:25:09.364043Z"
    }
   },
   "source": [
    "X_train, y_train = next(iter(train_loader))\n",
    "X_train = X_train.reshape(num_train_data, -1).numpy()\n",
    "y_train = y_train.unsqueeze(1).numpy()\n",
    "\n",
    "X_test, y_test = next(iter(test_loader))\n",
    "X_test = X_test.reshape(num_test_data, -1).numpy()\n",
    "y_test = y_test.unsqueeze(1).numpy()\n",
    "\n",
    "print('Sampling Training & Test Data.....\\n')\n",
    "print('Training data shape: {}'.format(X_train.shape))\n",
    "print('Training labels shape: {}'.format(y_train.shape))\n",
    "print('Test data shape: {}'.format(X_test.shape))\n",
    "print('Test labels shape: {}'.format(y_test.shape))"
   ],
   "outputs": [
    {
     "name": "stdout",
     "output_type": "stream",
     "text": [
      "Sampling Training & Test Data.....\n",
      "\n",
      "Training data shape: (1000, 784)\n",
      "Training labels shape: (1000, 1)\n",
      "Test data shape: (200, 784)\n",
      "Test labels shape: (200, 1)\n"
     ]
    }
   ],
   "execution_count": 7
  },
  {
   "cell_type": "markdown",
   "metadata": {
    "id": "lZDHMwziIpja"
   },
   "source": [
    "## Model Training & Evaluation"
   ]
  },
  {
   "cell_type": "code",
   "metadata": {
    "id": "nfq-3_r4IsHB",
    "ExecuteTime": {
     "end_time": "2024-05-25T12:25:24.687877Z",
     "start_time": "2024-05-25T12:25:24.685280Z"
    }
   },
   "source": [
    "model = KNN()\n",
    "model.train(X_train, y_train)"
   ],
   "outputs": [],
   "execution_count": 9
  },
  {
   "cell_type": "code",
   "metadata": {
    "id": "fPmKakDuuc8b",
    "ExecuteTime": {
     "end_time": "2024-05-25T12:25:26.399476Z",
     "start_time": "2024-05-25T12:25:26.313810Z"
    }
   },
   "source": [
    "\"\"\"\n",
    "Model usage for test.\n",
    "\"\"\"\n",
    "K = 15\n",
    "y_pred = model.inference(X_test, k=K, dist_metric='cos')\n",
    "acc = model.evaluate(y_test, y_pred)\n",
    "print(\"Accuarcy:\", acc)"
   ],
   "outputs": [
    {
     "name": "stdout",
     "output_type": "stream",
     "text": [
      "Accuarcy: 0.87\n"
     ]
    }
   ],
   "execution_count": 10
  },
  {
   "cell_type": "markdown",
   "metadata": {
    "id": "_-IRMbqqRtmh"
   },
   "source": [
    "## Experiments"
   ]
  },
  {
   "cell_type": "code",
   "metadata": {
    "id": "r0IsD2pwgFxM",
    "ExecuteTime": {
     "end_time": "2024-05-25T12:25:29.133746Z",
     "start_time": "2024-05-25T12:25:29.131213Z"
    }
   },
   "source": [
    "# Modify the number of k's and metrics to try as you want\n",
    "num_ks = 100\n",
    "metrics = ['dot', 'cos', 'l2']"
   ],
   "outputs": [],
   "execution_count": 11
  },
  {
   "cell_type": "code",
   "metadata": {
    "id": "68AnUY2wSkMX",
    "ExecuteTime": {
     "end_time": "2024-05-25T12:27:52.607417Z",
     "start_time": "2024-05-25T12:27:47.146227Z"
    }
   },
   "source": [
    "# Run experiments\n",
    "print_k_interval = 5\n",
    "result = dict(zip(metrics, [[] for _ in range(len(metrics))]))\n",
    "for metric in metrics:\n",
    "    print(\"running KNN with {} distance metric\".format(metric))\n",
    "    for k in range(1, num_ks+1):\n",
    "        if k % print_k_interval==0:\n",
    "            print(\"    processing... k={:3d}\".format(k))\n",
    "        y_pred = model.inference(X_test, k=k, dist_metric=metric)\n",
    "        acc = model.evaluate(y_test, y_pred)\n",
    "        result[metric].append(acc)\n",
    "    print()"
   ],
   "outputs": [
    {
     "name": "stdout",
     "output_type": "stream",
     "text": [
      "running KNN with dot distance metric\n",
      "    processing... k=  5\n",
      "    processing... k= 10\n",
      "    processing... k= 15\n",
      "    processing... k= 20\n",
      "    processing... k= 25\n",
      "    processing... k= 30\n",
      "    processing... k= 35\n",
      "    processing... k= 40\n",
      "    processing... k= 45\n",
      "    processing... k= 50\n",
      "    processing... k= 55\n",
      "    processing... k= 60\n",
      "    processing... k= 65\n",
      "    processing... k= 70\n",
      "    processing... k= 75\n",
      "    processing... k= 80\n",
      "    processing... k= 85\n",
      "    processing... k= 90\n",
      "    processing... k= 95\n",
      "    processing... k=100\n",
      "\n",
      "running KNN with cos distance metric\n",
      "    processing... k=  5\n",
      "    processing... k= 10\n",
      "    processing... k= 15\n",
      "    processing... k= 20\n",
      "    processing... k= 25\n",
      "    processing... k= 30\n",
      "    processing... k= 35\n",
      "    processing... k= 40\n",
      "    processing... k= 45\n",
      "    processing... k= 50\n",
      "    processing... k= 55\n",
      "    processing... k= 60\n",
      "    processing... k= 65\n",
      "    processing... k= 70\n",
      "    processing... k= 75\n",
      "    processing... k= 80\n",
      "    processing... k= 85\n",
      "    processing... k= 90\n",
      "    processing... k= 95\n",
      "    processing... k=100\n",
      "\n",
      "running KNN with l2 distance metric\n",
      "    processing... k=  5\n",
      "    processing... k= 10\n",
      "    processing... k= 15\n",
      "    processing... k= 20\n",
      "    processing... k= 25\n",
      "    processing... k= 30\n",
      "    processing... k= 35\n",
      "    processing... k= 40\n",
      "    processing... k= 45\n",
      "    processing... k= 50\n",
      "    processing... k= 55\n",
      "    processing... k= 60\n",
      "    processing... k= 65\n",
      "    processing... k= 70\n",
      "    processing... k= 75\n",
      "    processing... k= 80\n",
      "    processing... k= 85\n",
      "    processing... k= 90\n",
      "    processing... k= 95\n",
      "    processing... k=100\n",
      "\n"
     ]
    }
   ],
   "execution_count": 19
  },
  {
   "cell_type": "code",
   "metadata": {
    "id": "Q47KrG6ch6MH",
    "ExecuteTime": {
     "end_time": "2024-05-25T12:27:53.760281Z",
     "start_time": "2024-05-25T12:27:53.655767Z"
    }
   },
   "source": [
    "# Visualize the result\n",
    "fig = plt.figure(figsize=(10,5))\n",
    "ax = fig.add_subplot(1,1,1)\n",
    "\n",
    "x_axis = np.arange(1, num_ks+1, 1)\n",
    "for i, metric in enumerate(metrics):\n",
    "    ax.scatter(x_axis, result[metric], label = metric)\n",
    "\n",
    "ax.set(title=\"K-Nearest Neighbor Accuracies on different Ks\")\n",
    "ax.set(xlabel='K', ylabel='Accuracy')\n",
    "ax.set(xticks=np.arange(0, num_ks+1,5), yticks=np.arange(0.5,1.0,0.05))\n",
    "ax.legend()\n",
    "plt.show()"
   ],
   "outputs": [
    {
     "data": {
      "text/plain": [
       "<Figure size 1000x500 with 1 Axes>"
      ],
      "image/png": "[encoded data removed]"
     },
     "metadata": {},
     "output_type": "display_data"
    }
   ],
   "execution_count": 20
  },
  {
   "metadata": {},
   "cell_type": "code",
   "outputs": [],
   "execution_count": null,
   "source": [
    "###\n",
    "# Question (d)\n",
    "# Briefly report what you observe in the plot above.\n",
    "###\n",
    "\n",
    "#Answer (d)\n",
    "# - MNIST 데이터셋에 대해 KNN을 적용한 결과, cosine similarity metric이 가장 높은 정확도를 보였다.\n",
    "# - cosine, l2 metric의 경우 K가 증가할수록 정확도가 감소하는 경향을 보인다.(l2는 감소폭이 더 큼)\n",
    "# - dot metric의 경우 K가 약 30보다 작은 경우(실험을 반복할때마다 다르게 나타남) 정확도가 증가하였지만,\n",
    "#   그 이후로는 k가 증가할수록 정확도가 감소하는 경향을 보인다.(감소폭은 세가지 metric중 가장 작음)"
   ]
  }
 ],
 "metadata": {
  "colab": {
   "provenance": []
  },
  "kernelspec": {
   "display_name": "Python 3 (ipykernel)",
   "name": "python3",
   "language": "python"
  },
  "language_info": {
   "name": "python"
  }
 },
 "nbformat": 4,
 "nbformat_minor": 0
}
