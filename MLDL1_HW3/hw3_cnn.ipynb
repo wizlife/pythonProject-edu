{
 "cells": [
  {
   "cell_type": "markdown",
   "id": "b945e8df",
   "metadata": {
    "id": "b945e8df"
   },
   "source": [
    "# Convolution Function"
   ]
  },
  {
   "cell_type": "code",
   "source": [
    "\"\"\"\n",
    "Question (a)\n",
    "\n",
    "Implement your own conv functions which performs convolution operation without using any neural network packages.\n",
    "Make sure to handle all possible edge cases to receive full credits.\n",
    "Keep in mind that height and width of the given image or filter are not always the same.\n",
    "\"\"\"\n",
    "\n",
    "import numpy as np\n",
    "\n",
    "\n",
    "def convolution_naive(image, filter, stride=1, padding=0):\n",
    "    \"\"\"Performs 2D convolution operation with \"4 nested for-loops\".\n",
    "\n",
    "    Args:\n",
    "    - image: 2D numpy array\n",
    "    - filter: 2D numpy array\n",
    "    - stride, padding: integers\n",
    "\n",
    "    Returns:\n",
    "    - 2D numpy array : convolution results of the given image and filter.\n",
    "    - Return None if stride is not compatible. (ex. image of 5*5 with filter 2*2 with stride 2, padding 0)\n",
    "    - Return None if filter is larger than the given image.\n",
    "    \"\"\"\n",
    "\n",
    "    ##### YOUR CODE #####\n",
    "    # input image 와 filter의 shape\n",
    "    (n_H_input, n_W_input) = image.shape\n",
    "    (f_H, f_W) = filter.shape\n",
    "    # output image의 shape\n",
    "    n_H_output = (n_H_input + 2 * padding - f_H) / stride\n",
    "    n_W_output = (n_W_input + 2 * padding - f_W) / stride\n",
    "\n",
    "    # filter가 input image보다 큰 경우 return None\n",
    "    if f_H > n_H_input or f_W > n_W_input:\n",
    "        return None\n",
    "    # stride가 compatible하지 않은 경우 return None\n",
    "    if not n_H_output.is_integer() or not n_W_output.is_integer():\n",
    "        return None\n",
    "\n",
    "    # output image의 shape (int)\n",
    "    n_H_output = int(n_H_output) + 1\n",
    "    n_W_output = int(n_W_output) + 1\n",
    "\n",
    "    # output 초기화\n",
    "    output = np.zeros((n_H_output, n_W_output))\n",
    "    # padding\n",
    "    if( padding > 0 ):\n",
    "        image_padded = np.pad(image, ((padding, padding), (padding, padding)), 'constant', constant_values=0)\n",
    "    else:\n",
    "        image_padded = image\n",
    "\n",
    "    # output image의 각 pixel에 대해 convolution 연산\n",
    "    for h in range(n_H_output):\n",
    "        for w in range(n_W_output):\n",
    "            for i in range(f_H):\n",
    "                for j in range(f_W):\n",
    "                    #filter와 input image의 element-wise 곱\n",
    "                    output[h, w] += image_padded[h*stride + i, w*stride + j] * filter[i, j]\n",
    "    #####################\n",
    "    return output\n",
    "\n",
    "def convolution_vectorized(image, filter, stride=1, padding=0):\n",
    "    \"\"\"Performs 2D convolution operation with \"less than or equal to 2 nested for-loops\".\n",
    "\n",
    "    Args:\n",
    "    - image: 2D numpy array\n",
    "    - filter: 2D numpy array\n",
    "    - stride, padding: integers\n",
    "\n",
    "    Returns:\n",
    "    - 2D numpy array : convolution results of the given image and filter..\n",
    "    - Return None if stride is not compatible. (ex. image of 5*5 with filter 2*2 with stride 2, padding 0)\n",
    "    - Return None if filter is larger than the given image.\n",
    "    \"\"\"\n",
    "\n",
    "    ##### YOUR CODE #####\n",
    "    # input image 와 filter의 shape\n",
    "    (n_H_input, n_W_input) = image.shape\n",
    "    (f_H, f_W) = filter.shape\n",
    "    # output image의 shape\n",
    "    n_H_output = (n_H_input + 2 * padding - f_H) / stride\n",
    "    n_W_output = (n_W_input + 2 * padding - f_W) / stride\n",
    "\n",
    "    # filter가 input image보다 큰 경우 return None\n",
    "    if f_H > n_H_input or f_W > n_W_input:\n",
    "        return None\n",
    "    # stride가 compatible하지 않은 경우 return None\n",
    "    if not n_H_output.is_integer() or not n_W_output.is_integer():\n",
    "        return None\n",
    "\n",
    "    # output image의 shape (int)\n",
    "    n_H_output = int(n_H_output) + 1\n",
    "    n_W_output = int(n_W_output) + 1\n",
    "\n",
    "    # output 초기화\n",
    "    output = np.zeros((n_H_output, n_W_output))\n",
    "    # padding\n",
    "    if( padding > 0 ):\n",
    "        image_padded = np.pad(image, ((padding, padding), (padding, padding)), 'constant', constant_values=0)\n",
    "    else:\n",
    "        image_padded = image\n",
    "\n",
    "    # output image의 각 pixel에 대해 convolution 연산\n",
    "    for h in range(n_H_output):\n",
    "        for w in range(n_W_output):\n",
    "            # convolution 연산에 필요한 input image의 부분 영역\n",
    "            input_part = image_padded[ h*stride : h*stride + f_H, w*stride : w*stride + f_W]\n",
    "            output[h, w] = np.sum(input_part * filter)\n",
    "    #####################\n",
    "\n",
    "    return output"
   ],
   "metadata": {
    "id": "adJPGBJbLkN7",
    "ExecuteTime": {
     "end_time": "2024-05-27T06:13:36.849667Z",
     "start_time": "2024-05-27T06:13:36.841361Z"
    }
   },
   "id": "adJPGBJbLkN7",
   "outputs": [],
   "execution_count": 6
  },
  {
   "cell_type": "code",
   "source": [
    "image = np.random.randint(10, size=(256, 256))\n",
    "filter = np.random.randint(10, size=(16, 16))\n",
    "stride = 1\n",
    "padding = 0\n",
    "\n",
    "print(\"Compare the time complexity of 2 convolution operations\")\n",
    "print(\"1. Convolution operation with 4 nested loops\")\n",
    "%timeit -n 3 -r 1 convolution_naive(image, filter, stride, padding)\n",
    "print(\"2. Convolution operation with less than or equal to 2 nested loops\")\n",
    "%timeit -n 3 -r 1 convolution_vectorized(image, filter, stride, padding)"
   ],
   "metadata": {
    "id": "LehnZPO1FJo1",
    "ExecuteTime": {
     "end_time": "2024-05-27T06:13:54.970527Z",
     "start_time": "2024-05-27T06:13:40.048018Z"
    }
   },
   "id": "LehnZPO1FJo1",
   "outputs": [
    {
     "name": "stdout",
     "output_type": "stream",
     "text": [
      "Compare the time complexity of 2 convolution operations\n",
      "1. Convolution operation with 4 nested loops\n",
      "4.83 s ± 0 ns per loop (mean ± std. dev. of 1 run, 3 loops each)\n",
      "2. Convolution operation with less than or equal to 2 nested loops\n",
      "139 ms ± 0 ns per loop (mean ± std. dev. of 1 run, 3 loops each)\n"
     ]
    }
   ],
   "execution_count": 7
  },
  {
   "cell_type": "code",
   "source": [
    "image = np.array([[1, 2, 3, 2, 1], [2, 3, 4, 5, 6], [-1, -2, -3, -4, -5], [0, 0, 1, 0, 0], [7, 1, 7, 1, 7]])\n",
    "filter = np.array([[1, 0], [0, 1]])\n",
    "stride = 3\n",
    "padding = 0\n",
    "\n",
    "# Expected Result for each convolution functions.\n",
    "# [[4. 8.]\n",
    "#  [1. 7.]]\n",
    "print(convolution_naive(image, filter, stride, padding))\n",
    "print(convolution_vectorized(image, filter, stride, padding))"
   ],
   "metadata": {
    "id": "3JV8AbLaHo2r",
    "ExecuteTime": {
     "end_time": "2024-05-27T06:14:09.546085Z",
     "start_time": "2024-05-27T06:14:09.541366Z"
    }
   },
   "id": "3JV8AbLaHo2r",
   "outputs": [
    {
     "name": "stdout",
     "output_type": "stream",
     "text": [
      "[[4. 8.]\n",
      " [1. 7.]]\n",
      "[[4. 8.]\n",
      " [1. 7.]]\n"
     ]
    }
   ],
   "execution_count": 8
  },
  {
   "cell_type": "markdown",
   "id": "giBbJLW-zhS-",
   "metadata": {
    "id": "giBbJLW-zhS-"
   },
   "source": [
    "# Import Modules"
   ]
  },
  {
   "cell_type": "code",
   "id": "KjGAWailzgP1",
   "metadata": {
    "id": "KjGAWailzgP1",
    "ExecuteTime": {
     "end_time": "2024-05-27T06:16:42.333815Z",
     "start_time": "2024-05-27T06:16:38.677201Z"
    }
   },
   "source": [
    "import cv2\n",
    "import numpy as np\n",
    "from tqdm.auto import tqdm\n",
    "import matplotlib.pyplot as plt\n",
    "\n",
    "import torch\n",
    "import torch.nn as nn\n",
    "import torch.nn.functional as F\n",
    "from torch.utils.data import Dataset, DataLoader\n",
    "from torchvision import transforms, datasets\n",
    "from sklearn.metrics import f1_score"
   ],
   "outputs": [],
   "execution_count": 10
  },
  {
   "cell_type": "code",
   "execution_count": null,
   "id": "55f78236",
   "metadata": {
    "id": "55f78236"
   },
   "outputs": [],
   "source": [
    "\"\"\"\n",
    "import modules you need\n",
    "\"\"\""
   ]
  },
  {
   "cell_type": "markdown",
   "id": "2f33b210",
   "metadata": {
    "id": "2f33b210"
   },
   "source": [
    "# Utils"
   ]
  },
  {
   "cell_type": "code",
   "id": "b7112995",
   "metadata": {
    "id": "b7112995",
    "ExecuteTime": {
     "end_time": "2024-05-27T06:51:31.458418Z",
     "start_time": "2024-05-27T06:51:31.450498Z"
    }
   },
   "source": [
    "def plot_dataset(dataloader, grid_width=8, grid_height=2, figure_width=12, figure_height=3, y_hats=None):\n",
    "    \"\"\"\n",
    "    Plots image and labels.\n",
    "\n",
    "    Do NOT modify this function.\n",
    "    \"\"\"\n",
    "    images, labels = next(iter(dataloader))\n",
    "    f, ax = plt.subplots(grid_height, grid_width)\n",
    "    f.set_size_inches(figure_width, figure_height)\n",
    "    img_idx = 0\n",
    "    for i in range(0, grid_height):\n",
    "        for j in range(0, grid_width):\n",
    "            image = images[img_idx]\n",
    "            label = labels[img_idx]\n",
    "            title_color = 'k'\n",
    "            if y_hats is None:\n",
    "                label_idx = int(label)\n",
    "            else:\n",
    "                label_idx = int(y_hats[img_idx])\n",
    "                if int(labels[img_idx]) != label_idx:\n",
    "                    title_color = 'r'\n",
    "            label = ['airplane', 'automobile', 'bird', 'cat', 'deer', 'dog', 'frog', 'horse', 'ship', 'truck'][label_idx]\n",
    "            ax[i][j].axis('off')\n",
    "            ax[i][j].set_title(label, color=title_color)\n",
    "            ax[i][j].imshow(np.transpose(image, (1, 2, 0)), aspect='auto')\n",
    "            img_idx += 1\n",
    "        plt.subplots_adjust(left=0, bottom=0, right=1, top=1, wspace=0, hspace=0.25)\n",
    "    plt.show()"
   ],
   "outputs": [],
   "execution_count": 23
  },
  {
   "cell_type": "code",
   "id": "-ANUeGuyNGua",
   "metadata": {
    "id": "-ANUeGuyNGua",
    "ExecuteTime": {
     "end_time": "2024-05-27T06:51:33.300580Z",
     "start_time": "2024-05-27T06:51:33.294128Z"
    }
   },
   "source": [
    "def train(model, train_loader, optimizer):\n",
    "    \"\"\"\n",
    "    Trains the model with training data.\n",
    "\n",
    "    Do NOT modify this function.\n",
    "    \"\"\"\n",
    "    model.train()\n",
    "    tqdm_bar = tqdm(train_loader)\n",
    "    for batch_idx, (image, label) in enumerate(tqdm_bar):\n",
    "        image = image.to(DEVICE)\n",
    "        label = label.to(DEVICE)\n",
    "        optimizer.zero_grad()\n",
    "        output = model(image)\n",
    "        loss = criterion(output, label)\n",
    "        loss.backward()\n",
    "        optimizer.step()\n",
    "        tqdm_bar.set_description(\"Epoch {} - train loss: {:.6f}\".format(epoch, loss.item()))\n",
    "\n",
    "\n",
    "def evaluate(model, test_loader):\n",
    "    \"\"\"\n",
    "    Evaluates the trained model with test data.\n",
    "\n",
    "    Do NOT modify this function.\n",
    "    \"\"\"\n",
    "    model.eval()\n",
    "    test_loss = 0\n",
    "    correct = 0\n",
    "    all_labels = []  # Initialize all_labels\n",
    "    all_predictions = []  # Initialize all_predictions\n",
    "\n",
    "    with torch.no_grad():\n",
    "        for image, label in tqdm(test_loader):\n",
    "            image = image.to(DEVICE)\n",
    "            label = label.to(DEVICE)\n",
    "            output = model(image)\n",
    "            test_loss += criterion(output, label).item()\n",
    "            prediction = output.max(1, keepdim=True)[1]\n",
    "            correct += prediction.eq(label.view_as(prediction)).sum().item()\n",
    "\n",
    "            # Store all labels and predictions for F1 score calculation\n",
    "            all_labels.extend(label.cpu().numpy())\n",
    "            all_predictions.extend(prediction.cpu().numpy())\n",
    "\n",
    "    test_loss /= len(test_loader.dataset)\n",
    "    test_accuracy = 100. * correct / len(test_loader.dataset)\n",
    "\n",
    "    # Calculate F1 score\n",
    "    f1 = f1_score(all_labels, all_predictions, average='macro')\n",
    "\n",
    "    return test_loss, test_accuracy, f1"
   ],
   "outputs": [],
   "execution_count": 24
  },
  {
   "cell_type": "markdown",
   "id": "4a242b15",
   "metadata": {
    "id": "4a242b15"
   },
   "source": [
    "# CIFAR-10 Data Augmentation"
   ]
  },
  {
   "cell_type": "code",
   "id": "aSH0yYaO2tBH",
   "metadata": {
    "id": "aSH0yYaO2tBH",
    "ExecuteTime": {
     "end_time": "2024-05-27T06:51:38.890515Z",
     "start_time": "2024-05-27T06:51:38.886288Z"
    }
   },
   "source": [
    "def gaussian_smoothing(image, filter_size=3, sigma=1.0):\n",
    "    \"\"\"\n",
    "    Inputs\n",
    "    - image: an input image of shape (32,32,3).\n",
    "    Returns\n",
    "    - image: image blurred with a Gaussian Filter.\n",
    "\n",
    "    Do NOT modify this function.\n",
    "    \"\"\"\n",
    "    center = (filter_size-1)/2\n",
    "    gaussian_filter = np.zeros((filter_size, filter_size))\n",
    "    for row in range(filter_size):\n",
    "        for col in range(filter_size):\n",
    "            gaussian_filter[row, col] = np.exp((-(row-center) ** 2 - (col-center) ** 2) / (2 * sigma ** 2)) / (2 * np.pi * sigma ** 2)\n",
    "    gaussian_filter = gaussian_filter / np.sum(gaussian_filter)\n",
    "    image = cv2.filter2D(image, -1, gaussian_filter)\n",
    "    return image\n",
    "\n",
    "\n",
    "def color_jitter(image):\n",
    "    \"\"\"\n",
    "    Inputs\n",
    "    - image: an input image of shape (32,32,3).\n",
    "    Returns\n",
    "    - image: image blurred with a Gaussian Filter.\n",
    "\n",
    "    Do NOT modify this function.\n",
    "    \"\"\"\n",
    "    image = cv2.convertScaleAbs(image, alpha=1.5, beta=20)\n",
    "    return image"
   ],
   "outputs": [],
   "execution_count": 25
  },
  {
   "cell_type": "code",
   "source": [
    "def horizontal_flip(image):\n",
    "    \"\"\"Flips the image horizontally.\n",
    "\n",
    "    Question (b)\n",
    "    - Do not use TorchVision or OpenCV library for this question.\n",
    "    - You can solve the problem using numpy only.\n",
    "\n",
    "    Inputs\n",
    "    - image: an input image of shape (32, 32, 3).\n",
    "\n",
    "    Returns\n",
    "    - image: a horizontally-flipped image of shape (32, 32, 3).\n",
    "    \"\"\"\n",
    "    ##### YOUR CODE #####\n",
    "    image = np.fliplr(image)\n",
    "    #####################\n",
    "\n",
    "    return image"
   ],
   "metadata": {
    "id": "PQU4Yk_oPEVB",
    "ExecuteTime": {
     "end_time": "2024-05-27T06:54:25.814225Z",
     "start_time": "2024-05-27T06:54:25.810511Z"
    }
   },
   "id": "PQU4Yk_oPEVB",
   "outputs": [],
   "execution_count": 27
  },
  {
   "cell_type": "code",
   "id": "VNXqg19fvtC5",
   "metadata": {
    "id": "VNXqg19fvtC5",
    "ExecuteTime": {
     "end_time": "2024-05-27T06:55:25.621939Z",
     "start_time": "2024-05-27T06:55:24.804780Z"
    }
   },
   "source": [
    "\"\"\"\n",
    "Visualize how the augmentations are applied to a single image.\n",
    "\n",
    "Do NOT modify.\n",
    "\"\"\"\n",
    "\n",
    "raw_test = datasets.CIFAR10(root=\"./CIFAR_10\", train=False, download=True)\n",
    "\n",
    "f, ax = plt.subplots(1, 5)\n",
    "f.set_size_inches(12, 3)\n",
    "x = raw_test[0][0]\n",
    "x = np.array(x)\n",
    "g = gaussian_smoothing(x)\n",
    "j = color_jitter(x)\n",
    "h = horizontal_flip(x)\n",
    "title = ['original image', 'gaussian filter', 'color jitter', 'horizontal flip', 'original image']\n",
    "for i, img in enumerate([x, g, j, h, x]):\n",
    "    ax[i].imshow(img)\n",
    "    ax[i].axis('off')\n",
    "    ax[i].set_title(title[i], color='k')"
   ],
   "outputs": [
    {
     "name": "stdout",
     "output_type": "stream",
     "text": [
      "Files already downloaded and verified\n"
     ]
    },
    {
     "data": {
      "text/plain": [
       "<Figure size 1200x300 with 5 Axes>"
      ],
      "image/png": "[encoded data removed]"
     },
     "metadata": {},
     "output_type": "display_data"
    }
   ],
   "execution_count": 28
  },
  {
   "cell_type": "code",
   "execution_count": null,
   "id": "24wjKV1OCiP5",
   "metadata": {
    "id": "24wjKV1OCiP5"
   },
   "outputs": [],
   "source": [
    "###\n",
    "# Question (b)\n",
    "# Briefly explain whether horizontal flip is a good augmentation method for image classification task.\n",
    "###\n",
    "# - Horizontal flip은 대상 이미지에 특별한 방향이 없는 경우 좋은 데이터 augmentation 방법이지만, 이미지의 수평 방향이 데이터 분류에 의미가 있는 경우 사용하지 않는 것이 좋다. \n",
    "# - 예를 들어 특정 이미지(알파멧 p, q) 등의 경우 horizontal flip을 사용하면 데이터가 완전히 다른 의미가 될 수 있기 때문이다."
   ]
  },
  {
   "cell_type": "code",
   "id": "0SQnrsBsUmJX",
   "metadata": {
    "id": "0SQnrsBsUmJX",
    "ExecuteTime": {
     "end_time": "2024-05-27T08:18:39.889136Z",
     "start_time": "2024-05-27T08:18:39.874997Z"
    }
   },
   "source": [
    "class CustomDataset(Dataset):\n",
    "    def __init__(self, train, prob=0.5, data_dir=\"./CIFAR_10\"):\n",
    "        \"\"\"\n",
    "        Do NOT modify this method.\n",
    "        \"\"\"\n",
    "        self.data = datasets.CIFAR10(root=data_dir, train=train, download=True)\n",
    "        self.prob = prob\n",
    "\n",
    "    def __len__(self):\n",
    "        \"\"\"\n",
    "        Do NOT modify this method.\n",
    "        \"\"\"\n",
    "        return len(self.data)\n",
    "\n",
    "    def __getitem__(self, idx):\n",
    "        \"\"\"\n",
    "        Do NOT modify this method.\n",
    "        \"\"\"\n",
    "        return self.data[idx]\n",
    "\n",
    "    def transform(self, image):\n",
    "        \"\"\"\n",
    "        Apply stochastic data augmentation to the given image.\n",
    "\n",
    "        Question (c)\n",
    "        - Convert the given RGB image into BGR scale using opencv library.\n",
    "        - Apply random augmentation (gaussian smoothing, color jitter, and horizontal flip).\n",
    "        - Random augmentation is applied with the probability of self.prob.\n",
    "        - If self.prob = 0.5, 5 out of 10 images will be augmented on average.\n",
    "        - Convert the augmented image back to RGB scale for training.\n",
    "\n",
    "        Inputs\n",
    "        - image: numpy array of an input image of shape (32,32,3).\n",
    "        Returns\n",
    "        - image: numpy array of the augmented input image with shape (32,32,3).\n",
    "        \"\"\"\n",
    "        image = cv2.cvtColor(image, cv2.COLOR_RGB2BGR)\n",
    "\n",
    "        ##### YOUR CODE #####\n",
    "        # self.prob의 확률로 random augmentation 적용\n",
    "        if np.random.rand() < self.prob:\n",
    "            # 3가지 augmentation 중 랜덤하게 선택\n",
    "            aug = np.random.randint(3)\n",
    "            if aug == 0:\n",
    "                image = gaussian_smoothing(image)\n",
    "            elif aug == 1:\n",
    "                image = color_jitter(image)\n",
    "            elif aug == 2:\n",
    "                image = horizontal_flip(image)\n",
    "        #####################\n",
    "\n",
    "        image = cv2.cvtColor(image, cv2.COLOR_BGR2RGB)\n",
    "        return image\n",
    "\n",
    "    def collate_fn(self, data):\n",
    "        \"\"\"\n",
    "        Creates a batch of images and label tensors.\n",
    "\n",
    "        Question (d)\n",
    "        - Convert each image in the batch from PIL image to numpy array.\n",
    "        - Transform the image using self.transform method to apply random augmentation.\n",
    "        - Normalize the transformed image by mapping the range [0, 255] to range [0, 1].\n",
    "        - Transpose the (H * W * C) format of the image into (C * H * W) format.\n",
    "          - To be specific, the dimension of the original image is (32, 32, 3).\n",
    "          - We want the dimension of the transposed image to be (3, 32, 32).\n",
    "        - Convert the batch of preprocessed images into PyTorch float tensors.\n",
    "        - Convert the batch of labels into PyTorch long tensors.\n",
    "        - Do NOT use torchvision.transforms library!\n",
    "\n",
    "        Inputs\n",
    "        - list of tuples, each containing a PIL image and an integer label\n",
    "        - number of tuples in the list == BATCH SIZE\n",
    "\n",
    "        Returns\n",
    "        - batch of image tensors, batch of label tensors\n",
    "        - size: (BATCH, CHANNEL, HEIGHT, WIDTH), (BATCH)\n",
    "        \"\"\"\n",
    "        batch_x, batch_y = [], []\n",
    "\n",
    "        ##### YOUR CODE #####\n",
    "        for image, label in data:\n",
    "            # PIL image를 numpy array로 변환\n",
    "            image = np.array(image)\n",
    "            # transform 적용(self.prob에 따라 내부적으로 랜덤하게 처림)\n",
    "            image = self.transform(image)\n",
    "            # Normalize [0,255] -> [0, 1]\n",
    "            image = image.astype(np.float32) / 255.0\n",
    "            # (H * W * C) -> (C * H * W) ( (0, 1, 2) -> (2, 0, 1) )\n",
    "            image = np.transpose(image, (2, 0, 1))\n",
    "            # image와 label을 batch_x, batch_y에 추가\n",
    "            batch_x.append(image)\n",
    "            batch_y.append(label)\n",
    "            \n",
    "        # 배치 데이터 array를 PyTorch tensor로 변환\n",
    "        batch_x = torch.tensor(batch_x, dtype=torch.float32)\n",
    "        batch_y = torch.tensor(batch_y, dtype=torch.long)\n",
    "            \n",
    "        #####################\n",
    "\n",
    "        return batch_x, batch_y\n"
   ],
   "outputs": [],
   "execution_count": 30
  },
  {
   "cell_type": "code",
   "id": "DpcJAAqWe-uM",
   "metadata": {
    "id": "DpcJAAqWe-uM",
    "ExecuteTime": {
     "end_time": "2024-05-27T08:20:25.835318Z",
     "start_time": "2024-05-27T08:20:24.847365Z"
    }
   },
   "source": [
    "\"\"\"\n",
    "Plot some example images and class labels without applying data augmentation.\n",
    "\n",
    "Do NOT modify.\n",
    "\"\"\"\n",
    "\n",
    "raw_test_dataset = CustomDataset(train=False, prob=0, data_dir=\"./CIFAR_10\")\n",
    "raw_test_loader = DataLoader(dataset=raw_test_dataset, batch_size=16, shuffle=False, collate_fn=raw_test_dataset.collate_fn)\n",
    "\n",
    "plot_dataset(raw_test_loader)"
   ],
   "outputs": [
    {
     "name": "stdout",
     "output_type": "stream",
     "text": [
      "Files already downloaded and verified\n"
     ]
    },
    {
     "data": {
      "text/plain": [
       "<Figure size 1200x300 with 16 Axes>"
      ],
      "image/png": "[encoded data removed]"
     },
     "metadata": {},
     "output_type": "display_data"
    }
   ],
   "execution_count": 34
  },
  {
   "cell_type": "code",
   "id": "TCa4Ay4mWws9",
   "metadata": {
    "id": "TCa4Ay4mWws9",
    "ExecuteTime": {
     "end_time": "2024-05-27T08:22:24.766342Z",
     "start_time": "2024-05-27T08:22:22.810058Z"
    }
   },
   "source": [
    "\"\"\"\n",
    "Same examples after applying data augmentation with 50% probability.\n",
    "If your transform (c) and collate_fn (d) methods have been implemented well, some of the results should look different from the ones above.\n",
    "\n",
    "Do NOT modify.\n",
    "\"\"\"\n",
    "\n",
    "train_dataset = CustomDataset(train=True, prob=0.5)\n",
    "test_dataset = CustomDataset(train=False, prob=0.5)\n",
    "\n",
    "BATCH_SIZE = 64\n",
    "\n",
    "train_loader = DataLoader(dataset=train_dataset,\n",
    "                          batch_size=BATCH_SIZE,\n",
    "                          shuffle=True,\n",
    "                          collate_fn=train_dataset.collate_fn)\n",
    "test_loader = DataLoader(dataset=test_dataset,\n",
    "                         batch_size=BATCH_SIZE,\n",
    "                         shuffle=False,\n",
    "                         collate_fn=test_dataset.collate_fn)\n",
    "\n",
    "plot_dataset(test_loader)"
   ],
   "outputs": [
    {
     "name": "stdout",
     "output_type": "stream",
     "text": [
      "Files already downloaded and verified\n",
      "Files already downloaded and verified\n"
     ]
    },
    {
     "data": {
      "text/plain": [
       "<Figure size 1200x300 with 16 Axes>"
      ],
      "image/png": "[encoded data removed]"
     },
     "metadata": {},
     "output_type": "display_data"
    }
   ],
   "execution_count": 35
  },
  {
   "cell_type": "markdown",
   "id": "2eeea83e",
   "metadata": {
    "id": "2eeea83e"
   },
   "source": [
    "# ConvNet Image Classification"
   ]
  },
  {
   "cell_type": "code",
   "execution_count": null,
   "id": "P0xUGjocL4OH",
   "metadata": {
    "id": "P0xUGjocL4OH"
   },
   "outputs": [],
   "source": [
    "###\n",
    "# Question (e)\n",
    "# Train your ConvNet to achieve test accuracy above 70%\n",
    "# You can try or add other training options such as SGD or callbacks to schedule learning rates if you want.\n",
    "###"
   ]
  },
  {
   "cell_type": "code",
   "id": "c4d35830",
   "metadata": {
    "id": "c4d35830",
    "ExecuteTime": {
     "end_time": "2024-05-27T11:09:57.740766Z",
     "start_time": "2024-05-27T11:09:57.734473Z"
    }
   },
   "source": [
    "class ConvNet(nn.Module):\n",
    "    \"\"\"\n",
    "    Builds a ConvNet model.\n",
    "\n",
    "    Question (e)\n",
    "    - things that might be useful...\n",
    "    - stack [Conv2D + Conv2D + MaxPool2D] at least three times,\n",
    "    - follwed by at least three Linear layers.\n",
    "    - 3x3 filter is enough, but feel free to use larger filter size.\n",
    "    - channels used: [10, 32, 64, 128, 256, 512, 1024]\n",
    "    - you can choose smaller or larger channel size as well.\n",
    "    - The model may include BatchNormalization, regularizers, and Dropout, but they are not necessary.\n",
    "    \"\"\"\n",
    "    def __init__(self):\n",
    "        \"\"\"\n",
    "        Define the layers that you would like to use in your model.\n",
    "        \"\"\"\n",
    "        super(ConvNet, self).__init__()\n",
    "\n",
    "        ##### YOUR CODE #####\n",
    "        # Conv2D + Conv2D + MaxPool2D\n",
    "        self.conv1 = nn.Conv2d(3, 32, kernel_size=3, padding=1)\n",
    "        self.conv2 = nn.Conv2d(32, 64, kernel_size=3, padding=1)\n",
    "        self.pool1 = nn.MaxPool2d(2, 2)\n",
    "        # Conv2D + Conv2D + MaxPool2D\n",
    "        self.conv3 = nn.Conv2d(64, 128, kernel_size=3, padding=1)\n",
    "        self.conv4 = nn.Conv2d(128, 256, kernel_size=3, padding=1)\n",
    "        self.pool2 = nn.MaxPool2d(2, 2)\n",
    "        # linear layers\n",
    "        self.fc1 = nn.Linear(256 * 8 * 8, 512)\n",
    "        self.fc2 = nn.Linear(512, 256)\n",
    "        self.fc3 = nn.Linear(256, 10)\n",
    "        #####################\n",
    "\n",
    "    def forward(self, x):\n",
    "        \"\"\"\n",
    "        Apply forward pass of the given batch of input images.\n",
    "        Inputs\n",
    "        - x: batch of input images.\n",
    "        Returns\n",
    "        - softmax probabilites of the input image for each class label\n",
    "        \"\"\"\n",
    "\n",
    "        ##### YOUR CODE #####\n",
    "        x = F.relu(self.conv1(x))\n",
    "        x = F.relu(self.conv2(x))\n",
    "        x = self.pool1(x)\n",
    "        x = F.relu(self.conv3(x))\n",
    "        x = F.relu(self.conv4(x))\n",
    "        x = self.pool2(x)\n",
    "        x = x.view(-1, 256 * 8 * 8)\n",
    "        x = F.relu(self.fc1(x))\n",
    "        x = F.relu(self.fc2(x))\n",
    "        x = F.softmax(self.fc3(x), dim=1)\n",
    "        #####################\n",
    "\n",
    "        return x"
   ],
   "outputs": [],
   "execution_count": 38
  },
  {
   "cell_type": "code",
   "id": "VbHlUuyTdhK2",
   "metadata": {
    "id": "VbHlUuyTdhK2",
    "ExecuteTime": {
     "end_time": "2024-05-27T11:09:54.074182Z",
     "start_time": "2024-05-27T11:09:54.064313Z"
    }
   },
   "source": [
    "\"\"\"\n",
    "Make sure your runtime type is GPU and you are using PyTorch version higher than 1.8!\n",
    "\n",
    "Do NOT modify.\n",
    "\"\"\"\n",
    "\n",
    "#DEVICE = torch.device('cuda') if torch.cuda.is_available else torch.device('cpu') # for GPU\n",
    "DEVICE = torch.device('mps') if torch.backends.mps.is_available() else torch.device('cpu') # for M1 Mac\n",
    "print(\"Using PyTorch version: {}, Device: {}\".format(torch.__version__, DEVICE))\n",
    "\n"
   ],
   "outputs": [
    {
     "name": "stdout",
     "output_type": "stream",
     "text": [
      "Using PyTorch version: 2.3.0, Device: mps\n"
     ]
    }
   ],
   "execution_count": 36
  },
  {
   "cell_type": "code",
   "id": "HA_mGa0orKj5",
   "metadata": {
    "id": "HA_mGa0orKj5",
    "ExecuteTime": {
     "end_time": "2024-05-27T11:10:01.515891Z",
     "start_time": "2024-05-27T11:10:01.244075Z"
    }
   },
   "source": [
    "\"\"\"\n",
    "Load your customized model \"ConvNet\" and its training settings.\n",
    "You may choose the number of epochs that you would like to train.\n",
    "You might want to use different optimizers or learning rates.\n",
    "\"\"\"\n",
    "\n",
    "EPOCHS = 20\n",
    "model = ConvNet().to(DEVICE)\n",
    "optimizer = torch.optim.Adam(model.parameters(), lr=0.001, weight_decay=1e-4)\n",
    "criterion = nn.CrossEntropyLoss()\n",
    "\n",
    "print(model)"
   ],
   "outputs": [
    {
     "name": "stdout",
     "output_type": "stream",
     "text": [
      "ConvNet(\n",
      "  (conv1): Conv2d(3, 32, kernel_size=(3, 3), stride=(1, 1), padding=(1, 1))\n",
      "  (conv2): Conv2d(32, 64, kernel_size=(3, 3), stride=(1, 1), padding=(1, 1))\n",
      "  (pool1): MaxPool2d(kernel_size=2, stride=2, padding=0, dilation=1, ceil_mode=False)\n",
      "  (conv3): Conv2d(64, 128, kernel_size=(3, 3), stride=(1, 1), padding=(1, 1))\n",
      "  (conv4): Conv2d(128, 256, kernel_size=(3, 3), stride=(1, 1), padding=(1, 1))\n",
      "  (pool2): MaxPool2d(kernel_size=2, stride=2, padding=0, dilation=1, ceil_mode=False)\n",
      "  (fc1): Linear(in_features=16384, out_features=512, bias=True)\n",
      "  (fc2): Linear(in_features=512, out_features=256, bias=True)\n",
      "  (fc3): Linear(in_features=256, out_features=10, bias=True)\n",
      ")\n"
     ]
    }
   ],
   "execution_count": 39
  },
  {
   "cell_type": "code",
   "id": "sjeFjn0qrPRK",
   "metadata": {
    "id": "sjeFjn0qrPRK",
    "ExecuteTime": {
     "end_time": "2024-05-27T11:31:03.568679Z",
     "start_time": "2024-05-27T11:11:29.303143Z"
    }
   },
   "source": [
    "\"\"\"\n",
    "Train your model \"ConvNet\" with the augmented CIFAR-10 dataset.\n",
    "Upon successful training, test accuracy of your model should be above 70%.\n",
    "\n",
    "Do NOT modify.\n",
    "\"\"\"\n",
    "\n",
    "for epoch in range(1, EPOCHS + 1):\n",
    "    train(model, train_loader, optimizer)\n",
    "    test_loss, test_accuracy, test_f1_score = evaluate(model, test_loader)\n",
    "    print(\"\\n[EPOCH: {}], \\tModel: ConvNet, \\tTest Loss: {:.4f}, \\tTest Accuracy: {:.2f}, \\tTest F1_Score: {:.4f} % \\n\".format(\n",
    "        epoch, test_loss, test_accuracy, test_f1_score))"
   ],
   "outputs": [
    {
     "data": {
      "text/plain": [
       "  0%|          | 0/782 [00:00<?, ?it/s]"
      ],
      "application/vnd.jupyter.widget-view+json": {
       "version_major": 2,
       "version_minor": 0,
       "model_id": "20530bc6e8024cc9bf4fdb234b42a16e"
      }
     },
     "metadata": {},
     "output_type": "display_data"
    },
    {
     "data": {
      "text/plain": [
       "  0%|          | 0/157 [00:00<?, ?it/s]"
      ],
      "application/vnd.jupyter.widget-view+json": {
       "version_major": 2,
       "version_minor": 0,
       "model_id": "86c52449dff74eb2afea6860c106cb3a"
      }
     },
     "metadata": {},
     "output_type": "display_data"
    },
    {
     "name": "stdout",
     "output_type": "stream",
     "text": [
      "\n",
      "[EPOCH: 1], \tModel: ConvNet, \tTest Loss: 0.0329, \tTest Accuracy: 36.08, \tTest F1_Score: 0.3362 % \n",
      "\n"
     ]
    },
    {
     "data": {
      "text/plain": [
       "  0%|          | 0/782 [00:00<?, ?it/s]"
      ],
      "application/vnd.jupyter.widget-view+json": {
       "version_major": 2,
       "version_minor": 0,
       "model_id": "814423d0b0784eb1b92a7634cbb8d278"
      }
     },
     "metadata": {},
     "output_type": "display_data"
    },
    {
     "data": {
      "text/plain": [
       "  0%|          | 0/157 [00:00<?, ?it/s]"
      ],
      "application/vnd.jupyter.widget-view+json": {
       "version_major": 2,
       "version_minor": 0,
       "model_id": "a09014e4dab84cf8a552199cd4538286"
      }
     },
     "metadata": {},
     "output_type": "display_data"
    },
    {
     "name": "stdout",
     "output_type": "stream",
     "text": [
      "\n",
      "[EPOCH: 2], \tModel: ConvNet, \tTest Loss: 0.0329, \tTest Accuracy: 36.13, \tTest F1_Score: 0.3430 % \n",
      "\n"
     ]
    },
    {
     "data": {
      "text/plain": [
       "  0%|          | 0/782 [00:00<?, ?it/s]"
      ],
      "application/vnd.jupyter.widget-view+json": {
       "version_major": 2,
       "version_minor": 0,
       "model_id": "898988cf003f4179801fd1edefd109d6"
      }
     },
     "metadata": {},
     "output_type": "display_data"
    },
    {
     "data": {
      "text/plain": [
       "  0%|          | 0/157 [00:00<?, ?it/s]"
      ],
      "application/vnd.jupyter.widget-view+json": {
       "version_major": 2,
       "version_minor": 0,
       "model_id": "757dea92e7fa44ec95e43aa93b172738"
      }
     },
     "metadata": {},
     "output_type": "display_data"
    },
    {
     "name": "stdout",
     "output_type": "stream",
     "text": [
      "\n",
      "[EPOCH: 3], \tModel: ConvNet, \tTest Loss: 0.0318, \tTest Accuracy: 43.01, \tTest F1_Score: 0.4174 % \n",
      "\n"
     ]
    },
    {
     "data": {
      "text/plain": [
       "  0%|          | 0/782 [00:00<?, ?it/s]"
      ],
      "application/vnd.jupyter.widget-view+json": {
       "version_major": 2,
       "version_minor": 0,
       "model_id": "06ab97a2989a4c32843e84b9fa61ce45"
      }
     },
     "metadata": {},
     "output_type": "display_data"
    },
    {
     "data": {
      "text/plain": [
       "  0%|          | 0/157 [00:00<?, ?it/s]"
      ],
      "application/vnd.jupyter.widget-view+json": {
       "version_major": 2,
       "version_minor": 0,
       "model_id": "0e5ef8f5df234132bdb0151e3d42f3bf"
      }
     },
     "metadata": {},
     "output_type": "display_data"
    },
    {
     "name": "stdout",
     "output_type": "stream",
     "text": [
      "\n",
      "[EPOCH: 4], \tModel: ConvNet, \tTest Loss: 0.0311, \tTest Accuracy: 47.41, \tTest F1_Score: 0.4660 % \n",
      "\n"
     ]
    },
    {
     "data": {
      "text/plain": [
       "  0%|          | 0/782 [00:00<?, ?it/s]"
      ],
      "application/vnd.jupyter.widget-view+json": {
       "version_major": 2,
       "version_minor": 0,
       "model_id": "a1124bd8c9424ff1b8ed5ee6dd1c1160"
      }
     },
     "metadata": {},
     "output_type": "display_data"
    },
    {
     "data": {
      "text/plain": [
       "  0%|          | 0/157 [00:00<?, ?it/s]"
      ],
      "application/vnd.jupyter.widget-view+json": {
       "version_major": 2,
       "version_minor": 0,
       "model_id": "d0ed5fe8c33e477a86cf3c8ee2e6daab"
      }
     },
     "metadata": {},
     "output_type": "display_data"
    },
    {
     "name": "stdout",
     "output_type": "stream",
     "text": [
      "\n",
      "[EPOCH: 5], \tModel: ConvNet, \tTest Loss: 0.0305, \tTest Accuracy: 51.28, \tTest F1_Score: 0.5078 % \n",
      "\n"
     ]
    },
    {
     "data": {
      "text/plain": [
       "  0%|          | 0/782 [00:00<?, ?it/s]"
      ],
      "application/vnd.jupyter.widget-view+json": {
       "version_major": 2,
       "version_minor": 0,
       "model_id": "a7272462140d4d4886b7162f82cc56d3"
      }
     },
     "metadata": {},
     "output_type": "display_data"
    },
    {
     "data": {
      "text/plain": [
       "  0%|          | 0/157 [00:00<?, ?it/s]"
      ],
      "application/vnd.jupyter.widget-view+json": {
       "version_major": 2,
       "version_minor": 0,
       "model_id": "73b6727d692b46f0a3f20b165726f504"
      }
     },
     "metadata": {},
     "output_type": "display_data"
    },
    {
     "name": "stdout",
     "output_type": "stream",
     "text": [
      "\n",
      "[EPOCH: 6], \tModel: ConvNet, \tTest Loss: 0.0304, \tTest Accuracy: 51.95, \tTest F1_Score: 0.5201 % \n",
      "\n"
     ]
    },
    {
     "data": {
      "text/plain": [
       "  0%|          | 0/782 [00:00<?, ?it/s]"
      ],
      "application/vnd.jupyter.widget-view+json": {
       "version_major": 2,
       "version_minor": 0,
       "model_id": "0b30219c0f7d4989ac696fc09e9d1ddf"
      }
     },
     "metadata": {},
     "output_type": "display_data"
    },
    {
     "data": {
      "text/plain": [
       "  0%|          | 0/157 [00:00<?, ?it/s]"
      ],
      "application/vnd.jupyter.widget-view+json": {
       "version_major": 2,
       "version_minor": 0,
       "model_id": "8045a7c9a5584530a6e273b95fbc9a4e"
      }
     },
     "metadata": {},
     "output_type": "display_data"
    },
    {
     "name": "stdout",
     "output_type": "stream",
     "text": [
      "\n",
      "[EPOCH: 7], \tModel: ConvNet, \tTest Loss: 0.0297, \tTest Accuracy: 56.65, \tTest F1_Score: 0.5608 % \n",
      "\n"
     ]
    },
    {
     "data": {
      "text/plain": [
       "  0%|          | 0/782 [00:00<?, ?it/s]"
      ],
      "application/vnd.jupyter.widget-view+json": {
       "version_major": 2,
       "version_minor": 0,
       "model_id": "fb7fab9ec2954d4f86f09a15f8a1aff7"
      }
     },
     "metadata": {},
     "output_type": "display_data"
    },
    {
     "data": {
      "text/plain": [
       "  0%|          | 0/157 [00:00<?, ?it/s]"
      ],
      "application/vnd.jupyter.widget-view+json": {
       "version_major": 2,
       "version_minor": 0,
       "model_id": "b1f0733c905f4f338af217247e9adf59"
      }
     },
     "metadata": {},
     "output_type": "display_data"
    },
    {
     "name": "stdout",
     "output_type": "stream",
     "text": [
      "\n",
      "[EPOCH: 8], \tModel: ConvNet, \tTest Loss: 0.0295, \tTest Accuracy: 57.96, \tTest F1_Score: 0.5761 % \n",
      "\n"
     ]
    },
    {
     "data": {
      "text/plain": [
       "  0%|          | 0/782 [00:00<?, ?it/s]"
      ],
      "application/vnd.jupyter.widget-view+json": {
       "version_major": 2,
       "version_minor": 0,
       "model_id": "1363cbbd633d464ea00f63a9bc7889bb"
      }
     },
     "metadata": {},
     "output_type": "display_data"
    },
    {
     "data": {
      "text/plain": [
       "  0%|          | 0/157 [00:00<?, ?it/s]"
      ],
      "application/vnd.jupyter.widget-view+json": {
       "version_major": 2,
       "version_minor": 0,
       "model_id": "60b3ea5487594a10a5ef5c87f0fb72c5"
      }
     },
     "metadata": {},
     "output_type": "display_data"
    },
    {
     "name": "stdout",
     "output_type": "stream",
     "text": [
      "\n",
      "[EPOCH: 9], \tModel: ConvNet, \tTest Loss: 0.0289, \tTest Accuracy: 61.55, \tTest F1_Score: 0.6113 % \n",
      "\n"
     ]
    },
    {
     "data": {
      "text/plain": [
       "  0%|          | 0/782 [00:00<?, ?it/s]"
      ],
      "application/vnd.jupyter.widget-view+json": {
       "version_major": 2,
       "version_minor": 0,
       "model_id": "01ba4817b29645efb44780cbd4d1cf03"
      }
     },
     "metadata": {},
     "output_type": "display_data"
    },
    {
     "data": {
      "text/plain": [
       "  0%|          | 0/157 [00:00<?, ?it/s]"
      ],
      "application/vnd.jupyter.widget-view+json": {
       "version_major": 2,
       "version_minor": 0,
       "model_id": "112a55036a894d21843ea4939e62b660"
      }
     },
     "metadata": {},
     "output_type": "display_data"
    },
    {
     "name": "stdout",
     "output_type": "stream",
     "text": [
      "\n",
      "[EPOCH: 10], \tModel: ConvNet, \tTest Loss: 0.0287, \tTest Accuracy: 63.39, \tTest F1_Score: 0.6346 % \n",
      "\n"
     ]
    },
    {
     "data": {
      "text/plain": [
       "  0%|          | 0/782 [00:00<?, ?it/s]"
      ],
      "application/vnd.jupyter.widget-view+json": {
       "version_major": 2,
       "version_minor": 0,
       "model_id": "2a8ce8d40c02437595757eabe473eb7f"
      }
     },
     "metadata": {},
     "output_type": "display_data"
    },
    {
     "data": {
      "text/plain": [
       "  0%|          | 0/157 [00:00<?, ?it/s]"
      ],
      "application/vnd.jupyter.widget-view+json": {
       "version_major": 2,
       "version_minor": 0,
       "model_id": "9c94c172c1da4cdabb5674481830942b"
      }
     },
     "metadata": {},
     "output_type": "display_data"
    },
    {
     "name": "stdout",
     "output_type": "stream",
     "text": [
      "\n",
      "[EPOCH: 11], \tModel: ConvNet, \tTest Loss: 0.0286, \tTest Accuracy: 63.29, \tTest F1_Score: 0.6285 % \n",
      "\n"
     ]
    },
    {
     "data": {
      "text/plain": [
       "  0%|          | 0/782 [00:00<?, ?it/s]"
      ],
      "application/vnd.jupyter.widget-view+json": {
       "version_major": 2,
       "version_minor": 0,
       "model_id": "8694d4381e6d48b49b10b1554b351a20"
      }
     },
     "metadata": {},
     "output_type": "display_data"
    },
    {
     "data": {
      "text/plain": [
       "  0%|          | 0/157 [00:00<?, ?it/s]"
      ],
      "application/vnd.jupyter.widget-view+json": {
       "version_major": 2,
       "version_minor": 0,
       "model_id": "86647542a2c043aba4a7aa954c55ecf9"
      }
     },
     "metadata": {},
     "output_type": "display_data"
    },
    {
     "name": "stdout",
     "output_type": "stream",
     "text": [
      "\n",
      "[EPOCH: 12], \tModel: ConvNet, \tTest Loss: 0.0285, \tTest Accuracy: 64.01, \tTest F1_Score: 0.6405 % \n",
      "\n"
     ]
    },
    {
     "data": {
      "text/plain": [
       "  0%|          | 0/782 [00:00<?, ?it/s]"
      ],
      "application/vnd.jupyter.widget-view+json": {
       "version_major": 2,
       "version_minor": 0,
       "model_id": "6a24c2ca9e17492da3a72e56e60430c8"
      }
     },
     "metadata": {},
     "output_type": "display_data"
    },
    {
     "data": {
      "text/plain": [
       "  0%|          | 0/157 [00:00<?, ?it/s]"
      ],
      "application/vnd.jupyter.widget-view+json": {
       "version_major": 2,
       "version_minor": 0,
       "model_id": "4895c477811a4b6ea3dad272131669c9"
      }
     },
     "metadata": {},
     "output_type": "display_data"
    },
    {
     "name": "stdout",
     "output_type": "stream",
     "text": [
      "\n",
      "[EPOCH: 13], \tModel: ConvNet, \tTest Loss: 0.0284, \tTest Accuracy: 64.96, \tTest F1_Score: 0.6479 % \n",
      "\n"
     ]
    },
    {
     "data": {
      "text/plain": [
       "  0%|          | 0/782 [00:00<?, ?it/s]"
      ],
      "application/vnd.jupyter.widget-view+json": {
       "version_major": 2,
       "version_minor": 0,
       "model_id": "22ea3a54df804d96b62241d55eaf3236"
      }
     },
     "metadata": {},
     "output_type": "display_data"
    },
    {
     "data": {
      "text/plain": [
       "  0%|          | 0/157 [00:00<?, ?it/s]"
      ],
      "application/vnd.jupyter.widget-view+json": {
       "version_major": 2,
       "version_minor": 0,
       "model_id": "42536b9bd5a34537a4e8dafe3657567b"
      }
     },
     "metadata": {},
     "output_type": "display_data"
    },
    {
     "name": "stdout",
     "output_type": "stream",
     "text": [
      "\n",
      "[EPOCH: 14], \tModel: ConvNet, \tTest Loss: 0.0282, \tTest Accuracy: 66.25, \tTest F1_Score: 0.6651 % \n",
      "\n"
     ]
    },
    {
     "data": {
      "text/plain": [
       "  0%|          | 0/782 [00:00<?, ?it/s]"
      ],
      "application/vnd.jupyter.widget-view+json": {
       "version_major": 2,
       "version_minor": 0,
       "model_id": "f4c5dea288e4452db26af8c02dee436f"
      }
     },
     "metadata": {},
     "output_type": "display_data"
    },
    {
     "data": {
      "text/plain": [
       "  0%|          | 0/157 [00:00<?, ?it/s]"
      ],
      "application/vnd.jupyter.widget-view+json": {
       "version_major": 2,
       "version_minor": 0,
       "model_id": "35010f064a2f4de0b5fcbd587b5d03be"
      }
     },
     "metadata": {},
     "output_type": "display_data"
    },
    {
     "name": "stdout",
     "output_type": "stream",
     "text": [
      "\n",
      "[EPOCH: 15], \tModel: ConvNet, \tTest Loss: 0.0285, \tTest Accuracy: 64.24, \tTest F1_Score: 0.6334 % \n",
      "\n"
     ]
    },
    {
     "data": {
      "text/plain": [
       "  0%|          | 0/782 [00:00<?, ?it/s]"
      ],
      "application/vnd.jupyter.widget-view+json": {
       "version_major": 2,
       "version_minor": 0,
       "model_id": "75f97e11e61c44c897eddd3b5227312f"
      }
     },
     "metadata": {},
     "output_type": "display_data"
    },
    {
     "data": {
      "text/plain": [
       "  0%|          | 0/157 [00:00<?, ?it/s]"
      ],
      "application/vnd.jupyter.widget-view+json": {
       "version_major": 2,
       "version_minor": 0,
       "model_id": "9fffb2e3495c47c9b5a20b8fb49600c3"
      }
     },
     "metadata": {},
     "output_type": "display_data"
    },
    {
     "name": "stdout",
     "output_type": "stream",
     "text": [
      "\n",
      "[EPOCH: 16], \tModel: ConvNet, \tTest Loss: 0.0281, \tTest Accuracy: 67.15, \tTest F1_Score: 0.6710 % \n",
      "\n"
     ]
    },
    {
     "data": {
      "text/plain": [
       "  0%|          | 0/782 [00:00<?, ?it/s]"
      ],
      "application/vnd.jupyter.widget-view+json": {
       "version_major": 2,
       "version_minor": 0,
       "model_id": "e118dec76924474db9ab7d5227542dd8"
      }
     },
     "metadata": {},
     "output_type": "display_data"
    },
    {
     "data": {
      "text/plain": [
       "  0%|          | 0/157 [00:00<?, ?it/s]"
      ],
      "application/vnd.jupyter.widget-view+json": {
       "version_major": 2,
       "version_minor": 0,
       "model_id": "7cf95162337e4b49a7a613017d5c3de3"
      }
     },
     "metadata": {},
     "output_type": "display_data"
    },
    {
     "name": "stdout",
     "output_type": "stream",
     "text": [
      "\n",
      "[EPOCH: 17], \tModel: ConvNet, \tTest Loss: 0.0282, \tTest Accuracy: 66.60, \tTest F1_Score: 0.6613 % \n",
      "\n"
     ]
    },
    {
     "data": {
      "text/plain": [
       "  0%|          | 0/782 [00:00<?, ?it/s]"
      ],
      "application/vnd.jupyter.widget-view+json": {
       "version_major": 2,
       "version_minor": 0,
       "model_id": "3f3345349ed94572b1ffe25c3ae99e1f"
      }
     },
     "metadata": {},
     "output_type": "display_data"
    },
    {
     "data": {
      "text/plain": [
       "  0%|          | 0/157 [00:00<?, ?it/s]"
      ],
      "application/vnd.jupyter.widget-view+json": {
       "version_major": 2,
       "version_minor": 0,
       "model_id": "d4149f9df3904e568cfdb1ba12a62308"
      }
     },
     "metadata": {},
     "output_type": "display_data"
    },
    {
     "name": "stdout",
     "output_type": "stream",
     "text": [
      "\n",
      "[EPOCH: 18], \tModel: ConvNet, \tTest Loss: 0.0284, \tTest Accuracy: 65.04, \tTest F1_Score: 0.6506 % \n",
      "\n"
     ]
    },
    {
     "data": {
      "text/plain": [
       "  0%|          | 0/782 [00:00<?, ?it/s]"
      ],
      "application/vnd.jupyter.widget-view+json": {
       "version_major": 2,
       "version_minor": 0,
       "model_id": "bb1f3de9e5544fe4b6dc13d10a080b8e"
      }
     },
     "metadata": {},
     "output_type": "display_data"
    },
    {
     "data": {
      "text/plain": [
       "  0%|          | 0/157 [00:00<?, ?it/s]"
      ],
      "application/vnd.jupyter.widget-view+json": {
       "version_major": 2,
       "version_minor": 0,
       "model_id": "70fe04435e7748de9085188f3fcf65c2"
      }
     },
     "metadata": {},
     "output_type": "display_data"
    },
    {
     "name": "stdout",
     "output_type": "stream",
     "text": [
      "\n",
      "[EPOCH: 19], \tModel: ConvNet, \tTest Loss: 0.0279, \tTest Accuracy: 68.34, \tTest F1_Score: 0.6778 % \n",
      "\n"
     ]
    },
    {
     "data": {
      "text/plain": [
       "  0%|          | 0/782 [00:00<?, ?it/s]"
      ],
      "application/vnd.jupyter.widget-view+json": {
       "version_major": 2,
       "version_minor": 0,
       "model_id": "efc7868744ae444f93312d6d28995b3b"
      }
     },
     "metadata": {},
     "output_type": "display_data"
    },
    {
     "data": {
      "text/plain": [
       "  0%|          | 0/157 [00:00<?, ?it/s]"
      ],
      "application/vnd.jupyter.widget-view+json": {
       "version_major": 2,
       "version_minor": 0,
       "model_id": "806daeeedb2947be989f156c64d229cf"
      }
     },
     "metadata": {},
     "output_type": "display_data"
    },
    {
     "name": "stdout",
     "output_type": "stream",
     "text": [
      "\n",
      "[EPOCH: 20], \tModel: ConvNet, \tTest Loss: 0.0281, \tTest Accuracy: 66.70, \tTest F1_Score: 0.6647 % \n",
      "\n"
     ]
    }
   ],
   "execution_count": 40
  },
  {
   "cell_type": "code",
   "source": [
    "###\n",
    "# Question (f)\n",
    "# Explain the difference of Accuracy and F1 score.\n",
    "# Additionally, discuss in what situations it is advantageous to use the F1 Score.\n",
    "###"
   ],
   "metadata": {
    "id": "vGai_bnWIFJF"
   },
   "id": "vGai_bnWIFJF",
   "execution_count": null,
   "outputs": []
  }
 ],
 "metadata": {
  "colab": {
   "provenance": []
  },
  "kernelspec": {
   "display_name": "Python 3",
   "language": "python",
   "name": "python3"
  },
  "language_info": {
   "codemirror_mode": {
    "name": "ipython",
    "version": 3
   },
   "file_extension": ".py",
   "mimetype": "text/x-python",
   "name": "python",
   "nbconvert_exporter": "python",
   "pygments_lexer": "ipython3",
   "version": "3.8.8"
  },
  "gpuClass": "standard",
  "accelerator": "GPU"
 },
 "nbformat": 4,
 "nbformat_minor": 5
}
