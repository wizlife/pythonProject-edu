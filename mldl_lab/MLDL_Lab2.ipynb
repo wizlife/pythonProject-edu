{
 "cells": [
  {
   "cell_type": "markdown",
   "metadata": {},
   "source": [
    "# 0. Setting"
   ]
  },
  {
   "cell_type": "markdown",
   "metadata": {},
   "source": [
    "### Google Colab"
   ]
  },
  {
   "cell_type": "code",
   "execution_count": null,
   "metadata": {},
   "outputs": [],
   "source": [
    "#from google.colab import drive\n",
    "#drive.mount('/content/drive')"
   ]
  },
  {
   "cell_type": "code",
   "execution_count": null,
   "metadata": {},
   "outputs": [],
   "source": [
    "# PLEASE SPECIFY THE PATH OF THIS FILE HERE\n",
    "%cd '/content/drive/MyDrive/chanwoo/MLDL1'"
   ]
  },
  {
   "cell_type": "markdown",
   "metadata": {},
   "source": [
    "### Libraries"
   ]
  },
  {
   "cell_type": "code",
   "metadata": {
    "executionInfo": {
     "elapsed": 1858,
     "status": "ok",
     "timestamp": 1711587239144,
     "user": {
      "displayName": "­전유진 / 학생 / 데이터사이언스학과",
      "userId": "15652399905532456357"
     },
     "user_tz": -540
    },
    "id": "wgpWPsH6z2F9",
    "ExecuteTime": {
     "end_time": "2024-05-24T15:55:13.994105Z",
     "start_time": "2024-05-24T15:55:13.114500Z"
    }
   },
   "source": [
    "import numpy as np\n",
    "import pandas as pd\n",
    "import matplotlib.pyplot as plt"
   ],
   "outputs": [],
   "execution_count": 1
  },
  {
   "cell_type": "markdown",
   "metadata": {},
   "source": [
    "### Utilities"
   ]
  },
  {
   "cell_type": "code",
   "metadata": {
    "ExecuteTime": {
     "end_time": "2024-04-18T05:11:25.721901Z",
     "start_time": "2024-04-18T05:11:25.716915Z"
    }
   },
   "source": [
    "def train_test_split_df(dataframe, test_size=0.2, random_state=None):\n",
    "    if random_state:\n",
    "        np.random.seed(random_state)\n",
    "\n",
    "    # Shuffle the indices of the dataframe\n",
    "    indices = np.random.permutation(len(dataframe))\n",
    "\n",
    "    # Calculate the number of samples in the test set\n",
    "    test_samples = int(len(dataframe) * test_size)\n",
    "\n",
    "    # Split indices into train and test indices\n",
    "    test_indices = indices[:test_samples]\n",
    "    train_indices = indices[test_samples:]\n",
    "\n",
    "    # Split dataframe into train and test sets using the indices\n",
    "    train_data = dataframe.iloc[train_indices]\n",
    "    test_data = dataframe.iloc[test_indices]\n",
    "\n",
    "    return train_data, test_data\n",
    "\n",
    "def train_test_split_np(X, y, test_size=0.2, random_state=None):\n",
    "    if random_state:\n",
    "        np.random.seed(random_state)\n",
    "\n",
    "    # Shuffle the indices of the dataframe\n",
    "    indices = np.random.permutation(len(y))\n",
    "\n",
    "    # Calculate the number of samples in the test set\n",
    "    test_samples = int(len(y) * test_size)\n",
    "\n",
    "    # Split indices into train and test indices\n",
    "    test_indices = indices[:test_samples]\n",
    "    train_indices = indices[test_samples:]\n",
    "\n",
    "    # Split dataframe into train and test sets using the indices\n",
    "    train_X, train_y = X[train_indices], y[train_indices]\n",
    "    test_X, test_y = X[test_indices], y[test_indices]\n",
    "\n",
    "    return train_X, train_y, test_X, test_y\n",
    "\n",
    "def mean_squared_error(y_true, y_pred):\n",
    "    # Calculate squared errors\n",
    "    squared_errors = [(y_true[i] - y_pred[i]) ** 2 for i in range(len(y_true))]\n",
    "\n",
    "    # Calculate mean squared error\n",
    "    mse = sum(squared_errors) / len(y_true)\n",
    "\n",
    "    return mse\n",
    "\n",
    "def r_squared(y_true, y_pred):\n",
    "    # Calculate the mean of the true values\n",
    "    mean_y_true = sum(y_true) / len(y_true)\n",
    "\n",
    "    # Calculate the total sum of squares (TSS)\n",
    "    tss = sum([(y - mean_y_true) ** 2 for y in y_true])\n",
    "\n",
    "    # Calculate the residual sum of squares (RSS)\n",
    "    rss = sum([(y_true[i] - y_pred[i]) ** 2 for i in range(len(y_true))])\n",
    "\n",
    "    # Calculate R-squared\n",
    "    r2 = 1 - (rss / tss)\n",
    "\n",
    "    return r2\n",
    "\n",
    "def accuracy(y_true, y_pred):\n",
    "    return (y_true == y_pred).sum() / len(y_true)"
   ],
   "outputs": [],
   "execution_count": 2
  },
  {
   "cell_type": "markdown",
   "metadata": {
    "id": "f5Keeg4Ph0vH"
   },
   "source": [
    "# 1. Regularization"
   ]
  },
  {
   "cell_type": "markdown",
   "metadata": {},
   "source": [
    "### 1-0. Data Setting"
   ]
  },
  {
   "cell_type": "code",
   "metadata": {
    "ExecuteTime": {
     "end_time": "2024-04-18T05:11:46.439299Z",
     "start_time": "2024-04-18T05:11:46.422702Z"
    }
   },
   "source": [
    "advertising = pd.read_csv(\"dataset/Advertising.csv\", usecols=[1,2,3,4])\n",
    "advertising.head()"
   ],
   "outputs": [
    {
     "data": {
      "text/plain": [
       "      TV  Radio  Newspaper  Sales\n",
       "0  230.1   37.8       69.2   22.1\n",
       "1   44.5   39.3       45.1   10.4\n",
       "2   17.2   45.9       69.3    9.3\n",
       "3  151.5   41.3       58.5   18.5\n",
       "4  180.8   10.8       58.4   12.9"
      ],
      "text/html": [
       "<div>\n",
       "<style scoped>\n",
       "    .dataframe tbody tr th:only-of-type {\n",
       "        vertical-align: middle;\n",
       "    }\n",
       "\n",
       "    .dataframe tbody tr th {\n",
       "        vertical-align: top;\n",
       "    }\n",
       "\n",
       "    .dataframe thead th {\n",
       "        text-align: right;\n",
       "    }\n",
       "</style>\n",
       "<table border=\"1\" class=\"dataframe\">\n",
       "  <thead>\n",
       "    <tr style=\"text-align: right;\">\n",
       "      <th></th>\n",
       "      <th>TV</th>\n",
       "      <th>Radio</th>\n",
       "      <th>Newspaper</th>\n",
       "      <th>Sales</th>\n",
       "    </tr>\n",
       "  </thead>\n",
       "  <tbody>\n",
       "    <tr>\n",
       "      <th>0</th>\n",
       "      <td>230.1</td>\n",
       "      <td>37.8</td>\n",
       "      <td>69.2</td>\n",
       "      <td>22.1</td>\n",
       "    </tr>\n",
       "    <tr>\n",
       "      <th>1</th>\n",
       "      <td>44.5</td>\n",
       "      <td>39.3</td>\n",
       "      <td>45.1</td>\n",
       "      <td>10.4</td>\n",
       "    </tr>\n",
       "    <tr>\n",
       "      <th>2</th>\n",
       "      <td>17.2</td>\n",
       "      <td>45.9</td>\n",
       "      <td>69.3</td>\n",
       "      <td>9.3</td>\n",
       "    </tr>\n",
       "    <tr>\n",
       "      <th>3</th>\n",
       "      <td>151.5</td>\n",
       "      <td>41.3</td>\n",
       "      <td>58.5</td>\n",
       "      <td>18.5</td>\n",
       "    </tr>\n",
       "    <tr>\n",
       "      <th>4</th>\n",
       "      <td>180.8</td>\n",
       "      <td>10.8</td>\n",
       "      <td>58.4</td>\n",
       "      <td>12.9</td>\n",
       "    </tr>\n",
       "  </tbody>\n",
       "</table>\n",
       "</div>"
      ]
     },
     "execution_count": 3,
     "metadata": {},
     "output_type": "execute_result"
    }
   ],
   "execution_count": 3
  },
  {
   "cell_type": "code",
   "metadata": {
    "ExecuteTime": {
     "end_time": "2024-04-18T05:11:55.937814Z",
     "start_time": "2024-04-18T05:11:55.930763Z"
    }
   },
   "source": [
    "train_data, test_data = train_test_split_df(advertising)\n",
    "\n",
    "X_train, y_train = np.array(train_data.drop(\"Sales\", axis=1)), np.array(train_data.Sales)\n",
    "X_test, y_test = np.array(test_data.drop(\"Sales\", axis=1)), np.array(test_data.Sales)\n",
    "\n",
    "print(X_train.shape, y_train.shape)\n",
    "print(X_test.shape, y_test.shape)"
   ],
   "outputs": [
    {
     "name": "stdout",
     "output_type": "stream",
     "text": [
      "(160, 3) (160,)\n",
      "(40, 3) (40,)\n"
     ]
    }
   ],
   "execution_count": 4
  },
  {
   "cell_type": "markdown",
   "metadata": {},
   "source": [
    "### 1-1. Ridge Regression"
   ]
  },
  {
   "cell_type": "markdown",
   "metadata": {},
   "source": [
    "__Closed Form Solution of Weights($\\beta$) Estimation in Linear Regression__\n",
    "\n",
    "Ordinary Least Squares Estimator\n",
    "- $\\hat{\\beta}_{OLS} = (X^TX)^{-1}X^TY$\n",
    "\n",
    "Ridge Estimator\n",
    "- $\\hat{\\beta}_R = (X^TX + \\lambda I)^{-1}X^TY$"
   ]
  },
  {
   "cell_type": "code",
   "execution_count": null,
   "metadata": {},
   "outputs": [],
   "source": [
    "class LinearRegression:\n",
    "    def __init__(self):\n",
    "        self.weights = None\n",
    "\n",
    "    def fit(self, X, y):\n",
    "        # Add a column of ones to X for the intercept(bias) term\n",
    "        X = np.hstack((np.ones((X.shape[0], 1)), X))\n",
    "\n",
    "        # Calculate weights using the least squares method (closed form solution)\n",
    "        self.weights = np.linalg.inv(X.T.dot(X)).dot(X.T).dot(y)\n",
    "\n",
    "    def predict(self, X):\n",
    "        # Add a column of ones to X for the intercept term\n",
    "        ones = np.ones((X.shape[0], 1))\n",
    "        X = np.concatenate((ones, X), axis=1)\n",
    "\n",
    "        # Predict using the linear regression model\n",
    "        y_pred = X.dot(self.weights)\n",
    "\n",
    "        return y_pred"
   ]
  },
  {
   "cell_type": "code",
   "execution_count": 5,
   "metadata": {},
   "outputs": [],
   "source": [
    "class RidgeRegression:\n",
    "    def __init__(self, alpha=1):\n",
    "        self.weights = None\n",
    "        self.alpha = alpha\n",
    "\n",
    "    def fit(self, X, y):\n",
    "        # Add a column of ones to X for the intercept(bias) term\n",
    "        ones = np.ones((X.shape[0], 1))\n",
    "        X = np.concatenate((ones, X), axis=1)\n",
    "\n",
    "        # Calculate weights using the least squares method with L2 regularization\n",
    "        \n",
    "        ##################\n",
    "        # IMPLEMENT HERE #\n",
    "        ##################\n",
    "        \n",
    "        self.weights = np.linalg.inv(X.T.dot(X)).dot(X.T).dot(y)\n",
    "\n",
    "        ##################\n",
    "        ##################\n",
    "\n",
    "    def predict(self, X):\n",
    "        # Add a column of ones to X for the intercept(bias) term\n",
    "        ones = np.ones((X.shape[0], 1))\n",
    "        X = np.concatenate((ones, X), axis=1)\n",
    "\n",
    "        # Predict using the ridge regression model\n",
    "        y_pred = X.dot(self.weights)\n",
    "\n",
    "        return y_pred"
   ]
  },
  {
   "cell_type": "code",
   "execution_count": 6,
   "metadata": {},
   "outputs": [
    {
     "name": "stdout",
     "output_type": "stream",
     "text": [
      "MSE:  4.008160122586149\n",
      "r-squared:  0.8627049731462906\n"
     ]
    }
   ],
   "source": [
    "ridge = RidgeRegression(alpha=1)\n",
    "ridge.fit(X_train, y_train)\n",
    "y_pred = ridge.predict(X_test)\n",
    "\n",
    "print(\"MSE: \", mean_squared_error(y_test, y_pred))\n",
    "print(\"r-squared: \", r_squared(y_test, y_pred))"
   ]
  },
  {
   "cell_type": "markdown",
   "metadata": {},
   "source": [
    "### 1-2. Lasso Regression"
   ]
  },
  {
   "cell_type": "markdown",
   "metadata": {},
   "source": [
    "__Gradient of Loss with respect to Weights($\\beta$) in Lasso Regression__\n",
    "\n",
    "$ L(\\beta) = (X\\beta - y)^T(X\\beta - y) + \\lambda \\times ||\\beta||_1$\n",
    "\n",
    "$ \\frac{\\partial}{\\partial\\beta}L = 2X^T(X\\beta - y) + \\lambda \\times \\text{sign}(\\beta)$"
   ]
  },
  {
   "cell_type": "code",
   "metadata": {
    "ExecuteTime": {
     "end_time": "2024-04-18T05:19:18.868233Z",
     "start_time": "2024-04-18T05:19:18.860767Z"
    }
   },
   "source": [
    "class LassoRegression:\n",
    "    def __init__(self, alpha=1):\n",
    "        self.weights = None\n",
    "        self.alpha = alpha\n",
    "\n",
    "    def fit(self, X, y, max_iter=1000, lr=1e-5):\n",
    "        # Add a column of ones to X for the intercept(bias) term\n",
    "        ones = np.ones((X.shape[0], 1))\n",
    "        X = np.concatenate((ones, X), axis=1)\n",
    "\n",
    "        # Initialize weights randomly\n",
    "        self.weights = np.random.randn(X.shape[1])\n",
    "\n",
    "        for _ in range(max_iter):\n",
    "            # Calculate gradient of the loss function\n",
    "            \n",
    "            ##################\n",
    "            # IMPLEMENT HERE #\n",
    "            ##################\n",
    "\n",
    "            grad = np.dot(2*X.T, np.dot(X, self.weights) - y) + self.alpha * np.sign(self.weights)\n",
    "            \n",
    "            ##################\n",
    "            ##################\n",
    "            \n",
    "            # Update weights using the L1 regularization term\n",
    "            self.weights -= lr * grad / X.shape[0]\n",
    "\n",
    "    def predict(self, X):\n",
    "        # Add a column of ones to X for the intercept term\n",
    "        ones = np.ones((X.shape[0], 1))\n",
    "        X = np.concatenate((ones, X), axis=1)\n",
    "\n",
    "        # Predict using the lasso regression model\n",
    "        y_pred = X.dot(self.weights)\n",
    "\n",
    "        return y_pred"
   ],
   "outputs": [],
   "execution_count": 9
  },
  {
   "cell_type": "code",
   "metadata": {
    "ExecuteTime": {
     "end_time": "2024-04-18T05:19:20.654205Z",
     "start_time": "2024-04-18T05:19:20.636107Z"
    }
   },
   "source": [
    "lasso = LassoRegression(alpha=1)\n",
    "lasso.fit(X_train, y_train)\n",
    "y_pred = lasso.predict(X_test)\n",
    "\n",
    "print(\"MSE: \", mean_squared_error(y_test, y_pred))\n",
    "print(\"r-squared: \", r_squared(y_test, y_pred))"
   ],
   "outputs": [
    {
     "name": "stdout",
     "output_type": "stream",
     "text": [
      "MSE:  3.600874793045186\n",
      "r-squared:  0.8774883457444285\n"
     ]
    }
   ],
   "execution_count": 10
  },
  {
   "cell_type": "markdown",
   "metadata": {},
   "source": [
    "# 2. Decision Tree Classification"
   ]
  },
  {
   "cell_type": "markdown",
   "metadata": {},
   "source": [
    "### 2-0. Data Setting"
   ]
  },
  {
   "cell_type": "code",
   "metadata": {
    "ExecuteTime": {
     "end_time": "2024-04-18T05:23:11.791446Z",
     "start_time": "2024-04-18T05:23:11.652594Z"
    }
   },
   "source": [
    "from sklearn import datasets\n",
    "iris = datasets.load_iris()\n",
    "X = iris.data\n",
    "y = iris.target\n",
    "label_dict = {0: \"Setosa\", 1: \"Versicolor\", 2: \"Virginica\"}"
   ],
   "outputs": [],
   "execution_count": 11
  },
  {
   "cell_type": "code",
   "metadata": {
    "ExecuteTime": {
     "end_time": "2024-04-18T05:23:27.531981Z",
     "start_time": "2024-04-18T05:23:27.528248Z"
    }
   },
   "source": [
    "train_X, train_y, test_X, test_y = train_test_split_np(X, y)\n",
    "print(train_X.shape, train_y.shape)\n",
    "print(test_X.shape, test_y.shape)\n",
    "print()\n",
    "print('With labels of {0: \"Setosa\", 1: \"Versicolor\", 2: \"Virginica\"},')\n",
    "print('First five labels in training set:', train_y[:5])"
   ],
   "outputs": [
    {
     "name": "stdout",
     "output_type": "stream",
     "text": [
      "(120, 4) (120,)\n",
      "(30, 4) (30,)\n",
      "\n",
      "With labels of {0: \"Setosa\", 1: \"Versicolor\", 2: \"Virginica\"},\n",
      "First five labels in training set: [0 0 0 1 0]\n"
     ]
    }
   ],
   "execution_count": 12
  },
  {
   "cell_type": "markdown",
   "metadata": {},
   "source": [
    "### 2-1. Decision Tree Classifier"
   ]
  },
  {
   "cell_type": "code",
   "metadata": {
    "ExecuteTime": {
     "end_time": "2024-04-18T05:31:07.746520Z",
     "start_time": "2024-04-18T05:31:07.735486Z"
    }
   },
   "source": [
    "class DecisionTree:\n",
    "    def __init__(self, min_samples=None):\n",
    "        self.min_samples = min_samples\n",
    "\n",
    "    def fit(self, X, y):\n",
    "        self.tree = self._grow_tree(X, y)\n",
    "\n",
    "    def _grow_tree(self, X, y, depth=0):\n",
    "        # Stopping criteria\n",
    "        n_labels = len(np.unique(y))\n",
    "        if (self.min_samples is not None and len(y) <= self.min_samples) or n_labels == 1:\n",
    "            return np.argmax(np.bincount(y))\n",
    "\n",
    "        feature_idx, threshold = self._best_split(X, y)\n",
    "        left_indices = X[:, feature_idx] < threshold\n",
    "        X_left, y_left = X[left_indices], y[left_indices]\n",
    "        X_right, y_right = X[~left_indices], y[~left_indices]\n",
    "\n",
    "        # Recursively grow the tree\n",
    "        left_tree = self._grow_tree(X_left, y_left, depth + 1)\n",
    "        right_tree = self._grow_tree(X_right, y_right, depth + 1)\n",
    "\n",
    "        return [feature_idx, threshold, left_tree, right_tree]\n",
    "\n",
    "    def _best_split(self, X, y):\n",
    "        n_features = X.shape[1]\n",
    "        best_feature_idx, best_threshold, min_entropy = None, None, float('inf')\n",
    "        \n",
    "        ## 어떤 feature 로 나눌지\n",
    "        for feature_idx in range(n_features):\n",
    "            \n",
    "            ##################\n",
    "            # IMPLEMENT HERE #\n",
    "            ##################\n",
    "            \n",
    "            thresholds = np.unique(X[:, feature_idx])\n",
    "            #print(thresholds.shape)\n",
    "\n",
    "            ##################\n",
    "            ##################\n",
    "            \n",
    "            for threshold in thresholds:\n",
    "\n",
    "                y_left = y[X[:, feature_idx] < threshold]\n",
    "                y_right = y[X[:, feature_idx] >= threshold]\n",
    "\n",
    "                entropy = self._entropy(y_left, y_right)\n",
    "                if entropy < min_entropy:\n",
    "                    best_feature_idx, best_threshold, min_entropy = feature_idx, threshold, entropy\n",
    "                    \n",
    "        return best_feature_idx, best_threshold\n",
    "\n",
    "    def _entropy(self, y_left, y_right):\n",
    "        n_left, n_right = len(y_left), len(y_right)\n",
    "        n_total = n_left + n_right\n",
    "        \n",
    "        p_left = np.unique(y_left, return_counts=True)[1] / n_left\n",
    "        p_right = np.unique(y_right, return_counts=True)[1] / n_right\n",
    "\n",
    "        entropy_left = -np.sum(p_left * np.log(p_left))\n",
    "        entropy_right = -np.sum(p_right * np.log(p_right))\n",
    "        \n",
    "        return (n_left / n_total) * entropy_left + (n_right / n_total) * entropy_right\n",
    "    \n",
    "    def predict(self, X):\n",
    "        return np.array([self._predict(x, self.tree) for x in X])\n",
    "    \n",
    "    def _predict(self, x, tree):\n",
    "        if not isinstance(tree, list):\n",
    "            return tree\n",
    "\n",
    "        feature_idx, threshold, left_tree, right_tree = tree\n",
    "        if x[feature_idx] < threshold:\n",
    "            return self._predict(x, left_tree)\n",
    "        else:\n",
    "            return self._predict(x, right_tree)"
   ],
   "outputs": [],
   "execution_count": 13
  },
  {
   "cell_type": "code",
   "metadata": {
    "ExecuteTime": {
     "end_time": "2024-04-18T05:31:11.836625Z",
     "start_time": "2024-04-18T05:31:11.815621Z"
    }
   },
   "source": [
    "dt = DecisionTree(min_samples=5)\n",
    "dt.fit(X, y)\n",
    "pred_y = dt.predict(test_X)\n",
    "\n",
    "print('Accuracy: ', accuracy(test_y, pred_y))"
   ],
   "outputs": [
    {
     "name": "stdout",
     "output_type": "stream",
     "text": [
      "(35,)\n",
      "(23,)\n",
      "(43,)\n",
      "(22,)\n",
      "(28,)\n",
      "(16,)\n",
      "(34,)\n",
      "(16,)\n",
      "(22,)\n",
      "(14,)\n",
      "(21,)\n",
      "(8,)\n",
      "(21,)\n",
      "(14,)\n",
      "(17,)\n",
      "(8,)\n",
      "(5,)\n",
      "(5,)\n",
      "(4,)\n",
      "(4,)\n",
      "(20,)\n",
      "(12,)\n",
      "(19,)\n",
      "(8,)\n",
      "Accuracy:  1.0\n"
     ]
    }
   ],
   "execution_count": 14
  },
  {
   "cell_type": "code",
   "metadata": {
    "ExecuteTime": {
     "end_time": "2024-04-18T05:34:50.612236Z",
     "start_time": "2024-04-18T05:34:50.606972Z"
    }
   },
   "source": [
    "dt.tree"
   ],
   "outputs": [
    {
     "data": {
      "text/plain": [
       "[2, 3.0, 0, [3, 1.8, [2, 5.0, [3, 1.7, 1, 2], [3, 1.6, 2, 1]], [2, 4.9, 2, 2]]]"
      ]
     },
     "execution_count": 15,
     "metadata": {},
     "output_type": "execute_result"
    }
   ],
   "execution_count": 15
  },
  {
   "cell_type": "markdown",
   "metadata": {},
   "source": [
    "# 3. Random Forest Classification"
   ]
  },
  {
   "cell_type": "markdown",
   "metadata": {},
   "source": [
    "### 3-0. Data Setting"
   ]
  },
  {
   "cell_type": "code",
   "metadata": {
    "ExecuteTime": {
     "end_time": "2024-04-18T05:37:23.968325Z",
     "start_time": "2024-04-18T05:37:23.962824Z"
    }
   },
   "source": [
    "from sklearn import datasets\n",
    "iris = datasets.load_iris()\n",
    "X = iris.data\n",
    "y = iris.target\n",
    "label_dict = {0: \"Setosa\", 1: \"Versicolor\", 2: \"Virginica\"}"
   ],
   "outputs": [],
   "execution_count": 16
  },
  {
   "cell_type": "code",
   "metadata": {
    "ExecuteTime": {
     "end_time": "2024-04-18T05:37:25.785600Z",
     "start_time": "2024-04-18T05:37:25.782115Z"
    }
   },
   "source": [
    "train_X, train_y, test_X, test_y = train_test_split_np(X, y)\n",
    "print(train_X.shape, train_y.shape)\n",
    "print(test_X.shape, test_y.shape)\n",
    "print()\n",
    "print('With labels of {0: \"Setosa\", 1: \"Versicolor\", 2: \"Virginica\"},')\n",
    "print('First five labels in training set:', train_y[:5])"
   ],
   "outputs": [
    {
     "name": "stdout",
     "output_type": "stream",
     "text": [
      "(120, 4) (120,)\n",
      "(30, 4) (30,)\n",
      "\n",
      "With labels of {0: \"Setosa\", 1: \"Versicolor\", 2: \"Virginica\"},\n",
      "First five labels in training set: [2 0 0 0 1]\n"
     ]
    }
   ],
   "execution_count": 17
  },
  {
   "cell_type": "markdown",
   "metadata": {},
   "source": [
    "### 3-1. Decision Tree Classifier for Random Forest"
   ]
  },
  {
   "cell_type": "code",
   "metadata": {
    "ExecuteTime": {
     "end_time": "2024-04-18T05:43:53.209838Z",
     "start_time": "2024-04-18T05:43:53.202540Z"
    }
   },
   "source": [
    "class DecisionTreeForRF:\n",
    "    def __init__(self, min_samples=None):\n",
    "        self.min_samples = min_samples\n",
    "        \n",
    "    def fit(self, X, y):\n",
    "        self.tree = self._grow_tree(X, y)\n",
    "\n",
    "    def _grow_tree(self, X, y, depth=0):\n",
    "        # Stopping criteria\n",
    "        n_labels = len(np.unique(y))\n",
    "        if (self.min_samples is not None and len(y) <= self.min_samples) or n_labels == 1:\n",
    "            return np.argmax(np.bincount(y))\n",
    "\n",
    "        # Find the best split\n",
    "        feature_idx, threshold = self._best_split_with_random(X, y)\n",
    "        left_indices = X[:, feature_idx] < threshold\n",
    "        X_left, y_left = X[left_indices], y[left_indices]\n",
    "        X_right, y_right = X[~left_indices], y[~left_indices]\n",
    "\n",
    "        # Recursively grow the tree\n",
    "        left_tree = self._grow_tree(X_left, y_left, depth + 1)\n",
    "        right_tree = self._grow_tree(X_right, y_right, depth + 1)\n",
    "\n",
    "        return [feature_idx, threshold, left_tree, right_tree]\n",
    "    \n",
    "    def _best_split_with_random(self, X, y):\n",
    "        n_features = X.shape[1]\n",
    "        best_feature_idx, best_threshold, min_entropy = None, None, float('inf')\n",
    "\n",
    "        ##################\n",
    "        # IMPLEMENT HERE #\n",
    "        ##################\n",
    "\n",
    "        # features = range(n_features)  ## use all features\n",
    "        features = np.random.choice(n_features, size=int(np.sqrt(n_features)), replace=False) ## use sqrt(n_features) features\n",
    "\n",
    "        ##################\n",
    "        ##################\n",
    "        \n",
    "        for feature_idx in features:\n",
    "            thresholds = np.unique(X[:, feature_idx])\n",
    "\n",
    "            for threshold in thresholds:\n",
    "                y_left = y[X[:, feature_idx] < threshold]\n",
    "                y_right = y[X[:, feature_idx] >= threshold]\n",
    "\n",
    "                entropy = self._entropy(y_left, y_right)\n",
    "                if entropy < min_entropy:\n",
    "                    best_feature_idx, best_threshold, min_entropy = feature_idx, threshold, entropy\n",
    "\n",
    "        return best_feature_idx, best_threshold\n",
    "\n",
    "    def _entropy(self, y_left, y_right):\n",
    "        n_left, n_right = len(y_left), len(y_right)\n",
    "        n_total = n_left + n_right\n",
    "        \n",
    "        p_left = np.unique(y_left, return_counts=True)[1] / n_left\n",
    "        p_right = np.unique(y_right, return_counts=True)[1] / n_right\n",
    "\n",
    "        entropy_left = -np.sum(p_left * np.log(p_left))\n",
    "        entropy_right = -np.sum(p_right * np.log(p_right))\n",
    "        \n",
    "        return (n_left / n_total) * entropy_left + (n_right / n_total) * entropy_right\n",
    "    \n",
    "    def predict(self, X):\n",
    "        return np.array([self._predict(x, self.tree) for x in X])\n",
    "    \n",
    "    def _predict(self, x, tree):\n",
    "        if not isinstance(tree, list):\n",
    "            return tree\n",
    "\n",
    "        feature_idx, threshold, left_tree, right_tree = tree\n",
    "        if x[feature_idx] < threshold:\n",
    "            return self._predict(x, left_tree)\n",
    "        else:\n",
    "            return self._predict(x, right_tree)"
   ],
   "outputs": [],
   "execution_count": 19
  },
  {
   "cell_type": "markdown",
   "metadata": {},
   "source": [
    "### 3-2. Random Forest Classifier"
   ]
  },
  {
   "cell_type": "code",
   "metadata": {
    "ExecuteTime": {
     "end_time": "2024-04-18T05:43:59.161092Z",
     "start_time": "2024-04-18T05:43:59.156454Z"
    }
   },
   "source": [
    "class RandomForestClassifier:\n",
    "    def __init__(self, n_trees=100, min_samples=5):\n",
    "        self.n_trees = n_trees\n",
    "        self.min_samples = min_samples\n",
    "\n",
    "    def fit(self, X, y):\n",
    "        self.trees = [DecisionTreeForRF(min_samples=self.min_samples) for _ in range(self.n_trees)]\n",
    "\n",
    "        for tree in self.trees:\n",
    "            indices = np.random.choice(len(X), size=len(X), replace=True)\n",
    "            tree.fit(X[indices], y[indices])\n",
    "\n",
    "    def predict(self, X):\n",
    "        predictions = np.stack([tree.predict(X) for tree in self.trees], axis=1)\n",
    "        return np.array([np.argmax(np.bincount(pred)) for pred in predictions])"
   ],
   "outputs": [],
   "execution_count": 20
  },
  {
   "cell_type": "code",
   "metadata": {
    "ExecuteTime": {
     "end_time": "2024-04-18T05:44:44.567183Z",
     "start_time": "2024-04-18T05:44:44.423779Z"
    }
   },
   "source": [
    "rf = RandomForestClassifier(n_trees=100, min_samples=5)\n",
    "rf.fit(train_X, train_y)\n",
    "pred_y = rf.predict(test_X)\n",
    "\n",
    "print('Accuracy: ', accuracy(test_y, pred_y))"
   ],
   "outputs": [
    {
     "ename": "ValueError",
     "evalue": "attempt to get argmax of an empty sequence",
     "output_type": "error",
     "traceback": [
      "\u001B[0;31m---------------------------------------------------------------------------\u001B[0m",
      "\u001B[0;31mValueError\u001B[0m                                Traceback (most recent call last)",
      "Cell \u001B[0;32mIn[44], line 2\u001B[0m\n\u001B[1;32m      1\u001B[0m rf \u001B[38;5;241m=\u001B[39m RandomForestClassifier(n_trees\u001B[38;5;241m=\u001B[39m\u001B[38;5;241m100\u001B[39m, min_samples\u001B[38;5;241m=\u001B[39m\u001B[38;5;241m5\u001B[39m)\n\u001B[0;32m----> 2\u001B[0m \u001B[43mrf\u001B[49m\u001B[38;5;241;43m.\u001B[39;49m\u001B[43mfit\u001B[49m\u001B[43m(\u001B[49m\u001B[43mtrain_X\u001B[49m\u001B[43m,\u001B[49m\u001B[43m \u001B[49m\u001B[43mtrain_y\u001B[49m\u001B[43m)\u001B[49m\n\u001B[1;32m      3\u001B[0m pred_y \u001B[38;5;241m=\u001B[39m rf\u001B[38;5;241m.\u001B[39mpredict(test_X)\n\u001B[1;32m      5\u001B[0m \u001B[38;5;28mprint\u001B[39m(\u001B[38;5;124m'\u001B[39m\u001B[38;5;124mAccuracy: \u001B[39m\u001B[38;5;124m'\u001B[39m, accuracy(test_y, pred_y))\n",
      "Cell \u001B[0;32mIn[20], line 11\u001B[0m, in \u001B[0;36mRandomForestClassifier.fit\u001B[0;34m(self, X, y)\u001B[0m\n\u001B[1;32m      9\u001B[0m \u001B[38;5;28;01mfor\u001B[39;00m tree \u001B[38;5;129;01min\u001B[39;00m \u001B[38;5;28mself\u001B[39m\u001B[38;5;241m.\u001B[39mtrees:\n\u001B[1;32m     10\u001B[0m     indices \u001B[38;5;241m=\u001B[39m np\u001B[38;5;241m.\u001B[39mrandom\u001B[38;5;241m.\u001B[39mchoice(\u001B[38;5;28mlen\u001B[39m(X), size\u001B[38;5;241m=\u001B[39m\u001B[38;5;28mlen\u001B[39m(X), replace\u001B[38;5;241m=\u001B[39m\u001B[38;5;28;01mTrue\u001B[39;00m)\n\u001B[0;32m---> 11\u001B[0m     \u001B[43mtree\u001B[49m\u001B[38;5;241;43m.\u001B[39;49m\u001B[43mfit\u001B[49m\u001B[43m(\u001B[49m\u001B[43mX\u001B[49m\u001B[43m[\u001B[49m\u001B[43mindices\u001B[49m\u001B[43m]\u001B[49m\u001B[43m,\u001B[49m\u001B[43m \u001B[49m\u001B[43my\u001B[49m\u001B[43m[\u001B[49m\u001B[43mindices\u001B[49m\u001B[43m]\u001B[49m\u001B[43m)\u001B[49m\n",
      "Cell \u001B[0;32mIn[19], line 6\u001B[0m, in \u001B[0;36mDecisionTreeForRF.fit\u001B[0;34m(self, X, y)\u001B[0m\n\u001B[1;32m      5\u001B[0m \u001B[38;5;28;01mdef\u001B[39;00m \u001B[38;5;21mfit\u001B[39m(\u001B[38;5;28mself\u001B[39m, X, y):\n\u001B[0;32m----> 6\u001B[0m     \u001B[38;5;28mself\u001B[39m\u001B[38;5;241m.\u001B[39mtree \u001B[38;5;241m=\u001B[39m \u001B[38;5;28;43mself\u001B[39;49m\u001B[38;5;241;43m.\u001B[39;49m\u001B[43m_grow_tree\u001B[49m\u001B[43m(\u001B[49m\u001B[43mX\u001B[49m\u001B[43m,\u001B[49m\u001B[43m \u001B[49m\u001B[43my\u001B[49m\u001B[43m)\u001B[49m\n",
      "Cell \u001B[0;32mIn[19], line 22\u001B[0m, in \u001B[0;36mDecisionTreeForRF._grow_tree\u001B[0;34m(self, X, y, depth)\u001B[0m\n\u001B[1;32m     20\u001B[0m \u001B[38;5;66;03m# Recursively grow the tree\u001B[39;00m\n\u001B[1;32m     21\u001B[0m left_tree \u001B[38;5;241m=\u001B[39m \u001B[38;5;28mself\u001B[39m\u001B[38;5;241m.\u001B[39m_grow_tree(X_left, y_left, depth \u001B[38;5;241m+\u001B[39m \u001B[38;5;241m1\u001B[39m)\n\u001B[0;32m---> 22\u001B[0m right_tree \u001B[38;5;241m=\u001B[39m \u001B[38;5;28;43mself\u001B[39;49m\u001B[38;5;241;43m.\u001B[39;49m\u001B[43m_grow_tree\u001B[49m\u001B[43m(\u001B[49m\u001B[43mX_right\u001B[49m\u001B[43m,\u001B[49m\u001B[43m \u001B[49m\u001B[43my_right\u001B[49m\u001B[43m,\u001B[49m\u001B[43m \u001B[49m\u001B[43mdepth\u001B[49m\u001B[43m \u001B[49m\u001B[38;5;241;43m+\u001B[39;49m\u001B[43m \u001B[49m\u001B[38;5;241;43m1\u001B[39;49m\u001B[43m)\u001B[49m\n\u001B[1;32m     24\u001B[0m \u001B[38;5;28;01mreturn\u001B[39;00m [feature_idx, threshold, left_tree, right_tree]\n",
      "Cell \u001B[0;32mIn[19], line 22\u001B[0m, in \u001B[0;36mDecisionTreeForRF._grow_tree\u001B[0;34m(self, X, y, depth)\u001B[0m\n\u001B[1;32m     20\u001B[0m \u001B[38;5;66;03m# Recursively grow the tree\u001B[39;00m\n\u001B[1;32m     21\u001B[0m left_tree \u001B[38;5;241m=\u001B[39m \u001B[38;5;28mself\u001B[39m\u001B[38;5;241m.\u001B[39m_grow_tree(X_left, y_left, depth \u001B[38;5;241m+\u001B[39m \u001B[38;5;241m1\u001B[39m)\n\u001B[0;32m---> 22\u001B[0m right_tree \u001B[38;5;241m=\u001B[39m \u001B[38;5;28;43mself\u001B[39;49m\u001B[38;5;241;43m.\u001B[39;49m\u001B[43m_grow_tree\u001B[49m\u001B[43m(\u001B[49m\u001B[43mX_right\u001B[49m\u001B[43m,\u001B[49m\u001B[43m \u001B[49m\u001B[43my_right\u001B[49m\u001B[43m,\u001B[49m\u001B[43m \u001B[49m\u001B[43mdepth\u001B[49m\u001B[43m \u001B[49m\u001B[38;5;241;43m+\u001B[39;49m\u001B[43m \u001B[49m\u001B[38;5;241;43m1\u001B[39;49m\u001B[43m)\u001B[49m\n\u001B[1;32m     24\u001B[0m \u001B[38;5;28;01mreturn\u001B[39;00m [feature_idx, threshold, left_tree, right_tree]\n",
      "Cell \u001B[0;32mIn[19], line 21\u001B[0m, in \u001B[0;36mDecisionTreeForRF._grow_tree\u001B[0;34m(self, X, y, depth)\u001B[0m\n\u001B[1;32m     18\u001B[0m X_right, y_right \u001B[38;5;241m=\u001B[39m X[\u001B[38;5;241m~\u001B[39mleft_indices], y[\u001B[38;5;241m~\u001B[39mleft_indices]\n\u001B[1;32m     20\u001B[0m \u001B[38;5;66;03m# Recursively grow the tree\u001B[39;00m\n\u001B[0;32m---> 21\u001B[0m left_tree \u001B[38;5;241m=\u001B[39m \u001B[38;5;28;43mself\u001B[39;49m\u001B[38;5;241;43m.\u001B[39;49m\u001B[43m_grow_tree\u001B[49m\u001B[43m(\u001B[49m\u001B[43mX_left\u001B[49m\u001B[43m,\u001B[49m\u001B[43m \u001B[49m\u001B[43my_left\u001B[49m\u001B[43m,\u001B[49m\u001B[43m \u001B[49m\u001B[43mdepth\u001B[49m\u001B[43m \u001B[49m\u001B[38;5;241;43m+\u001B[39;49m\u001B[43m \u001B[49m\u001B[38;5;241;43m1\u001B[39;49m\u001B[43m)\u001B[49m\n\u001B[1;32m     22\u001B[0m right_tree \u001B[38;5;241m=\u001B[39m \u001B[38;5;28mself\u001B[39m\u001B[38;5;241m.\u001B[39m_grow_tree(X_right, y_right, depth \u001B[38;5;241m+\u001B[39m \u001B[38;5;241m1\u001B[39m)\n\u001B[1;32m     24\u001B[0m \u001B[38;5;28;01mreturn\u001B[39;00m [feature_idx, threshold, left_tree, right_tree]\n",
      "Cell \u001B[0;32mIn[19], line 21\u001B[0m, in \u001B[0;36mDecisionTreeForRF._grow_tree\u001B[0;34m(self, X, y, depth)\u001B[0m\n\u001B[1;32m     18\u001B[0m X_right, y_right \u001B[38;5;241m=\u001B[39m X[\u001B[38;5;241m~\u001B[39mleft_indices], y[\u001B[38;5;241m~\u001B[39mleft_indices]\n\u001B[1;32m     20\u001B[0m \u001B[38;5;66;03m# Recursively grow the tree\u001B[39;00m\n\u001B[0;32m---> 21\u001B[0m left_tree \u001B[38;5;241m=\u001B[39m \u001B[38;5;28;43mself\u001B[39;49m\u001B[38;5;241;43m.\u001B[39;49m\u001B[43m_grow_tree\u001B[49m\u001B[43m(\u001B[49m\u001B[43mX_left\u001B[49m\u001B[43m,\u001B[49m\u001B[43m \u001B[49m\u001B[43my_left\u001B[49m\u001B[43m,\u001B[49m\u001B[43m \u001B[49m\u001B[43mdepth\u001B[49m\u001B[43m \u001B[49m\u001B[38;5;241;43m+\u001B[39;49m\u001B[43m \u001B[49m\u001B[38;5;241;43m1\u001B[39;49m\u001B[43m)\u001B[49m\n\u001B[1;32m     22\u001B[0m right_tree \u001B[38;5;241m=\u001B[39m \u001B[38;5;28mself\u001B[39m\u001B[38;5;241m.\u001B[39m_grow_tree(X_right, y_right, depth \u001B[38;5;241m+\u001B[39m \u001B[38;5;241m1\u001B[39m)\n\u001B[1;32m     24\u001B[0m \u001B[38;5;28;01mreturn\u001B[39;00m [feature_idx, threshold, left_tree, right_tree]\n",
      "Cell \u001B[0;32mIn[19], line 12\u001B[0m, in \u001B[0;36mDecisionTreeForRF._grow_tree\u001B[0;34m(self, X, y, depth)\u001B[0m\n\u001B[1;32m     10\u001B[0m n_labels \u001B[38;5;241m=\u001B[39m \u001B[38;5;28mlen\u001B[39m(np\u001B[38;5;241m.\u001B[39munique(y))\n\u001B[1;32m     11\u001B[0m \u001B[38;5;28;01mif\u001B[39;00m (\u001B[38;5;28mself\u001B[39m\u001B[38;5;241m.\u001B[39mmin_samples \u001B[38;5;129;01mis\u001B[39;00m \u001B[38;5;129;01mnot\u001B[39;00m \u001B[38;5;28;01mNone\u001B[39;00m \u001B[38;5;129;01mand\u001B[39;00m \u001B[38;5;28mlen\u001B[39m(y) \u001B[38;5;241m<\u001B[39m\u001B[38;5;241m=\u001B[39m \u001B[38;5;28mself\u001B[39m\u001B[38;5;241m.\u001B[39mmin_samples) \u001B[38;5;129;01mor\u001B[39;00m n_labels \u001B[38;5;241m==\u001B[39m \u001B[38;5;241m1\u001B[39m:\n\u001B[0;32m---> 12\u001B[0m     \u001B[38;5;28;01mreturn\u001B[39;00m \u001B[43mnp\u001B[49m\u001B[38;5;241;43m.\u001B[39;49m\u001B[43margmax\u001B[49m\u001B[43m(\u001B[49m\u001B[43mnp\u001B[49m\u001B[38;5;241;43m.\u001B[39;49m\u001B[43mbincount\u001B[49m\u001B[43m(\u001B[49m\u001B[43my\u001B[49m\u001B[43m)\u001B[49m\u001B[43m)\u001B[49m\n\u001B[1;32m     14\u001B[0m \u001B[38;5;66;03m# Find the best split\u001B[39;00m\n\u001B[1;32m     15\u001B[0m feature_idx, threshold \u001B[38;5;241m=\u001B[39m \u001B[38;5;28mself\u001B[39m\u001B[38;5;241m.\u001B[39m_best_split_with_random(X, y)\n",
      "File \u001B[0;32m~/workspace/PycharmProjects/pythonProject/.venv/lib/python3.12/site-packages/numpy/core/fromnumeric.py:1229\u001B[0m, in \u001B[0;36margmax\u001B[0;34m(a, axis, out, keepdims)\u001B[0m\n\u001B[1;32m   1142\u001B[0m \u001B[38;5;250m\u001B[39m\u001B[38;5;124;03m\"\"\"\u001B[39;00m\n\u001B[1;32m   1143\u001B[0m \u001B[38;5;124;03mReturns the indices of the maximum values along an axis.\u001B[39;00m\n\u001B[1;32m   1144\u001B[0m \n\u001B[0;32m   (...)\u001B[0m\n\u001B[1;32m   1226\u001B[0m \u001B[38;5;124;03m(2, 1, 4)\u001B[39;00m\n\u001B[1;32m   1227\u001B[0m \u001B[38;5;124;03m\"\"\"\u001B[39;00m\n\u001B[1;32m   1228\u001B[0m kwds \u001B[38;5;241m=\u001B[39m {\u001B[38;5;124m'\u001B[39m\u001B[38;5;124mkeepdims\u001B[39m\u001B[38;5;124m'\u001B[39m: keepdims} \u001B[38;5;28;01mif\u001B[39;00m keepdims \u001B[38;5;129;01mis\u001B[39;00m \u001B[38;5;129;01mnot\u001B[39;00m np\u001B[38;5;241m.\u001B[39m_NoValue \u001B[38;5;28;01melse\u001B[39;00m {}\n\u001B[0;32m-> 1229\u001B[0m \u001B[38;5;28;01mreturn\u001B[39;00m \u001B[43m_wrapfunc\u001B[49m\u001B[43m(\u001B[49m\u001B[43ma\u001B[49m\u001B[43m,\u001B[49m\u001B[43m \u001B[49m\u001B[38;5;124;43m'\u001B[39;49m\u001B[38;5;124;43margmax\u001B[39;49m\u001B[38;5;124;43m'\u001B[39;49m\u001B[43m,\u001B[49m\u001B[43m \u001B[49m\u001B[43maxis\u001B[49m\u001B[38;5;241;43m=\u001B[39;49m\u001B[43maxis\u001B[49m\u001B[43m,\u001B[49m\u001B[43m \u001B[49m\u001B[43mout\u001B[49m\u001B[38;5;241;43m=\u001B[39;49m\u001B[43mout\u001B[49m\u001B[43m,\u001B[49m\u001B[43m \u001B[49m\u001B[38;5;241;43m*\u001B[39;49m\u001B[38;5;241;43m*\u001B[39;49m\u001B[43mkwds\u001B[49m\u001B[43m)\u001B[49m\n",
      "File \u001B[0;32m~/workspace/PycharmProjects/pythonProject/.venv/lib/python3.12/site-packages/numpy/core/fromnumeric.py:59\u001B[0m, in \u001B[0;36m_wrapfunc\u001B[0;34m(obj, method, *args, **kwds)\u001B[0m\n\u001B[1;32m     56\u001B[0m     \u001B[38;5;28;01mreturn\u001B[39;00m _wrapit(obj, method, \u001B[38;5;241m*\u001B[39margs, \u001B[38;5;241m*\u001B[39m\u001B[38;5;241m*\u001B[39mkwds)\n\u001B[1;32m     58\u001B[0m \u001B[38;5;28;01mtry\u001B[39;00m:\n\u001B[0;32m---> 59\u001B[0m     \u001B[38;5;28;01mreturn\u001B[39;00m \u001B[43mbound\u001B[49m\u001B[43m(\u001B[49m\u001B[38;5;241;43m*\u001B[39;49m\u001B[43margs\u001B[49m\u001B[43m,\u001B[49m\u001B[43m \u001B[49m\u001B[38;5;241;43m*\u001B[39;49m\u001B[38;5;241;43m*\u001B[39;49m\u001B[43mkwds\u001B[49m\u001B[43m)\u001B[49m\n\u001B[1;32m     60\u001B[0m \u001B[38;5;28;01mexcept\u001B[39;00m \u001B[38;5;167;01mTypeError\u001B[39;00m:\n\u001B[1;32m     61\u001B[0m     \u001B[38;5;66;03m# A TypeError occurs if the object does have such a method in its\u001B[39;00m\n\u001B[1;32m     62\u001B[0m     \u001B[38;5;66;03m# class, but its signature is not identical to that of NumPy's. This\u001B[39;00m\n\u001B[0;32m   (...)\u001B[0m\n\u001B[1;32m     66\u001B[0m     \u001B[38;5;66;03m# Call _wrapit from within the except clause to ensure a potential\u001B[39;00m\n\u001B[1;32m     67\u001B[0m     \u001B[38;5;66;03m# exception has a traceback chain.\u001B[39;00m\n\u001B[1;32m     68\u001B[0m     \u001B[38;5;28;01mreturn\u001B[39;00m _wrapit(obj, method, \u001B[38;5;241m*\u001B[39margs, \u001B[38;5;241m*\u001B[39m\u001B[38;5;241m*\u001B[39mkwds)\n",
      "\u001B[0;31mValueError\u001B[0m: attempt to get argmax of an empty sequence"
     ]
    }
   ],
   "execution_count": 44
  },
  {
   "cell_type": "markdown",
   "metadata": {},
   "source": [
    "# 4. AdaBoost"
   ]
  },
  {
   "cell_type": "markdown",
   "metadata": {},
   "source": [
    "### 4-0. Data Setting"
   ]
  },
  {
   "cell_type": "code",
   "metadata": {
    "ExecuteTime": {
     "end_time": "2024-04-18T05:47:00.869401Z",
     "start_time": "2024-04-18T05:47:00.856311Z"
    }
   },
   "source": [
    "df = pd.read_csv(\"dataset/Default.csv\")\n",
    "df.head()"
   ],
   "outputs": [
    {
     "data": {
      "text/plain": [
       "  default student      balance        income\n",
       "0      No      No   729.526495  44361.625074\n",
       "1      No     Yes   817.180407  12106.134700\n",
       "2      No      No  1073.549164  31767.138947\n",
       "3      No      No   529.250605  35704.493935\n",
       "4      No      No   785.655883  38463.495879"
      ],
      "text/html": [
       "<div>\n",
       "<style scoped>\n",
       "    .dataframe tbody tr th:only-of-type {\n",
       "        vertical-align: middle;\n",
       "    }\n",
       "\n",
       "    .dataframe tbody tr th {\n",
       "        vertical-align: top;\n",
       "    }\n",
       "\n",
       "    .dataframe thead th {\n",
       "        text-align: right;\n",
       "    }\n",
       "</style>\n",
       "<table border=\"1\" class=\"dataframe\">\n",
       "  <thead>\n",
       "    <tr style=\"text-align: right;\">\n",
       "      <th></th>\n",
       "      <th>default</th>\n",
       "      <th>student</th>\n",
       "      <th>balance</th>\n",
       "      <th>income</th>\n",
       "    </tr>\n",
       "  </thead>\n",
       "  <tbody>\n",
       "    <tr>\n",
       "      <th>0</th>\n",
       "      <td>No</td>\n",
       "      <td>No</td>\n",
       "      <td>729.526495</td>\n",
       "      <td>44361.625074</td>\n",
       "    </tr>\n",
       "    <tr>\n",
       "      <th>1</th>\n",
       "      <td>No</td>\n",
       "      <td>Yes</td>\n",
       "      <td>817.180407</td>\n",
       "      <td>12106.134700</td>\n",
       "    </tr>\n",
       "    <tr>\n",
       "      <th>2</th>\n",
       "      <td>No</td>\n",
       "      <td>No</td>\n",
       "      <td>1073.549164</td>\n",
       "      <td>31767.138947</td>\n",
       "    </tr>\n",
       "    <tr>\n",
       "      <th>3</th>\n",
       "      <td>No</td>\n",
       "      <td>No</td>\n",
       "      <td>529.250605</td>\n",
       "      <td>35704.493935</td>\n",
       "    </tr>\n",
       "    <tr>\n",
       "      <th>4</th>\n",
       "      <td>No</td>\n",
       "      <td>No</td>\n",
       "      <td>785.655883</td>\n",
       "      <td>38463.495879</td>\n",
       "    </tr>\n",
       "  </tbody>\n",
       "</table>\n",
       "</div>"
      ]
     },
     "execution_count": 45,
     "metadata": {},
     "output_type": "execute_result"
    }
   ],
   "execution_count": 45
  },
  {
   "cell_type": "code",
   "metadata": {
    "ExecuteTime": {
     "end_time": "2024-04-18T05:47:03.484469Z",
     "start_time": "2024-04-18T05:47:03.473555Z"
    }
   },
   "source": [
    "df['student'] = df.student.map({'No':0, 'Yes':1})\n",
    "df['default'] = df.default.map({'No':-1, 'Yes':1})\n",
    "df.head()"
   ],
   "outputs": [
    {
     "data": {
      "text/plain": [
       "   default  student      balance        income\n",
       "0       -1        0   729.526495  44361.625074\n",
       "1       -1        1   817.180407  12106.134700\n",
       "2       -1        0  1073.549164  31767.138947\n",
       "3       -1        0   529.250605  35704.493935\n",
       "4       -1        0   785.655883  38463.495879"
      ],
      "text/html": [
       "<div>\n",
       "<style scoped>\n",
       "    .dataframe tbody tr th:only-of-type {\n",
       "        vertical-align: middle;\n",
       "    }\n",
       "\n",
       "    .dataframe tbody tr th {\n",
       "        vertical-align: top;\n",
       "    }\n",
       "\n",
       "    .dataframe thead th {\n",
       "        text-align: right;\n",
       "    }\n",
       "</style>\n",
       "<table border=\"1\" class=\"dataframe\">\n",
       "  <thead>\n",
       "    <tr style=\"text-align: right;\">\n",
       "      <th></th>\n",
       "      <th>default</th>\n",
       "      <th>student</th>\n",
       "      <th>balance</th>\n",
       "      <th>income</th>\n",
       "    </tr>\n",
       "  </thead>\n",
       "  <tbody>\n",
       "    <tr>\n",
       "      <th>0</th>\n",
       "      <td>-1</td>\n",
       "      <td>0</td>\n",
       "      <td>729.526495</td>\n",
       "      <td>44361.625074</td>\n",
       "    </tr>\n",
       "    <tr>\n",
       "      <th>1</th>\n",
       "      <td>-1</td>\n",
       "      <td>1</td>\n",
       "      <td>817.180407</td>\n",
       "      <td>12106.134700</td>\n",
       "    </tr>\n",
       "    <tr>\n",
       "      <th>2</th>\n",
       "      <td>-1</td>\n",
       "      <td>0</td>\n",
       "      <td>1073.549164</td>\n",
       "      <td>31767.138947</td>\n",
       "    </tr>\n",
       "    <tr>\n",
       "      <th>3</th>\n",
       "      <td>-1</td>\n",
       "      <td>0</td>\n",
       "      <td>529.250605</td>\n",
       "      <td>35704.493935</td>\n",
       "    </tr>\n",
       "    <tr>\n",
       "      <th>4</th>\n",
       "      <td>-1</td>\n",
       "      <td>0</td>\n",
       "      <td>785.655883</td>\n",
       "      <td>38463.495879</td>\n",
       "    </tr>\n",
       "  </tbody>\n",
       "</table>\n",
       "</div>"
      ]
     },
     "execution_count": 46,
     "metadata": {},
     "output_type": "execute_result"
    }
   ],
   "execution_count": 46
  },
  {
   "cell_type": "code",
   "metadata": {
    "ExecuteTime": {
     "end_time": "2024-04-18T05:47:07.150453Z",
     "start_time": "2024-04-18T05:47:07.143387Z"
    }
   },
   "source": [
    "y = df.default.values\n",
    "X = df.drop(\"default\", axis=1).values\n",
    "train_X, train_y, test_X, test_y = train_test_split_np(X, y)\n",
    "\n",
    "print(train_X.shape, train_y.shape)\n",
    "print(test_X.shape, test_y.shape)\n",
    "print()\n",
    "print('With labels of {-1: \"No\", 1: \"Yes\"},')\n",
    "print('First five labels in training set:', train_y[:5])"
   ],
   "outputs": [
    {
     "name": "stdout",
     "output_type": "stream",
     "text": [
      "(8000, 3) (8000,)\n",
      "(2000, 3) (2000,)\n",
      "\n",
      "With labels of {-1: \"No\", 1: \"Yes\"},\n",
      "First five labels in training set: [-1 -1 -1 -1 -1]\n"
     ]
    }
   ],
   "execution_count": 47
  },
  {
   "cell_type": "markdown",
   "metadata": {},
   "source": [
    "### 4-1. Decision Tree Classifier for AdaBoost"
   ]
  },
  {
   "cell_type": "code",
   "metadata": {
    "ExecuteTime": {
     "end_time": "2024-04-18T05:47:49.319185Z",
     "start_time": "2024-04-18T05:47:49.311590Z"
    }
   },
   "source": [
    "class DecisionTreeBinaryClassifier:\n",
    "    def __init__(self, max_depth=None):\n",
    "        self.max_depth = max_depth\n",
    "\n",
    "    def fit(self, X, y):\n",
    "        self.tree = self._grow_tree(X, y)\n",
    "\n",
    "    def _grow_tree(self, X, y, depth=0):\n",
    "        # Stopping criteria\n",
    "        n_labels = len(np.unique(y))\n",
    "        if (self.max_depth is not None and depth == self.max_depth) or n_labels == 1:\n",
    "            y[y==-1] = 0\n",
    "            return 2 * np.argmax(np.bincount(y)) - 1\n",
    "\n",
    "        # Find the best split\n",
    "        feature_idx, threshold = self._best_split(X, y)\n",
    "        left_indices = X[:, feature_idx] < threshold\n",
    "        X_left, y_left = X[left_indices], y[left_indices]\n",
    "        X_right, y_right = X[~left_indices], y[~left_indices]\n",
    "\n",
    "        # Recursively grow the tree\n",
    "        left_tree = self._grow_tree(X_left, y_left, depth + 1)\n",
    "        right_tree = self._grow_tree(X_right, y_right, depth + 1)\n",
    "\n",
    "        return [feature_idx, threshold, left_tree, right_tree]\n",
    "\n",
    "    def _best_split(self, X, y):\n",
    "        n_features = X.shape[1]\n",
    "        best_feature_idx, best_threshold, min_entropy = None, None, float('inf')\n",
    "\n",
    "        for feature_idx in range(n_features):\n",
    "            thresholds = np.unique(X[:, feature_idx])\n",
    "\n",
    "            for threshold in thresholds:\n",
    "                y_left = y[X[:, feature_idx] < threshold]\n",
    "                y_right = y[X[:, feature_idx] >= threshold]\n",
    "\n",
    "                entropy = self._entropy(y_left, y_right)\n",
    "                if entropy < min_entropy:\n",
    "                    best_feature_idx, best_threshold, min_entropy = feature_idx, threshold, entropy\n",
    "\n",
    "        return best_feature_idx, best_threshold\n",
    "\n",
    "    def _entropy(self, y_left, y_right):\n",
    "        n_left, n_right = len(y_left), len(y_right)\n",
    "        n_total = n_left + n_right\n",
    "        \n",
    "        p_left = np.unique(y_left, return_counts=True)[1] / n_left\n",
    "        p_right = np.unique(y_right, return_counts=True)[1] / n_right\n",
    "\n",
    "        entropy_left = -np.sum(p_left * np.log(p_left))\n",
    "        entropy_right = -np.sum(p_right * np.log(p_right))\n",
    "        \n",
    "        return (n_left / n_total) * entropy_left + (n_right / n_total) * entropy_right\n",
    "    \n",
    "    def predict(self, X):\n",
    "        return np.array([self._predict(x, self.tree) for x in X])\n",
    "    \n",
    "    def _predict(self, x, tree):\n",
    "        if not isinstance(tree, list):\n",
    "            return tree\n",
    "\n",
    "        feature_idx, threshold, left_tree, right_tree = tree\n",
    "        if x[feature_idx] < threshold:\n",
    "            return self._predict(x, left_tree)\n",
    "        else:\n",
    "            return self._predict(x, right_tree)"
   ],
   "outputs": [],
   "execution_count": 48
  },
  {
   "cell_type": "markdown",
   "metadata": {},
   "source": [
    "### 4-2 AdaBoost Binary Classifier"
   ]
  },
  {
   "cell_type": "code",
   "metadata": {
    "ExecuteTime": {
     "end_time": "2024-04-18T05:54:28.357396Z",
     "start_time": "2024-04-18T05:54:28.349324Z"
    }
   },
   "source": [
    "class AdaBoost:\n",
    "    def __init__(self, n_estimators=100):\n",
    "        self.n_estimators = n_estimators\n",
    "\n",
    "    def fit(self, X, y):\n",
    "        n_samples = len(X)\n",
    "        weights = np.full(n_samples, 1 / n_samples)\n",
    "        \n",
    "        self.models = []\n",
    "        for _ in range(self.n_estimators):\n",
    "            model = DecisionTreeBinaryClassifier(max_depth=1)\n",
    "            \n",
    "            indices = np.random.choice(n_samples, size=n_samples, replace=True, p=weights)\n",
    "            model.fit(X[indices], y[indices])\n",
    "\n",
    "            y_pred = model.predict(X)\n",
    "            error_rate = np.sum(y != y_pred) / n_samples\n",
    "\n",
    "            alpha = 0.5 * np.log((1 - error_rate + 1e-7) / error_rate)\n",
    "            \n",
    "            ##################\n",
    "            # IMPLEMENT HERE #\n",
    "            ##################\n",
    "            \n",
    "            weights *= np.exp(-alpha * y * y_pred) ## update weights\n",
    "            weights /= np.sum(weights) ## normalize weights\n",
    "            \n",
    "            ##################\n",
    "            ##################\n",
    "\n",
    "            self.models.append((alpha, model))\n",
    "\n",
    "    def predict(self, X):\n",
    "        n_samples = len(X)\n",
    "        y_pred = np.zeros(n_samples)\n",
    "\n",
    "        for alpha, model in self.models:\n",
    "            y_pred += alpha * model.predict(X)\n",
    "\n",
    "        return np.sign(y_pred)"
   ],
   "outputs": [],
   "execution_count": 49
  },
  {
   "cell_type": "code",
   "metadata": {
    "ExecuteTime": {
     "end_time": "2024-04-18T05:54:46.097485Z",
     "start_time": "2024-04-18T05:54:30.752155Z"
    }
   },
   "source": [
    "ada = AdaBoost(n_estimators=100)\n",
    "ada.fit(train_X, train_y)\n",
    "pred_y = ada.predict(test_X)\n",
    "\n",
    "print('Accuracy: ', accuracy(test_y, pred_y))"
   ],
   "outputs": [
    {
     "name": "stdout",
     "output_type": "stream",
     "text": [
      "Accuracy:  0.9705\n"
     ]
    }
   ],
   "execution_count": 50
  },
  {
   "cell_type": "markdown",
   "metadata": {},
   "source": [
    "# 5. Hierarchical Clustering"
   ]
  },
  {
   "cell_type": "markdown",
   "metadata": {},
   "source": [
    "### 5-0. Data Setting"
   ]
  },
  {
   "cell_type": "code",
   "metadata": {
    "ExecuteTime": {
     "end_time": "2024-04-18T05:56:00.523879Z",
     "start_time": "2024-04-18T05:56:00.519021Z"
    }
   },
   "source": [
    "from sklearn import datasets\n",
    "iris = datasets.load_iris()\n",
    "X = iris.data\n",
    "y = iris.target\n",
    "label_dict = {0: \"Setosa\", 1: \"Versicolor\", 2: \"Virginica\"}"
   ],
   "outputs": [],
   "execution_count": 51
  },
  {
   "cell_type": "code",
   "metadata": {
    "ExecuteTime": {
     "end_time": "2024-04-18T05:56:02.764215Z",
     "start_time": "2024-04-18T05:56:02.759848Z"
    }
   },
   "source": [
    "train_X, train_y, test_X, test_y = train_test_split_np(X, y)\n",
    "print(train_X.shape, train_y.shape)\n",
    "print(test_X.shape, test_y.shape)\n",
    "print()\n",
    "print('With labels of {0: \"Setosa\", 1: \"Versicolor\", 2: \"Virginica\"},')\n",
    "print('First five labels in training set:', train_y[:5])"
   ],
   "outputs": [
    {
     "name": "stdout",
     "output_type": "stream",
     "text": [
      "(120, 4) (120,)\n",
      "(30, 4) (30,)\n",
      "\n",
      "With labels of {0: \"Setosa\", 1: \"Versicolor\", 2: \"Virginica\"},\n",
      "First five labels in training set: [0 0 2 0 0]\n"
     ]
    }
   ],
   "execution_count": 52
  },
  {
   "cell_type": "markdown",
   "metadata": {},
   "source": [
    "### 5-1. Hierarchical Clustering"
   ]
  },
  {
   "cell_type": "code",
   "metadata": {
    "ExecuteTime": {
     "end_time": "2024-04-18T06:06:34.966150Z",
     "start_time": "2024-04-18T06:06:34.959892Z"
    }
   },
   "source": [
    "# Agglomerative clustering with Closest Pair Option\n",
    "class HierarchicalClustering:\n",
    "    def __init__(self, n_clusters=3):\n",
    "        self.n_clusters = n_clusters\n",
    "\n",
    "    def fit(self, X):\n",
    "        n_samples, n_features = X.shape\n",
    "        self.labels = np.arange(n_samples)\n",
    "\n",
    "        while len(np.unique(self.labels)) > self.n_clusters:\n",
    "            min_dist = float('inf')\n",
    "            for i in range(n_samples):\n",
    "                for j in range(i + 1, n_samples):\n",
    "                    if self.labels[i] != self.labels[j]:\n",
    "                        dist = np.linalg.norm(X[i] - X[j])\n",
    "                        if dist < min_dist:\n",
    "                            min_dist = dist\n",
    "                            merge_i, merge_j = i, j\n",
    "                            \n",
    "            ##################\n",
    "            # IMPLEMENT HERE #\n",
    "            ##################\n",
    "            \n",
    "            ## label update\n",
    "            self.labels[self.labels == self.labels[merge_j]] = self.labels[merge_i]\n",
    "            \n",
    "            ##################\n",
    "            ##################\n",
    "\n",
    "    def get_labels(self):\n",
    "        return self.labels"
   ],
   "outputs": [],
   "execution_count": 53
  },
  {
   "cell_type": "code",
   "metadata": {
    "ExecuteTime": {
     "end_time": "2024-04-18T06:06:42.929511Z",
     "start_time": "2024-04-18T06:06:40.975140Z"
    }
   },
   "source": [
    "hc = HierarchicalClustering(n_clusters=3)\n",
    "hc.fit(train_X)"
   ],
   "outputs": [],
   "execution_count": 54
  },
  {
   "cell_type": "code",
   "metadata": {
    "ExecuteTime": {
     "end_time": "2024-04-18T06:06:45.659142Z",
     "start_time": "2024-04-18T06:06:45.654435Z"
    }
   },
   "source": [
    "hc.get_labels()"
   ],
   "outputs": [
    {
     "data": {
      "text/plain": [
       "array([51, 51, 36, 51, 51, 36, 36, 36, 36, 36, 36, 51, 51, 51, 36, 51, 51,\n",
       "       36, 51, 51, 20, 36, 51, 36, 36, 36, 36, 36, 36, 36, 36, 36, 51, 36,\n",
       "       36, 36, 36, 51, 51, 51, 36, 36, 51, 36, 36, 36, 36, 36, 36, 36, 36,\n",
       "       51, 36, 36, 51, 36, 51, 36, 51, 51, 36, 36, 51, 36, 36, 36, 36, 36,\n",
       "       36, 36, 36, 51, 36, 36, 51, 51, 51, 36, 36, 36, 36, 36, 51, 36, 36,\n",
       "       36, 36, 51, 36, 36, 36, 36, 36, 36, 36, 36, 51, 51, 36, 36, 36, 36,\n",
       "       51, 36, 51, 36, 36, 51, 36, 20, 51, 36, 36, 36, 51, 36, 51, 51, 51,\n",
       "       36])"
      ]
     },
     "execution_count": 55,
     "metadata": {},
     "output_type": "execute_result"
    }
   ],
   "execution_count": 55
  },
  {
   "cell_type": "markdown",
   "metadata": {},
   "source": [
    "# 6. Principal Component Analysis"
   ]
  },
  {
   "cell_type": "markdown",
   "metadata": {},
   "source": [
    "### 6-0. Data Setting"
   ]
  },
  {
   "cell_type": "code",
   "metadata": {
    "ExecuteTime": {
     "end_time": "2024-04-18T06:07:07.048808Z",
     "start_time": "2024-04-18T06:07:07.043418Z"
    }
   },
   "source": [
    "from sklearn import datasets\n",
    "iris = datasets.load_iris()\n",
    "X = iris.data\n",
    "y = iris.target\n",
    "label_dict = {0: \"Setosa\", 1: \"Versicolor\", 2: \"Virginica\"}"
   ],
   "outputs": [],
   "execution_count": 56
  },
  {
   "cell_type": "code",
   "metadata": {
    "ExecuteTime": {
     "end_time": "2024-04-18T06:07:09.139907Z",
     "start_time": "2024-04-18T06:07:09.135723Z"
    }
   },
   "source": [
    "train_X, train_y, test_X, test_y = train_test_split_np(X, y)\n",
    "print(train_X.shape, train_y.shape)\n",
    "print(test_X.shape, test_y.shape)\n",
    "print()\n",
    "print('With labels of {0: \"Setosa\", 1: \"Versicolor\", 2: \"Virginica\"},')\n",
    "print('First five labels in training set:', train_y[:5])"
   ],
   "outputs": [
    {
     "name": "stdout",
     "output_type": "stream",
     "text": [
      "(120, 4) (120,)\n",
      "(30, 4) (30,)\n",
      "\n",
      "With labels of {0: \"Setosa\", 1: \"Versicolor\", 2: \"Virginica\"},\n",
      "First five labels in training set: [1 1 2 1 0]\n"
     ]
    }
   ],
   "execution_count": 57
  },
  {
   "cell_type": "code",
   "metadata": {
    "ExecuteTime": {
     "end_time": "2024-04-18T06:07:22.170216Z",
     "start_time": "2024-04-18T06:07:22.165762Z"
    }
   },
   "source": [
    "# PCA with numpy\n",
    "class PCA:\n",
    "    def __init__(self, n_components):\n",
    "        self.n_components = n_components\n",
    "\n",
    "    def fit(self, X):\n",
    "        n_samples, n_features = X.shape\n",
    "\n",
    "        # Calculate the mean of the data\n",
    "        self.mean = np.mean(X, axis=0)\n",
    "\n",
    "        # Center the data\n",
    "        X_centered = X - self.mean\n",
    "\n",
    "        # Calculate the covariance matrix\n",
    "        self.cov_matrix = np.cov(X_centered, rowvar=False)\n",
    "\n",
    "        # Calculate the eigenvalues and eigenvectors of the covariance matrix\n",
    "        self.eigenvalues, self.eigenvectors = np.linalg.eigh(self.cov_matrix)\n",
    "\n",
    "        # Sort the eigenvectors by decreasing eigenvalues\n",
    "        idx = np.argsort(self.eigenvalues)[::-1]\n",
    "        self.eigenvalues = self.eigenvalues[idx]\n",
    "        self.eigenvectors = self.eigenvectors[:, idx]\n",
    "\n",
    "        # Select the top n_components eigenvectors\n",
    "        self.components = self.eigenvectors[:, :self.n_components]\n",
    "\n",
    "    def transform(self, X):\n",
    "        # Center the data\n",
    "        X_centered = X - self.mean\n",
    "\n",
    "        # Project the data onto the principal components\n",
    "        return np.dot(X_centered, self.components)\n",
    "\n",
    "    def fit_transform(self, X):\n",
    "        self.fit(X)\n",
    "        return self.transform(X)"
   ],
   "outputs": [],
   "execution_count": 59
  },
  {
   "cell_type": "code",
   "metadata": {
    "ExecuteTime": {
     "end_time": "2024-04-18T06:07:24.025404Z",
     "start_time": "2024-04-18T06:07:23.765754Z"
    }
   },
   "source": [
    "pca = PCA(n_components=2)\n",
    "X_pca = pca.fit_transform(X)\n",
    "\n",
    "# visualize X_pca\n",
    "plt.scatter(X_pca[:, 0], X_pca[:, 1], c=y, cmap='viridis', edgecolor='k')\n",
    "plt.xlabel('Principal Component 1')\n",
    "plt.ylabel('Principal Component 2')\n",
    "plt.title('PCA')\n",
    "plt.show()"
   ],
   "outputs": [
    {
     "data": {
      "text/plain": [
       "<Figure size 640x480 with 1 Axes>"
      ],
      "image/png": "[encoded data removed]"
     },
     "metadata": {},
     "output_type": "display_data"
    }
   ],
   "execution_count": 60
  }
 ],
 "metadata": {
  "colab": {
   "provenance": []
  },
  "kernelspec": {
   "display_name": "Python 3 (ipykernel)",
   "name": "python3",
   "language": "python"
  },
  "language_info": {
   "codemirror_mode": {
    "name": "ipython",
    "version": 3
   },
   "file_extension": ".py",
   "mimetype": "text/x-python",
   "name": "python",
   "nbconvert_exporter": "python",
   "pygments_lexer": "ipython3",
   "version": "3.10.12"
  }
 },
 "nbformat": 4,
 "nbformat_minor": 0
}
