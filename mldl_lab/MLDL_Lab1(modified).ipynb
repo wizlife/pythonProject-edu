{
 "nbformat": 4,
 "nbformat_minor": 0,
 "metadata": {
  "colab": {
   "provenance": []
  },
  "kernelspec": {
   "name": "python3",
   "language": "python",
   "display_name": "Python 3 (ipykernel)"
  },
  "language_info": {
   "name": "python"
  }
 },
 "cells": [
  {
   "cell_type": "code",
   "source": [
    "import itertools\n",
    "import numpy as np\n",
    "import pandas as pd\n",
    "import seaborn as sns\n",
    "import matplotlib.pyplot as plt\n",
    "import warnings\n",
    "warnings.filterwarnings(action='ignore')"
   ],
   "metadata": {
    "id": "wgpWPsH6z2F9",
    "executionInfo": {
     "status": "ok",
     "timestamp": 1711797676899,
     "user_tz": -540,
     "elapsed": 1628,
     "user": {
      "displayName": "JS PARK",
      "userId": "04972937794194309399"
     }
    },
    "ExecuteTime": {
     "end_time": "2024-04-25T14:18:15.683561Z",
     "start_time": "2024-04-25T14:18:15.681023Z"
    }
   },
   "outputs": [],
   "execution_count": 2
  },
  {
   "cell_type": "markdown",
   "source": [
    "# 0. Numpy & Pandas basics"
   ],
   "metadata": {
    "id": "IsSv5oFEJ3EB"
   }
  },
  {
   "cell_type": "markdown",
   "source": [
    "## Numpy arrays"
   ],
   "metadata": {
    "id": "tu_k5QaC-hdm"
   }
  },
  {
   "cell_type": "code",
   "metadata": {
    "id": "QQp4Z7uN-VpK",
    "ExecuteTime": {
     "end_time": "2024-04-08T03:13:38.142375Z",
     "start_time": "2024-04-08T03:13:38.140676Z"
    }
   },
   "source": "import numpy as np",
   "outputs": [],
   "execution_count": 1
  },
  {
   "cell_type": "markdown",
   "source": [
    "### Generating an array\n",
    "- `np.array()`\n",
    "- `np.arange()`\n",
    "- `np.zeros()`\n",
    "- `np.ones()`\n",
    "- `np.eye()`"
   ],
   "metadata": {
    "id": "CG1UOSDG_8zO"
   }
  },
  {
   "cell_type": "code",
   "source": [
    "a = [[1, 2, 3], [4, 5, 6],[7,8,9],[10,11,12]] # generate from list\n",
    "b = np.array(a)\n",
    "print(b)\n",
    "# c=np.array((1,2,3,4,5,6))\n",
    "# print(c)\n",
    "# print(c.reshape(2,3))\n",
    "\n",
    "c=np.array([1,2,3]).reshape(3,1)\n",
    "print(c)\n",
    "\n",
    "z=b + c.T\n",
    "print(z)\n",
    "y= b + 1\n",
    "print(y)\n"
   ],
   "metadata": {
    "colab": {
     "base_uri": "https://localhost:8080/"
    },
    "id": "jIkKEhDR-bQt",
    "executionInfo": {
     "status": "ok",
     "timestamp": 1711797700799,
     "user_tz": -540,
     "elapsed": 769,
     "user": {
      "displayName": "JS PARK",
      "userId": "04972937794194309399"
     }
    },
    "outputId": "53b9098a-beb6-440e-f968-b0e4c52379c0",
    "ExecuteTime": {
     "end_time": "2024-04-08T03:18:32.360280Z",
     "start_time": "2024-04-08T03:18:32.357585Z"
    }
   },
   "outputs": [
    {
     "name": "stdout",
     "output_type": "stream",
     "text": [
      "[[ 1  2  3]\n",
      " [ 4  5  6]\n",
      " [ 7  8  9]\n",
      " [10 11 12]]\n",
      "[[1]\n",
      " [2]\n",
      " [3]]\n",
      "[[ 2  4  6]\n",
      " [ 5  7  9]\n",
      " [ 8 10 12]\n",
      " [11 13 15]]\n",
      "[[ 2  3  4]\n",
      " [ 5  6  7]\n",
      " [ 8  9 10]\n",
      " [11 12 13]]\n"
     ]
    }
   ],
   "execution_count": 10
  },
  {
   "cell_type": "code",
   "source": [
    "print(f\"number of rows : {b.ndim}\")\n",
    "print(f\"number of columns : {b.shape[1]}\")"
   ],
   "metadata": {
    "colab": {
     "base_uri": "https://localhost:8080/"
    },
    "id": "7O1YU0Qs-oDt",
    "executionInfo": {
     "status": "ok",
     "timestamp": 1711587222692,
     "user_tz": -540,
     "elapsed": 3,
     "user": {
      "displayName": "­전유진 / 학생 / 데이터사이언스학과",
      "userId": "15652399905532456357"
     }
    },
    "outputId": "16fb745b-f3c6-476c-a7a8-155adf8c9d4c",
    "ExecuteTime": {
     "end_time": "2024-04-03T13:04:24.801236Z",
     "start_time": "2024-04-03T13:04:24.798323Z"
    }
   },
   "execution_count": 5,
   "outputs": [
    {
     "name": "stdout",
     "output_type": "stream",
     "text": [
      "number of rows : 2\n",
      "number of columns : 3\n"
     ]
    }
   ]
  },
  {
   "cell_type": "code",
   "source": [
    "print(np.arange(10))\n",
    "print(np.arange(5, 10))\n",
    "\n",
    "b = [np.arange(10), np.arange(2,10)]\n",
    "print(b)"
   ],
   "metadata": {
    "collapsed": false,
    "ExecuteTime": {
     "end_time": "2024-04-08T03:16:09.753955Z",
     "start_time": "2024-04-08T03:16:09.750392Z"
    }
   },
   "outputs": [
    {
     "name": "stdout",
     "output_type": "stream",
     "text": [
      "[0 1 2 3 4 5 6 7 8 9]\n",
      "[5 6 7 8 9]\n",
      "[array([0, 1, 2, 3, 4, 5, 6, 7, 8, 9]), array([2, 3, 4, 5, 6, 7, 8, 9])]\n"
     ]
    }
   ],
   "execution_count": 3
  },
  {
   "cell_type": "code",
   "source": [
    "z = np.zeros((2, 2))  # 2x2 zero matrix\n",
    "#z = np.empty((2,2))\n",
    "print(z)"
   ],
   "metadata": {
    "colab": {
     "base_uri": "https://localhost:8080/"
    },
    "id": "WZs8cweX_Prw",
    "executionInfo": {
     "status": "ok",
     "timestamp": 1710420284042,
     "user_tz": -540,
     "elapsed": 3,
     "user": {
      "displayName": "­전유진 / 학생 / 데이터사이언스학과",
      "userId": "15652399905532456357"
     }
    },
    "outputId": "4ca3c7dd-d573-4aac-b630-436cf33c6e83",
    "ExecuteTime": {
     "end_time": "2024-04-25T14:18:32.768825Z",
     "start_time": "2024-04-25T14:18:32.766907Z"
    }
   },
   "outputs": [
    {
     "name": "stdout",
     "output_type": "stream",
     "text": [
      "[[0. 0.]\n",
      " [0. 0.]]\n"
     ]
    }
   ],
   "execution_count": 6
  },
  {
   "cell_type": "code",
   "source": [
    "print(np.ones((2, 3))) # 2x3 unit matrix"
   ],
   "metadata": {
    "colab": {
     "base_uri": "https://localhost:8080/"
    },
    "id": "pfy81IlV_k_d",
    "executionInfo": {
     "status": "ok",
     "timestamp": 1710420299834,
     "user_tz": -540,
     "elapsed": 268,
     "user": {
      "displayName": "­전유진 / 학생 / 데이터사이언스학과",
      "userId": "15652399905532456357"
     }
    },
    "outputId": "aaf01e00-6e5e-4f1d-a68c-6037b0788d56",
    "ExecuteTime": {
     "end_time": "2024-04-03T13:04:49.769798Z",
     "start_time": "2024-04-03T13:04:49.766682Z"
    }
   },
   "execution_count": 8,
   "outputs": [
    {
     "name": "stdout",
     "output_type": "stream",
     "text": [
      "[[1. 1. 1.]\n",
      " [1. 1. 1.]]\n"
     ]
    }
   ]
  },
  {
   "cell_type": "code",
   "source": [
    "z=np.eye(3) # 3x3 identity matrix\n",
    "print(z)"
   ],
   "metadata": {
    "colab": {
     "base_uri": "https://localhost:8080/"
    },
    "id": "qrpVt7VI_oxg",
    "executionInfo": {
     "status": "ok",
     "timestamp": 1710420349006,
     "user_tz": -540,
     "elapsed": 471,
     "user": {
      "displayName": "­전유진 / 학생 / 데이터사이언스학과",
      "userId": "15652399905532456357"
     }
    },
    "outputId": "30990de2-0329-4ad5-be5d-bb9744509e94",
    "ExecuteTime": {
     "end_time": "2024-04-03T13:04:59.973379Z",
     "start_time": "2024-04-03T13:04:59.970783Z"
    }
   },
   "execution_count": 9,
   "outputs": [
    {
     "name": "stdout",
     "output_type": "stream",
     "text": [
      "[[1. 0. 0.]\n",
      " [0. 1. 0.]\n",
      " [0. 0. 1.]]\n"
     ]
    }
   ]
  },
  {
   "cell_type": "markdown",
   "source": [
    "### Handling arrays\n",
    "- reshape\n",
    "- transpose\n",
    "- slicing\n",
    "- `np.stack` / `np.concatenate`"
   ],
   "metadata": {
    "id": "rEkEtZ0_ADbf"
   }
  },
  {
   "cell_type": "code",
   "source": [
    "a = np.arange(10)\n",
    "print(a.shape)\n",
    "print(a)"
   ],
   "metadata": {
    "colab": {
     "base_uri": "https://localhost:8080/"
    },
    "id": "uq15Q4AX_0xy",
    "executionInfo": {
     "status": "ok",
     "timestamp": 1711439309436,
     "user_tz": -540,
     "elapsed": 3,
     "user": {
      "displayName": "­전유진 / 학생 / 데이터사이언스학과",
      "userId": "15652399905532456357"
     }
    },
    "outputId": "d5d192bf-d8e6-49bf-d9a1-6fc8c70474ec",
    "ExecuteTime": {
     "end_time": "2024-04-25T14:18:49.310997Z",
     "start_time": "2024-04-25T14:18:49.308196Z"
    }
   },
   "outputs": [
    {
     "name": "stdout",
     "output_type": "stream",
     "text": [
      "(10,)\n",
      "[0 1 2 3 4 5 6 7 8 9]\n"
     ]
    }
   ],
   "execution_count": 9
  },
  {
   "cell_type": "code",
   "source": [
    "b = a.reshape((2, 5))\n",
    "print(b.shape)\n",
    "print(b)\n",
    "print(np.mean(b))"
   ],
   "metadata": {
    "colab": {
     "base_uri": "https://localhost:8080/"
    },
    "id": "usQMSWBjANlc",
    "executionInfo": {
     "status": "ok",
     "timestamp": 1711439310568,
     "user_tz": -540,
     "elapsed": 3,
     "user": {
      "displayName": "­전유진 / 학생 / 데이터사이언스학과",
      "userId": "15652399905532456357"
     }
    },
    "outputId": "32bfe5b1-f034-4748-b17b-77518c74064e",
    "ExecuteTime": {
     "end_time": "2024-04-25T14:24:23.286296Z",
     "start_time": "2024-04-25T14:24:23.284067Z"
    }
   },
   "outputs": [
    {
     "name": "stdout",
     "output_type": "stream",
     "text": [
      "(2, 5)\n",
      "[[0 1 2 3 4]\n",
      " [5 6 7 8 9]]\n",
      "4.5\n"
     ]
    }
   ],
   "execution_count": 16
  },
  {
   "cell_type": "code",
   "source": [
    "c = b.transpose()\n",
    "print(c.shape)\n",
    "print(c)"
   ],
   "metadata": {
    "colab": {
     "base_uri": "https://localhost:8080/"
    },
    "id": "0bU36j0_uqVH",
    "executionInfo": {
     "status": "ok",
     "timestamp": 1711439317516,
     "user_tz": -540,
     "elapsed": 256,
     "user": {
      "displayName": "­전유진 / 학생 / 데이터사이언스학과",
      "userId": "15652399905532456357"
     }
    },
    "outputId": "0ab85074-3d23-41b9-81a7-c82b74027876",
    "ExecuteTime": {
     "end_time": "2024-04-03T13:05:34.666050Z",
     "start_time": "2024-04-03T13:05:34.663486Z"
    }
   },
   "execution_count": 12,
   "outputs": [
    {
     "name": "stdout",
     "output_type": "stream",
     "text": [
      "(5, 2)\n",
      "[[0 5]\n",
      " [1 6]\n",
      " [2 7]\n",
      " [3 8]\n",
      " [4 9]]\n"
     ]
    }
   ]
  },
  {
   "cell_type": "code",
   "source": [
    "print(b[:3, :3])"
   ],
   "metadata": {
    "colab": {
     "base_uri": "https://localhost:8080/"
    },
    "id": "7KSg72vWAPHV",
    "executionInfo": {
     "status": "ok",
     "timestamp": 1711439323770,
     "user_tz": -540,
     "elapsed": 289,
     "user": {
      "displayName": "­전유진 / 학생 / 데이터사이언스학과",
      "userId": "15652399905532456357"
     }
    },
    "outputId": "92b0d627-8d97-4658-e979-297dd65b4112",
    "ExecuteTime": {
     "end_time": "2024-04-03T13:05:39.936454Z",
     "start_time": "2024-04-03T13:05:39.933778Z"
    }
   },
   "execution_count": 13,
   "outputs": [
    {
     "name": "stdout",
     "output_type": "stream",
     "text": [
      "[[0 1 2]\n",
      " [5 6 7]]\n"
     ]
    }
   ]
  },
  {
   "cell_type": "code",
   "source": [
    "print(b[1:, 0:])"
   ],
   "metadata": {
    "colab": {
     "base_uri": "https://localhost:8080/"
    },
    "id": "spvWZZx-Als5",
    "executionInfo": {
     "status": "ok",
     "timestamp": 1711439324032,
     "user_tz": -540,
     "elapsed": 4,
     "user": {
      "displayName": "­전유진 / 학생 / 데이터사이언스학과",
      "userId": "15652399905532456357"
     }
    },
    "outputId": "b7319c61-dde9-4411-f085-594a79127c66",
    "ExecuteTime": {
     "end_time": "2024-04-03T13:05:55.619873Z",
     "start_time": "2024-04-03T13:05:55.617305Z"
    }
   },
   "execution_count": 14,
   "outputs": [
    {
     "name": "stdout",
     "output_type": "stream",
     "text": [
      "[[5 6 7 8 9]]\n"
     ]
    }
   ]
  },
  {
   "cell_type": "code",
   "source": [
    "# hstack\n",
    "a = np.array([1, 2, 3])\n",
    "print(a.ndim)\n",
    "b = np.array([4, 5, 6])\n",
    "\n",
    "z=np.hstack((a ,b))\n",
    "print(z.ndim, z.shape, z)"
   ],
   "metadata": {
    "colab": {
     "base_uri": "https://localhost:8080/"
    },
    "id": "uQf9plfRmNrw",
    "executionInfo": {
     "status": "ok",
     "timestamp": 1710749214126,
     "user_tz": -540,
     "elapsed": 421,
     "user": {
      "displayName": "­전유진 / 학생 / 데이터사이언스학과",
      "userId": "15652399905532456357"
     }
    },
    "outputId": "f9d8de6b-f130-42bf-9c47-ed4202a154bf",
    "ExecuteTime": {
     "end_time": "2024-04-03T13:21:18.598478Z",
     "start_time": "2024-04-03T13:21:18.595784Z"
    }
   },
   "execution_count": 33,
   "outputs": [
    {
     "name": "stdout",
     "output_type": "stream",
     "text": [
      "1\n",
      "1 (6,) [1 2 3 4 5 6]\n"
     ]
    }
   ]
  },
  {
   "cell_type": "code",
   "source": [
    "y=np.concatenate((a,b), axis=90)\n",
    "print(y.ndim, y.shape)\n",
    "print(y)"
   ],
   "metadata": {
    "colab": {
     "base_uri": "https://localhost:8080/"
    },
    "id": "KPj8mvCVmicj",
    "executionInfo": {
     "status": "ok",
     "timestamp": 1710749272636,
     "user_tz": -540,
     "elapsed": 335,
     "user": {
      "displayName": "­전유진 / 학생 / 데이터사이언스학과",
      "userId": "15652399905532456357"
     }
    },
    "outputId": "3fd50d28-d394-4fc1-b952-c90a0a539321",
    "ExecuteTime": {
     "end_time": "2024-03-31T14:27:09.409882Z",
     "start_time": "2024-03-31T14:27:09.407702Z"
    }
   },
   "execution_count": 64,
   "outputs": [
    {
     "name": "stdout",
     "output_type": "stream",
     "text": [
      "1 (6,)\n",
      "[1 2 3 4 5 6]\n"
     ]
    }
   ]
  },
  {
   "cell_type": "code",
   "source": [
    "# vstack\n",
    "a = np.array([1, 2, 3])\n",
    "b = np.array([4, 5, 6])\n",
    "y=np.vstack((a,b))\n",
    "print(y.ndim, y.shape,y)\n",
    "np.vstack((a, b))"
   ],
   "metadata": {
    "colab": {
     "base_uri": "https://localhost:8080/"
    },
    "id": "fkupKP8ZmW2Y",
    "executionInfo": {
     "status": "ok",
     "timestamp": 1710749348830,
     "user_tz": -540,
     "elapsed": 463,
     "user": {
      "displayName": "­전유진 / 학생 / 데이터사이언스학과",
      "userId": "15652399905532456357"
     }
    },
    "outputId": "f0256e04-a773-4a11-ff88-8958adfd3c00",
    "ExecuteTime": {
     "end_time": "2024-04-03T13:21:45.017010Z",
     "start_time": "2024-04-03T13:21:45.013404Z"
    }
   },
   "execution_count": 34,
   "outputs": [
    {
     "name": "stdout",
     "output_type": "stream",
     "text": [
      "2 (2, 3) [[1 2 3]\n",
      " [4 5 6]]\n"
     ]
    },
    {
     "data": {
      "text/plain": "array([[1, 2, 3],\n       [4, 5, 6]])"
     },
     "execution_count": 34,
     "metadata": {},
     "output_type": "execute_result"
    }
   ]
  },
  {
   "cell_type": "markdown",
   "source": [
    "### Numpy Operations\n",
    "\n",
    "- `+`,`-`,`*`,`/`\n",
    "- broadcasting\n",
    "- `add()`, `substract()`, `multiply()`, `divide()`\n",
    "- `dot()`, `sum()`, `prod()`, `np.linalg.inv()`\n"
   ],
   "metadata": {
    "id": "q286TPI9A4SZ"
   }
  },
  {
   "cell_type": "code",
   "source": [
    "a = np.array([1, 2, 3])\n",
    "b = np.array([4, 5, 6])\n",
    "print(a.shape)\n",
    "print(b.shape)"
   ],
   "metadata": {
    "colab": {
     "base_uri": "https://localhost:8080/"
    },
    "id": "g4LWmWJlA55A",
    "executionInfo": {
     "status": "ok",
     "timestamp": 1711439000327,
     "user_tz": -540,
     "elapsed": 281,
     "user": {
      "displayName": "­전유진 / 학생 / 데이터사이언스학과",
      "userId": "15652399905532456357"
     }
    },
    "outputId": "38bd2a8d-202c-400b-b1c4-5e45b3627f05",
    "ExecuteTime": {
     "end_time": "2024-04-25T14:51:23.486058Z",
     "start_time": "2024-04-25T14:51:23.483328Z"
    }
   },
   "outputs": [
    {
     "name": "stdout",
     "output_type": "stream",
     "text": [
      "(3,)\n",
      "(3,)\n"
     ]
    }
   ],
   "execution_count": 24
  },
  {
   "cell_type": "code",
   "source": [
    "# element-wise addition\n",
    "c = a + b\n",
    "print(c)\n",
    "c= np.add(a, b)\n",
    "print(c)"
   ],
   "metadata": {
    "colab": {
     "base_uri": "https://localhost:8080/"
    },
    "id": "ruJC90WVBS8j",
    "executionInfo": {
     "status": "ok",
     "timestamp": 1711439002971,
     "user_tz": -540,
     "elapsed": 3,
     "user": {
      "displayName": "­전유진 / 학생 / 데이터사이언스학과",
      "userId": "15652399905532456357"
     }
    },
    "outputId": "48d504bc-dd57-4edc-99a1-77c429154bc4",
    "ExecuteTime": {
     "end_time": "2024-04-25T14:51:25.189301Z",
     "start_time": "2024-04-25T14:51:25.186571Z"
    }
   },
   "outputs": [
    {
     "name": "stdout",
     "output_type": "stream",
     "text": [
      "[5 7 9]\n",
      "[5 7 9]\n"
     ]
    }
   ],
   "execution_count": 25
  },
  {
   "cell_type": "code",
   "source": [
    "# element-wise multiplication\n",
    "c = a * b\n",
    "print(c)\n",
    "c = np.multiply(a, b)\n",
    "print(c)"
   ],
   "metadata": {
    "colab": {
     "base_uri": "https://localhost:8080/"
    },
    "id": "OmHKTXKHBRFZ",
    "executionInfo": {
     "status": "ok",
     "timestamp": 1710420757502,
     "user_tz": -540,
     "elapsed": 366,
     "user": {
      "displayName": "­전유진 / 학생 / 데이터사이언스학과",
      "userId": "15652399905532456357"
     }
    },
    "outputId": "1aa5eacf-5638-4ff2-acf3-a998fbc7e544",
    "ExecuteTime": {
     "end_time": "2024-04-25T14:51:27.448737Z",
     "start_time": "2024-04-25T14:51:27.445480Z"
    }
   },
   "outputs": [
    {
     "name": "stdout",
     "output_type": "stream",
     "text": [
      "[ 4 10 18]\n",
      "[ 4 10 18]\n"
     ]
    }
   ],
   "execution_count": 26
  },
  {
   "cell_type": "code",
   "source": [
    "# element-wise division\n",
    "c = a / b\n",
    "print(c)\n",
    "c = np.divide(a, b)\n",
    "print(c)\n"
   ],
   "metadata": {
    "colab": {
     "base_uri": "https://localhost:8080/"
    },
    "id": "XKgguGcUBYfo",
    "executionInfo": {
     "status": "ok",
     "timestamp": 1710420814337,
     "user_tz": -540,
     "elapsed": 3,
     "user": {
      "displayName": "­전유진 / 학생 / 데이터사이언스학과",
      "userId": "15652399905532456357"
     }
    },
    "outputId": "1ba6ae93-b730-45ac-ad06-4815e2852f79",
    "ExecuteTime": {
     "end_time": "2024-04-25T14:51:48.202870Z",
     "start_time": "2024-04-25T14:51:48.191027Z"
    }
   },
   "outputs": [
    {
     "name": "stdout",
     "output_type": "stream",
     "text": [
      "[0.25 0.4  0.5 ]\n"
     ]
    },
    {
     "ename": "TypeError",
     "evalue": "'int' object is not iterable",
     "output_type": "error",
     "traceback": [
      "\u001B[0;31m---------------------------------------------------------------------------\u001B[0m",
      "\u001B[0;31mTypeError\u001B[0m                                 Traceback (most recent call last)",
      "Cell \u001B[0;32mIn[29], line 6\u001B[0m\n\u001B[1;32m      4\u001B[0m c \u001B[38;5;241m=\u001B[39m np\u001B[38;5;241m.\u001B[39mdivide(a, b)\n\u001B[1;32m      5\u001B[0m a \u001B[38;5;241m=\u001B[39m \u001B[38;5;241m3\u001B[39m \n\u001B[0;32m----> 6\u001B[0m \u001B[38;5;28;43;01mfor\u001B[39;49;00m\u001B[43m \u001B[49m\u001B[43m_\u001B[49m\u001B[43m \u001B[49m\u001B[38;5;129;43;01min\u001B[39;49;00m\u001B[43m \u001B[49m\u001B[43ma\u001B[49m\u001B[43m:\u001B[49m\n\u001B[1;32m      7\u001B[0m \u001B[43m  \u001B[49m\u001B[38;5;28;43mprint\u001B[39;49m\u001B[43m(\u001B[49m\u001B[43mc\u001B[49m\u001B[43m)\u001B[49m\n\u001B[1;32m      8\u001B[0m \u001B[38;5;28mprint\u001B[39m(c)\n",
      "\u001B[0;31mTypeError\u001B[0m: 'int' object is not iterable"
     ]
    }
   ],
   "execution_count": 29
  },
  {
   "cell_type": "code",
   "source": [
    "# broadcasting\n",
    "print(a * 3)"
   ],
   "metadata": {
    "colab": {
     "base_uri": "https://localhost:8080/"
    },
    "id": "dJTuHMQBtvz3",
    "executionInfo": {
     "status": "ok",
     "timestamp": 1711439032866,
     "user_tz": -540,
     "elapsed": 269,
     "user": {
      "displayName": "­전유진 / 학생 / 데이터사이언스학과",
      "userId": "15652399905532456357"
     }
    },
    "outputId": "8f0654bb-d21a-4919-bced-cfa4fc393315",
    "ExecuteTime": {
     "end_time": "2024-03-31T14:30:17.749423Z",
     "start_time": "2024-03-31T14:30:17.747008Z"
    }
   },
   "execution_count": 72,
   "outputs": [
    {
     "name": "stdout",
     "output_type": "stream",
     "text": [
      "[3 6 9]\n"
     ]
    }
   ]
  },
  {
   "cell_type": "code",
   "source": [
    "# dot product\n",
    "c = np.dot(a, b)\n",
    "print(c)"
   ],
   "metadata": {
    "colab": {
     "base_uri": "https://localhost:8080/"
    },
    "id": "y7QjpZnMBu5f",
    "executionInfo": {
     "status": "ok",
     "timestamp": 1710728988939,
     "user_tz": -540,
     "elapsed": 5,
     "user": {
      "displayName": "­전유진 / 학생 / 데이터사이언스학과",
      "userId": "15652399905532456357"
     }
    },
    "outputId": "846d0d09-3cc1-4f13-9e9b-8e9a8a76a9b0",
    "ExecuteTime": {
     "end_time": "2024-03-31T14:30:19.089647Z",
     "start_time": "2024-03-31T14:30:19.087557Z"
    }
   },
   "execution_count": 73,
   "outputs": [
    {
     "name": "stdout",
     "output_type": "stream",
     "text": [
      "32\n"
     ]
    }
   ]
  },
  {
   "cell_type": "code",
   "source": [
    "s = np.sum(a) # a = [1 2 3]\n",
    "print(s)"
   ],
   "metadata": {
    "colab": {
     "base_uri": "https://localhost:8080/"
    },
    "id": "j18rTO9cB2yj",
    "executionInfo": {
     "status": "ok",
     "timestamp": 1710420995495,
     "user_tz": -540,
     "elapsed": 3,
     "user": {
      "displayName": "­전유진 / 학생 / 데이터사이언스학과",
      "userId": "15652399905532456357"
     }
    },
    "outputId": "864d01d4-42ec-4719-ebdd-1e1a7ff67669",
    "ExecuteTime": {
     "end_time": "2024-03-31T14:31:39.303588Z",
     "start_time": "2024-03-31T14:31:39.301698Z"
    }
   },
   "execution_count": 74,
   "outputs": [
    {
     "name": "stdout",
     "output_type": "stream",
     "text": [
      "6\n"
     ]
    }
   ]
  },
  {
   "cell_type": "code",
   "source": [
    "s = np.prod(a) # a = [1 2 3]\n",
    "print(s)"
   ],
   "metadata": {
    "colab": {
     "base_uri": "https://localhost:8080/"
    },
    "id": "TYi-mi-CB7_H",
    "executionInfo": {
     "status": "ok",
     "timestamp": 1710421037561,
     "user_tz": -540,
     "elapsed": 2,
     "user": {
      "displayName": "­전유진 / 학생 / 데이터사이언스학과",
      "userId": "15652399905532456357"
     }
    },
    "outputId": "a58c3ae1-15d3-449c-de56-68f4f685cc04",
    "ExecuteTime": {
     "end_time": "2024-03-31T14:31:43.923583Z",
     "start_time": "2024-03-31T14:31:43.921192Z"
    }
   },
   "execution_count": 75,
   "outputs": [
    {
     "name": "stdout",
     "output_type": "stream",
     "text": [
      "6\n"
     ]
    }
   ]
  },
  {
   "cell_type": "code",
   "source": [
    "# axis designated operation\n",
    "a = np.array([[-1, 2, 3], [3, 4, 8]])\n",
    "print(a)\n",
    "print()\n",
    "print(f'sum by row: {a.sum(axis=0)}')    # sum by row\n",
    "print(f'sum by column: {a.sum(axis=1)}') # sum by column"
   ],
   "metadata": {
    "colab": {
     "base_uri": "https://localhost:8080/"
    },
    "id": "pylZpvATCbTR",
    "executionInfo": {
     "status": "ok",
     "timestamp": 1710421121284,
     "user_tz": -540,
     "elapsed": 3,
     "user": {
      "displayName": "­전유진 / 학생 / 데이터사이언스학과",
      "userId": "15652399905532456357"
     }
    },
    "outputId": "ce66fca4-c4fb-4d2b-bcb8-789671edf2a8",
    "ExecuteTime": {
     "end_time": "2024-03-31T14:31:47.752611Z",
     "start_time": "2024-03-31T14:31:47.749508Z"
    }
   },
   "execution_count": 76,
   "outputs": [
    {
     "name": "stdout",
     "output_type": "stream",
     "text": [
      "[[-1  2  3]\n",
      " [ 3  4  8]]\n",
      "\n",
      "sum by row: [ 2  6 11]\n",
      "sum by column: [ 4 15]\n"
     ]
    }
   ]
  },
  {
   "cell_type": "code",
   "source": [
    "x = np.array([[1, 2], [3, 4], [5, 6]])\n",
    "y = np.array([[6, 23], [-1, 7], [8, 9]])\n",
    "print(f\"x: {x.shape}\")\n",
    "print(x)\n",
    "print(f\"\\ny: {y.shape}\")\n",
    "print(y)"
   ],
   "metadata": {
    "colab": {
     "base_uri": "https://localhost:8080/"
    },
    "id": "z7tgvQIFDHBX",
    "executionInfo": {
     "status": "ok",
     "timestamp": 1710749012565,
     "user_tz": -540,
     "elapsed": 397,
     "user": {
      "displayName": "­전유진 / 학생 / 데이터사이언스학과",
      "userId": "15652399905532456357"
     }
    },
    "outputId": "fb17eb97-40d6-408f-c1d4-b877ff20e812",
    "ExecuteTime": {
     "end_time": "2024-03-31T14:33:20.217190Z",
     "start_time": "2024-03-31T14:33:20.214981Z"
    }
   },
   "execution_count": 77,
   "outputs": [
    {
     "name": "stdout",
     "output_type": "stream",
     "text": [
      "x: (3, 2)\n",
      "[[1 2]\n",
      " [3 4]\n",
      " [5 6]]\n",
      "\n",
      "y: (3, 2)\n",
      "[[ 6 23]\n",
      " [-1  7]\n",
      " [ 8  9]]\n"
     ]
    }
   ]
  },
  {
   "cell_type": "code",
   "source": [
    "print(x + y)"
   ],
   "metadata": {
    "colab": {
     "base_uri": "https://localhost:8080/"
    },
    "id": "fB_GPCMwa8-I",
    "executionInfo": {
     "status": "ok",
     "timestamp": 1710729478565,
     "user_tz": -540,
     "elapsed": 337,
     "user": {
      "displayName": "­전유진 / 학생 / 데이터사이언스학과",
      "userId": "15652399905532456357"
     }
    },
    "outputId": "839174ce-aef9-406d-b47a-d46f064c0666"
   },
   "execution_count": null,
   "outputs": [
    {
     "output_type": "stream",
     "name": "stdout",
     "text": [
      "[[ 7 25]\n",
      " [ 2 11]\n",
      " [13 15]]\n"
     ]
    }
   ]
  },
  {
   "cell_type": "code",
   "source": [
    "np.dot(x, y) # (3, 2) x (3, 2)"
   ],
   "metadata": {
    "colab": {
     "base_uri": "https://localhost:8080/",
     "height": 144
    },
    "id": "7p7uPAwZZjip",
    "executionInfo": {
     "status": "error",
     "timestamp": 1710729231340,
     "user_tz": -540,
     "elapsed": 4,
     "user": {
      "displayName": "­전유진 / 학생 / 데이터사이언스학과",
      "userId": "15652399905532456357"
     }
    },
    "outputId": "f850d24b-0908-4f32-aeb4-34b5c38923c7",
    "ExecuteTime": {
     "end_time": "2024-03-31T14:33:46.442832Z",
     "start_time": "2024-03-31T14:33:46.434826Z"
    }
   },
   "execution_count": 78,
   "outputs": [
    {
     "ename": "ValueError",
     "evalue": "shapes (3,2) and (3,2) not aligned: 2 (dim 1) != 3 (dim 0)",
     "output_type": "error",
     "traceback": [
      "\u001B[0;31m---------------------------------------------------------------------------\u001B[0m",
      "\u001B[0;31mValueError\u001B[0m                                Traceback (most recent call last)",
      "Cell \u001B[0;32mIn[78], line 1\u001B[0m\n\u001B[0;32m----> 1\u001B[0m \u001B[43mnp\u001B[49m\u001B[38;5;241;43m.\u001B[39;49m\u001B[43mdot\u001B[49m\u001B[43m(\u001B[49m\u001B[43mx\u001B[49m\u001B[43m,\u001B[49m\u001B[43m \u001B[49m\u001B[43my\u001B[49m\u001B[43m)\u001B[49m \u001B[38;5;66;03m# (3, 2) x (3, 2)\u001B[39;00m\n",
      "\u001B[0;31mValueError\u001B[0m: shapes (3,2) and (3,2) not aligned: 2 (dim 1) != 3 (dim 0)"
     ]
    }
   ]
  },
  {
   "cell_type": "code",
   "source": [
    "print(np.dot(x.T, y)) # (2, 3) x (3, 2)"
   ],
   "metadata": {
    "colab": {
     "base_uri": "https://localhost:8080/"
    },
    "id": "aNNOpqdQZ0lC",
    "executionInfo": {
     "status": "ok",
     "timestamp": 1710729240605,
     "user_tz": -540,
     "elapsed": 2,
     "user": {
      "displayName": "­전유진 / 학생 / 데이터사이언스학과",
      "userId": "15652399905532456357"
     }
    },
    "outputId": "fdf3fc10-110f-41eb-e71d-e24a97bfeb5a",
    "ExecuteTime": {
     "end_time": "2024-03-31T14:34:20.971892Z",
     "start_time": "2024-03-31T14:34:20.969527Z"
    }
   },
   "execution_count": 79,
   "outputs": [
    {
     "name": "stdout",
     "output_type": "stream",
     "text": [
      "[[ 43  89]\n",
      " [ 56 128]]\n"
     ]
    }
   ]
  },
  {
   "cell_type": "code",
   "source": [
    "print(x.dot(y.T)) # (3, 2) x (2, 3)"
   ],
   "metadata": {
    "colab": {
     "base_uri": "https://localhost:8080/"
    },
    "id": "YyS8u5LdaJ3S",
    "executionInfo": {
     "status": "ok",
     "timestamp": 1710729264573,
     "user_tz": -540,
     "elapsed": 2,
     "user": {
      "displayName": "­전유진 / 학생 / 데이터사이언스학과",
      "userId": "15652399905532456357"
     }
    },
    "outputId": "ecda7fa6-18aa-4c72-cb01-0e760bba5a74",
    "ExecuteTime": {
     "end_time": "2024-03-31T14:34:56.073286Z",
     "start_time": "2024-03-31T14:34:56.070338Z"
    }
   },
   "execution_count": 80,
   "outputs": [
    {
     "name": "stdout",
     "output_type": "stream",
     "text": [
      "[[ 52  13  26]\n",
      " [110  25  60]\n",
      " [168  37  94]]\n"
     ]
    }
   ]
  },
  {
   "cell_type": "code",
   "source": [
    "# inverse: np.linalg.inv\n",
    "X = np.array([[1,2,3],[1,0,0],[0,0,1]])\n",
    "\n",
    "X_inverse = np.linalg.inv(X)\n",
    "\n",
    "print(\"X:\\n\", X)\n",
    "print(\"\\n inverse of X:\\n\", X_inverse)"
   ],
   "metadata": {
    "colab": {
     "base_uri": "https://localhost:8080/"
    },
    "id": "vm-_CUwfle-9",
    "executionInfo": {
     "status": "ok",
     "timestamp": 1710749080587,
     "user_tz": -540,
     "elapsed": 896,
     "user": {
      "displayName": "­전유진 / 학생 / 데이터사이언스학과",
      "userId": "15652399905532456357"
     }
    },
    "outputId": "2192837c-7939-4ca9-ec2e-850c81a760f8",
    "ExecuteTime": {
     "end_time": "2024-03-31T14:35:07.715375Z",
     "start_time": "2024-03-31T14:35:07.712301Z"
    }
   },
   "execution_count": 81,
   "outputs": [
    {
     "name": "stdout",
     "output_type": "stream",
     "text": [
      "X:\n",
      " [[1 2 3]\n",
      " [1 0 0]\n",
      " [0 0 1]]\n",
      "\n",
      " inverse of X:\n",
      " [[ 0.   1.   0. ]\n",
      " [ 0.5 -0.5 -1.5]\n",
      " [ 0.   0.   1. ]]\n"
     ]
    }
   ]
  },
  {
   "cell_type": "markdown",
   "source": [
    "## Pandas DataFrame"
   ],
   "metadata": {
    "id": "by4QAoTubGQk"
   }
  },
  {
   "cell_type": "code",
   "source": [
    "import pandas as pd"
   ],
   "metadata": {
    "id": "mBCgjtNdeCqi",
    "ExecuteTime": {
     "end_time": "2024-04-03T13:55:16.981780Z",
     "start_time": "2024-04-03T13:55:16.979615Z"
    }
   },
   "execution_count": 5,
   "outputs": []
  },
  {
   "cell_type": "markdown",
   "source": [
    "### Generating a dataframe"
   ],
   "metadata": {
    "id": "_NUXlUYrbm8x"
   }
  },
  {
   "cell_type": "code",
   "source": [
    "# dictionary -> dataframe\n",
    "data = {\n",
    "    'year': [2022, 2023, 2024],\n",
    "    'GDP rate': [2.8, 3.1, 3.0],\n",
    "    'GDP': ['1.637M', '1.73M', '1.83M' ]\n",
    "}\n",
    "df = pd.DataFrame(data)\n",
    "df.head()"
   ],
   "metadata": {
    "colab": {
     "base_uri": "https://localhost:8080/",
     "height": 143
    },
    "id": "hmIAD05laOYb",
    "executionInfo": {
     "status": "ok",
     "timestamp": 1710729753924,
     "user_tz": -540,
     "elapsed": 5,
     "user": {
      "displayName": "­전유진 / 학생 / 데이터사이언스학과",
      "userId": "15652399905532456357"
     }
    },
    "outputId": "d3e37892-16b5-43c5-bc69-47a51dd0fc8f",
    "ExecuteTime": {
     "end_time": "2024-04-03T13:55:18.168507Z",
     "start_time": "2024-04-03T13:55:18.159587Z"
    }
   },
   "execution_count": 6,
   "outputs": [
    {
     "data": {
      "text/plain": "   year  GDP rate     GDP\n0  2022       2.8  1.637M\n1  2023       3.1   1.73M\n2  2024       3.0   1.83M",
      "text/html": "<div>\n<style scoped>\n    .dataframe tbody tr th:only-of-type {\n        vertical-align: middle;\n    }\n\n    .dataframe tbody tr th {\n        vertical-align: top;\n    }\n\n    .dataframe thead th {\n        text-align: right;\n    }\n</style>\n<table border=\"1\" class=\"dataframe\">\n  <thead>\n    <tr style=\"text-align: right;\">\n      <th></th>\n      <th>year</th>\n      <th>GDP rate</th>\n      <th>GDP</th>\n    </tr>\n  </thead>\n  <tbody>\n    <tr>\n      <th>0</th>\n      <td>2022</td>\n      <td>2.8</td>\n      <td>1.637M</td>\n    </tr>\n    <tr>\n      <th>1</th>\n      <td>2023</td>\n      <td>3.1</td>\n      <td>1.73M</td>\n    </tr>\n    <tr>\n      <th>2</th>\n      <td>2024</td>\n      <td>3.0</td>\n      <td>1.83M</td>\n    </tr>\n  </tbody>\n</table>\n</div>"
     },
     "execution_count": 6,
     "metadata": {},
     "output_type": "execute_result"
    }
   ]
  },
  {
   "cell_type": "code",
   "source": [
    "# numpy array -> dataframe\n",
    "data = np.array([[1, 2, 3], [4, 5, 6]])\n",
    "\n",
    "df = pd.DataFrame(data, columns = [\"a\", \"b\", \"c\"])\n",
    "df.head()"
   ],
   "metadata": {
    "colab": {
     "base_uri": "https://localhost:8080/",
     "height": 112
    },
    "id": "nfjGvmIAbeGf",
    "executionInfo": {
     "status": "ok",
     "timestamp": 1710729821460,
     "user_tz": -540,
     "elapsed": 5,
     "user": {
      "displayName": "­전유진 / 학생 / 데이터사이언스학과",
      "userId": "15652399905532456357"
     }
    },
    "outputId": "64677e8b-d232-426e-c473-b0e276632543",
    "ExecuteTime": {
     "end_time": "2024-04-03T13:10:36.316228Z",
     "start_time": "2024-04-03T13:10:36.309650Z"
    }
   },
   "execution_count": 21,
   "outputs": [
    {
     "data": {
      "text/plain": "   a  b  c\n0  1  2  3\n1  4  5  6",
      "text/html": "<div>\n<style scoped>\n    .dataframe tbody tr th:only-of-type {\n        vertical-align: middle;\n    }\n\n    .dataframe tbody tr th {\n        vertical-align: top;\n    }\n\n    .dataframe thead th {\n        text-align: right;\n    }\n</style>\n<table border=\"1\" class=\"dataframe\">\n  <thead>\n    <tr style=\"text-align: right;\">\n      <th></th>\n      <th>a</th>\n      <th>b</th>\n      <th>c</th>\n    </tr>\n  </thead>\n  <tbody>\n    <tr>\n      <th>0</th>\n      <td>1</td>\n      <td>2</td>\n      <td>3</td>\n    </tr>\n    <tr>\n      <th>1</th>\n      <td>4</td>\n      <td>5</td>\n      <td>6</td>\n    </tr>\n  </tbody>\n</table>\n</div>"
     },
     "execution_count": 21,
     "metadata": {},
     "output_type": "execute_result"
    }
   ]
  },
  {
   "cell_type": "code",
   "source": [
    "df = pd.DataFrame(data.T, columns = [\"a\", \"b\"])\n",
    "df.head()"
   ],
   "metadata": {
    "colab": {
     "base_uri": "https://localhost:8080/",
     "height": 143
    },
    "id": "t_SpjFSacD6L",
    "executionInfo": {
     "status": "ok",
     "timestamp": 1710729827246,
     "user_tz": -540,
     "elapsed": 5,
     "user": {
      "displayName": "­전유진 / 학생 / 데이터사이언스학과",
      "userId": "15652399905532456357"
     }
    },
    "outputId": "f5d2a213-41d2-4436-e3c7-76a699f7fd9a",
    "ExecuteTime": {
     "end_time": "2024-04-03T13:10:47.587153Z",
     "start_time": "2024-04-03T13:10:47.582473Z"
    }
   },
   "execution_count": 22,
   "outputs": [
    {
     "data": {
      "text/plain": "   a  b\n0  1  4\n1  2  5\n2  3  6",
      "text/html": "<div>\n<style scoped>\n    .dataframe tbody tr th:only-of-type {\n        vertical-align: middle;\n    }\n\n    .dataframe tbody tr th {\n        vertical-align: top;\n    }\n\n    .dataframe thead th {\n        text-align: right;\n    }\n</style>\n<table border=\"1\" class=\"dataframe\">\n  <thead>\n    <tr style=\"text-align: right;\">\n      <th></th>\n      <th>a</th>\n      <th>b</th>\n    </tr>\n  </thead>\n  <tbody>\n    <tr>\n      <th>0</th>\n      <td>1</td>\n      <td>4</td>\n    </tr>\n    <tr>\n      <th>1</th>\n      <td>2</td>\n      <td>5</td>\n    </tr>\n    <tr>\n      <th>2</th>\n      <td>3</td>\n      <td>6</td>\n    </tr>\n  </tbody>\n</table>\n</div>"
     },
     "execution_count": 22,
     "metadata": {},
     "output_type": "execute_result"
    }
   ]
  },
  {
   "cell_type": "code",
   "source": [
    "# csv file -> dataframe\n",
    "df = pd.read_csv(\"./Carseats.csv\")\n",
    "df.head()"
   ],
   "metadata": {
    "colab": {
     "base_uri": "https://localhost:8080/",
     "height": 206
    },
    "id": "SFoTk-cmcWir",
    "executionInfo": {
     "status": "ok",
     "timestamp": 1710737879602,
     "user_tz": -540,
     "elapsed": 633,
     "user": {
      "displayName": "­전유진 / 학생 / 데이터사이언스학과",
      "userId": "15652399905532456357"
     }
    },
    "outputId": "a7c897d9-3658-417b-9ff6-4027be2b15f9",
    "ExecuteTime": {
     "end_time": "2024-04-03T13:11:13.202233Z",
     "start_time": "2024-04-03T13:11:13.189334Z"
    }
   },
   "execution_count": 23,
   "outputs": [
    {
     "data": {
      "text/plain": "   Unnamed: 0  Sales  CompPrice  Income  Advertising  Population  Price  \\\n0           1   9.50        138      73           11         276    120   \n1           2  11.22        111      48           16         260     83   \n2           3  10.06        113      35           10         269     80   \n3           4   7.40        117     100            4         466     97   \n4           5   4.15        141      64            3         340    128   \n\n  ShelveLoc  Age  Education Urban   US  \n0       Bad   42         17   Yes  Yes  \n1      Good   65         10   Yes  Yes  \n2    Medium   59         12   Yes  Yes  \n3    Medium   55         14   Yes  Yes  \n4       Bad   38         13   Yes   No  ",
      "text/html": "<div>\n<style scoped>\n    .dataframe tbody tr th:only-of-type {\n        vertical-align: middle;\n    }\n\n    .dataframe tbody tr th {\n        vertical-align: top;\n    }\n\n    .dataframe thead th {\n        text-align: right;\n    }\n</style>\n<table border=\"1\" class=\"dataframe\">\n  <thead>\n    <tr style=\"text-align: right;\">\n      <th></th>\n      <th>Unnamed: 0</th>\n      <th>Sales</th>\n      <th>CompPrice</th>\n      <th>Income</th>\n      <th>Advertising</th>\n      <th>Population</th>\n      <th>Price</th>\n      <th>ShelveLoc</th>\n      <th>Age</th>\n      <th>Education</th>\n      <th>Urban</th>\n      <th>US</th>\n    </tr>\n  </thead>\n  <tbody>\n    <tr>\n      <th>0</th>\n      <td>1</td>\n      <td>9.50</td>\n      <td>138</td>\n      <td>73</td>\n      <td>11</td>\n      <td>276</td>\n      <td>120</td>\n      <td>Bad</td>\n      <td>42</td>\n      <td>17</td>\n      <td>Yes</td>\n      <td>Yes</td>\n    </tr>\n    <tr>\n      <th>1</th>\n      <td>2</td>\n      <td>11.22</td>\n      <td>111</td>\n      <td>48</td>\n      <td>16</td>\n      <td>260</td>\n      <td>83</td>\n      <td>Good</td>\n      <td>65</td>\n      <td>10</td>\n      <td>Yes</td>\n      <td>Yes</td>\n    </tr>\n    <tr>\n      <th>2</th>\n      <td>3</td>\n      <td>10.06</td>\n      <td>113</td>\n      <td>35</td>\n      <td>10</td>\n      <td>269</td>\n      <td>80</td>\n      <td>Medium</td>\n      <td>59</td>\n      <td>12</td>\n      <td>Yes</td>\n      <td>Yes</td>\n    </tr>\n    <tr>\n      <th>3</th>\n      <td>4</td>\n      <td>7.40</td>\n      <td>117</td>\n      <td>100</td>\n      <td>4</td>\n      <td>466</td>\n      <td>97</td>\n      <td>Medium</td>\n      <td>55</td>\n      <td>14</td>\n      <td>Yes</td>\n      <td>Yes</td>\n    </tr>\n    <tr>\n      <th>4</th>\n      <td>5</td>\n      <td>4.15</td>\n      <td>141</td>\n      <td>64</td>\n      <td>3</td>\n      <td>340</td>\n      <td>128</td>\n      <td>Bad</td>\n      <td>38</td>\n      <td>13</td>\n      <td>Yes</td>\n      <td>No</td>\n    </tr>\n  </tbody>\n</table>\n</div>"
     },
     "execution_count": 23,
     "metadata": {},
     "output_type": "execute_result"
    }
   ]
  },
  {
   "cell_type": "markdown",
   "source": [
    "### Handling dataframes"
   ],
   "metadata": {
    "id": "EQmx-PWx69jA"
   }
  },
  {
   "cell_type": "code",
   "outputs": [],
   "source": "%%sql\n",
   "metadata": {
    "collapsed": false,
    "SqlCellData": {
     "variableName$1": "df_sql"
    }
   },
   "execution_count": null
  },
  {
   "cell_type": "code",
   "source": [
    "print(df.info())\n"
   ],
   "metadata": {
    "colab": {
     "base_uri": "https://localhost:8080/"
    },
    "id": "uuuOddoC64h1",
    "executionInfo": {
     "status": "ok",
     "timestamp": 1710737890180,
     "user_tz": -540,
     "elapsed": 3,
     "user": {
      "displayName": "­전유진 / 학생 / 데이터사이언스학과",
      "userId": "15652399905532456357"
     }
    },
    "outputId": "ef0bcc91-c165-43c3-f992-e079764f91b7",
    "ExecuteTime": {
     "end_time": "2024-04-03T13:55:20.755096Z",
     "start_time": "2024-04-03T13:55:20.749969Z"
    }
   },
   "execution_count": 7,
   "outputs": [
    {
     "name": "stdout",
     "output_type": "stream",
     "text": [
      "<class 'pandas.core.frame.DataFrame'>\n",
      "RangeIndex: 3 entries, 0 to 2\n",
      "Data columns (total 3 columns):\n",
      " #   Column    Non-Null Count  Dtype  \n",
      "---  ------    --------------  -----  \n",
      " 0   year      3 non-null      int64  \n",
      " 1   GDP rate  3 non-null      float64\n",
      " 2   GDP       3 non-null      object \n",
      "dtypes: float64(1), int64(1), object(1)\n",
      "memory usage: 204.0+ bytes\n",
      "None\n"
     ]
    }
   ]
  },
  {
   "cell_type": "code",
   "source": [
    "df.head(10) # first 10 rows"
   ],
   "metadata": {
    "colab": {
     "base_uri": "https://localhost:8080/",
     "height": 363
    },
    "id": "aS-Rt3Hv7Sw9",
    "executionInfo": {
     "status": "ok",
     "timestamp": 1710737932504,
     "user_tz": -540,
     "elapsed": 4,
     "user": {
      "displayName": "­전유진 / 학생 / 데이터사이언스학과",
      "userId": "15652399905532456357"
     }
    },
    "outputId": "a1314ae5-1712-4d13-9240-e7482664d08a",
    "ExecuteTime": {
     "end_time": "2024-04-03T13:11:31.994565Z",
     "start_time": "2024-04-03T13:11:31.987286Z"
    }
   },
   "execution_count": 25,
   "outputs": [
    {
     "data": {
      "text/plain": "   Unnamed: 0  Sales  CompPrice  Income  Advertising  Population  Price  \\\n0           1   9.50        138      73           11         276    120   \n1           2  11.22        111      48           16         260     83   \n2           3  10.06        113      35           10         269     80   \n3           4   7.40        117     100            4         466     97   \n4           5   4.15        141      64            3         340    128   \n5           6  10.81        124     113           13         501     72   \n6           7   6.63        115     105            0          45    108   \n7           8  11.85        136      81           15         425    120   \n8           9   6.54        132     110            0         108    124   \n9          10   4.69        132     113            0         131    124   \n\n  ShelveLoc  Age  Education Urban   US  \n0       Bad   42         17   Yes  Yes  \n1      Good   65         10   Yes  Yes  \n2    Medium   59         12   Yes  Yes  \n3    Medium   55         14   Yes  Yes  \n4       Bad   38         13   Yes   No  \n5       Bad   78         16    No  Yes  \n6    Medium   71         15   Yes   No  \n7      Good   67         10   Yes  Yes  \n8    Medium   76         10    No   No  \n9    Medium   76         17    No  Yes  ",
      "text/html": "<div>\n<style scoped>\n    .dataframe tbody tr th:only-of-type {\n        vertical-align: middle;\n    }\n\n    .dataframe tbody tr th {\n        vertical-align: top;\n    }\n\n    .dataframe thead th {\n        text-align: right;\n    }\n</style>\n<table border=\"1\" class=\"dataframe\">\n  <thead>\n    <tr style=\"text-align: right;\">\n      <th></th>\n      <th>Unnamed: 0</th>\n      <th>Sales</th>\n      <th>CompPrice</th>\n      <th>Income</th>\n      <th>Advertising</th>\n      <th>Population</th>\n      <th>Price</th>\n      <th>ShelveLoc</th>\n      <th>Age</th>\n      <th>Education</th>\n      <th>Urban</th>\n      <th>US</th>\n    </tr>\n  </thead>\n  <tbody>\n    <tr>\n      <th>0</th>\n      <td>1</td>\n      <td>9.50</td>\n      <td>138</td>\n      <td>73</td>\n      <td>11</td>\n      <td>276</td>\n      <td>120</td>\n      <td>Bad</td>\n      <td>42</td>\n      <td>17</td>\n      <td>Yes</td>\n      <td>Yes</td>\n    </tr>\n    <tr>\n      <th>1</th>\n      <td>2</td>\n      <td>11.22</td>\n      <td>111</td>\n      <td>48</td>\n      <td>16</td>\n      <td>260</td>\n      <td>83</td>\n      <td>Good</td>\n      <td>65</td>\n      <td>10</td>\n      <td>Yes</td>\n      <td>Yes</td>\n    </tr>\n    <tr>\n      <th>2</th>\n      <td>3</td>\n      <td>10.06</td>\n      <td>113</td>\n      <td>35</td>\n      <td>10</td>\n      <td>269</td>\n      <td>80</td>\n      <td>Medium</td>\n      <td>59</td>\n      <td>12</td>\n      <td>Yes</td>\n      <td>Yes</td>\n    </tr>\n    <tr>\n      <th>3</th>\n      <td>4</td>\n      <td>7.40</td>\n      <td>117</td>\n      <td>100</td>\n      <td>4</td>\n      <td>466</td>\n      <td>97</td>\n      <td>Medium</td>\n      <td>55</td>\n      <td>14</td>\n      <td>Yes</td>\n      <td>Yes</td>\n    </tr>\n    <tr>\n      <th>4</th>\n      <td>5</td>\n      <td>4.15</td>\n      <td>141</td>\n      <td>64</td>\n      <td>3</td>\n      <td>340</td>\n      <td>128</td>\n      <td>Bad</td>\n      <td>38</td>\n      <td>13</td>\n      <td>Yes</td>\n      <td>No</td>\n    </tr>\n    <tr>\n      <th>5</th>\n      <td>6</td>\n      <td>10.81</td>\n      <td>124</td>\n      <td>113</td>\n      <td>13</td>\n      <td>501</td>\n      <td>72</td>\n      <td>Bad</td>\n      <td>78</td>\n      <td>16</td>\n      <td>No</td>\n      <td>Yes</td>\n    </tr>\n    <tr>\n      <th>6</th>\n      <td>7</td>\n      <td>6.63</td>\n      <td>115</td>\n      <td>105</td>\n      <td>0</td>\n      <td>45</td>\n      <td>108</td>\n      <td>Medium</td>\n      <td>71</td>\n      <td>15</td>\n      <td>Yes</td>\n      <td>No</td>\n    </tr>\n    <tr>\n      <th>7</th>\n      <td>8</td>\n      <td>11.85</td>\n      <td>136</td>\n      <td>81</td>\n      <td>15</td>\n      <td>425</td>\n      <td>120</td>\n      <td>Good</td>\n      <td>67</td>\n      <td>10</td>\n      <td>Yes</td>\n      <td>Yes</td>\n    </tr>\n    <tr>\n      <th>8</th>\n      <td>9</td>\n      <td>6.54</td>\n      <td>132</td>\n      <td>110</td>\n      <td>0</td>\n      <td>108</td>\n      <td>124</td>\n      <td>Medium</td>\n      <td>76</td>\n      <td>10</td>\n      <td>No</td>\n      <td>No</td>\n    </tr>\n    <tr>\n      <th>9</th>\n      <td>10</td>\n      <td>4.69</td>\n      <td>132</td>\n      <td>113</td>\n      <td>0</td>\n      <td>131</td>\n      <td>124</td>\n      <td>Medium</td>\n      <td>76</td>\n      <td>17</td>\n      <td>No</td>\n      <td>Yes</td>\n    </tr>\n  </tbody>\n</table>\n</div>"
     },
     "execution_count": 25,
     "metadata": {},
     "output_type": "execute_result"
    }
   ]
  },
  {
   "cell_type": "code",
   "source": [
    "df.tail(5) # last 5 rows"
   ],
   "metadata": {
    "colab": {
     "base_uri": "https://localhost:8080/",
     "height": 206
    },
    "id": "d5eeBG7a7U9C",
    "executionInfo": {
     "status": "ok",
     "timestamp": 1710737940356,
     "user_tz": -540,
     "elapsed": 6,
     "user": {
      "displayName": "­전유진 / 학생 / 데이터사이언스학과",
      "userId": "15652399905532456357"
     }
    },
    "outputId": "fb8ec270-75d8-4cec-d2f0-19d042550e9c",
    "ExecuteTime": {
     "end_time": "2024-03-31T14:52:26.000942Z",
     "start_time": "2024-03-31T14:52:25.993725Z"
    }
   },
   "execution_count": 90,
   "outputs": [
    {
     "data": {
      "text/plain": "     Unnamed: 0  Sales  CompPrice  Income  Advertising  Population  Price  \\\n395         396  12.57        138     108           17         203    128   \n396         397   6.14        139      23            3          37    120   \n397         398   7.41        162      26           12         368    159   \n398         399   5.94        100      79            7         284     95   \n399         400   9.71        134      37            0          27    120   \n\n    ShelveLoc  Age  Education Urban   US  \n395      Good   33         14   Yes  Yes  \n396    Medium   55         11    No  Yes  \n397    Medium   40         18   Yes  Yes  \n398       Bad   50         12   Yes  Yes  \n399      Good   49         16   Yes  Yes  ",
      "text/html": "<div>\n<style scoped>\n    .dataframe tbody tr th:only-of-type {\n        vertical-align: middle;\n    }\n\n    .dataframe tbody tr th {\n        vertical-align: top;\n    }\n\n    .dataframe thead th {\n        text-align: right;\n    }\n</style>\n<table border=\"1\" class=\"dataframe\">\n  <thead>\n    <tr style=\"text-align: right;\">\n      <th></th>\n      <th>Unnamed: 0</th>\n      <th>Sales</th>\n      <th>CompPrice</th>\n      <th>Income</th>\n      <th>Advertising</th>\n      <th>Population</th>\n      <th>Price</th>\n      <th>ShelveLoc</th>\n      <th>Age</th>\n      <th>Education</th>\n      <th>Urban</th>\n      <th>US</th>\n    </tr>\n  </thead>\n  <tbody>\n    <tr>\n      <th>395</th>\n      <td>396</td>\n      <td>12.57</td>\n      <td>138</td>\n      <td>108</td>\n      <td>17</td>\n      <td>203</td>\n      <td>128</td>\n      <td>Good</td>\n      <td>33</td>\n      <td>14</td>\n      <td>Yes</td>\n      <td>Yes</td>\n    </tr>\n    <tr>\n      <th>396</th>\n      <td>397</td>\n      <td>6.14</td>\n      <td>139</td>\n      <td>23</td>\n      <td>3</td>\n      <td>37</td>\n      <td>120</td>\n      <td>Medium</td>\n      <td>55</td>\n      <td>11</td>\n      <td>No</td>\n      <td>Yes</td>\n    </tr>\n    <tr>\n      <th>397</th>\n      <td>398</td>\n      <td>7.41</td>\n      <td>162</td>\n      <td>26</td>\n      <td>12</td>\n      <td>368</td>\n      <td>159</td>\n      <td>Medium</td>\n      <td>40</td>\n      <td>18</td>\n      <td>Yes</td>\n      <td>Yes</td>\n    </tr>\n    <tr>\n      <th>398</th>\n      <td>399</td>\n      <td>5.94</td>\n      <td>100</td>\n      <td>79</td>\n      <td>7</td>\n      <td>284</td>\n      <td>95</td>\n      <td>Bad</td>\n      <td>50</td>\n      <td>12</td>\n      <td>Yes</td>\n      <td>Yes</td>\n    </tr>\n    <tr>\n      <th>399</th>\n      <td>400</td>\n      <td>9.71</td>\n      <td>134</td>\n      <td>37</td>\n      <td>0</td>\n      <td>27</td>\n      <td>120</td>\n      <td>Good</td>\n      <td>49</td>\n      <td>16</td>\n      <td>Yes</td>\n      <td>Yes</td>\n    </tr>\n  </tbody>\n</table>\n</div>"
     },
     "execution_count": 90,
     "metadata": {},
     "output_type": "execute_result"
    }
   ]
  },
  {
   "cell_type": "code",
   "source": [
    "# access specific columns\n",
    "df[\"Sales\"] # df.Sales\n",
    "df[[\"Sales\", \"US\"]].head()"
   ],
   "metadata": {
    "colab": {
     "base_uri": "https://localhost:8080/",
     "height": 206
    },
    "id": "2aVF09e8MvTx",
    "executionInfo": {
     "status": "ok",
     "timestamp": 1710742565030,
     "user_tz": -540,
     "elapsed": 4,
     "user": {
      "displayName": "­전유진 / 학생 / 데이터사이언스학과",
      "userId": "15652399905532456357"
     }
    },
    "outputId": "15073ee8-dcc0-4c5f-f8db-5880cd18abf4",
    "ExecuteTime": {
     "end_time": "2024-03-31T14:52:30.407711Z",
     "start_time": "2024-03-31T14:52:30.402525Z"
    }
   },
   "execution_count": 91,
   "outputs": [
    {
     "data": {
      "text/plain": "   Sales   US\n0   9.50  Yes\n1  11.22  Yes\n2  10.06  Yes\n3   7.40  Yes\n4   4.15   No",
      "text/html": "<div>\n<style scoped>\n    .dataframe tbody tr th:only-of-type {\n        vertical-align: middle;\n    }\n\n    .dataframe tbody tr th {\n        vertical-align: top;\n    }\n\n    .dataframe thead th {\n        text-align: right;\n    }\n</style>\n<table border=\"1\" class=\"dataframe\">\n  <thead>\n    <tr style=\"text-align: right;\">\n      <th></th>\n      <th>Sales</th>\n      <th>US</th>\n    </tr>\n  </thead>\n  <tbody>\n    <tr>\n      <th>0</th>\n      <td>9.50</td>\n      <td>Yes</td>\n    </tr>\n    <tr>\n      <th>1</th>\n      <td>11.22</td>\n      <td>Yes</td>\n    </tr>\n    <tr>\n      <th>2</th>\n      <td>10.06</td>\n      <td>Yes</td>\n    </tr>\n    <tr>\n      <th>3</th>\n      <td>7.40</td>\n      <td>Yes</td>\n    </tr>\n    <tr>\n      <th>4</th>\n      <td>4.15</td>\n      <td>No</td>\n    </tr>\n  </tbody>\n</table>\n</div>"
     },
     "execution_count": 91,
     "metadata": {},
     "output_type": "execute_result"
    }
   ]
  },
  {
   "cell_type": "code",
   "source": [
    "df.describe()"
   ],
   "metadata": {
    "colab": {
     "base_uri": "https://localhost:8080/",
     "height": 300
    },
    "id": "PHZ4UzZ87Y49",
    "executionInfo": {
     "status": "ok",
     "timestamp": 1710738034240,
     "user_tz": -540,
     "elapsed": 8,
     "user": {
      "displayName": "­전유진 / 학생 / 데이터사이언스학과",
      "userId": "15652399905532456357"
     }
    },
    "outputId": "7e1e4170-b644-41c6-bb3c-dd1c5b9427de",
    "ExecuteTime": {
     "end_time": "2024-04-03T13:11:37.969542Z",
     "start_time": "2024-04-03T13:11:37.950686Z"
    }
   },
   "execution_count": 26,
   "outputs": [
    {
     "data": {
      "text/plain": "       Unnamed: 0       Sales   CompPrice      Income  Advertising  \\\ncount  400.000000  400.000000  400.000000  400.000000   400.000000   \nmean   200.500000    7.496325  124.975000   68.657500     6.635000   \nstd    115.614301    2.824115   15.334512   27.986037     6.650364   \nmin      1.000000    0.000000   77.000000   21.000000     0.000000   \n25%    100.750000    5.390000  115.000000   42.750000     0.000000   \n50%    200.500000    7.490000  125.000000   69.000000     5.000000   \n75%    300.250000    9.320000  135.000000   91.000000    12.000000   \nmax    400.000000   16.270000  175.000000  120.000000    29.000000   \n\n       Population       Price         Age   Education  \ncount  400.000000  400.000000  400.000000  400.000000  \nmean   264.840000  115.795000   53.322500   13.900000  \nstd    147.376436   23.676664   16.200297    2.620528  \nmin     10.000000   24.000000   25.000000   10.000000  \n25%    139.000000  100.000000   39.750000   12.000000  \n50%    272.000000  117.000000   54.500000   14.000000  \n75%    398.500000  131.000000   66.000000   16.000000  \nmax    509.000000  191.000000   80.000000   18.000000  ",
      "text/html": "<div>\n<style scoped>\n    .dataframe tbody tr th:only-of-type {\n        vertical-align: middle;\n    }\n\n    .dataframe tbody tr th {\n        vertical-align: top;\n    }\n\n    .dataframe thead th {\n        text-align: right;\n    }\n</style>\n<table border=\"1\" class=\"dataframe\">\n  <thead>\n    <tr style=\"text-align: right;\">\n      <th></th>\n      <th>Unnamed: 0</th>\n      <th>Sales</th>\n      <th>CompPrice</th>\n      <th>Income</th>\n      <th>Advertising</th>\n      <th>Population</th>\n      <th>Price</th>\n      <th>Age</th>\n      <th>Education</th>\n    </tr>\n  </thead>\n  <tbody>\n    <tr>\n      <th>count</th>\n      <td>400.000000</td>\n      <td>400.000000</td>\n      <td>400.000000</td>\n      <td>400.000000</td>\n      <td>400.000000</td>\n      <td>400.000000</td>\n      <td>400.000000</td>\n      <td>400.000000</td>\n      <td>400.000000</td>\n    </tr>\n    <tr>\n      <th>mean</th>\n      <td>200.500000</td>\n      <td>7.496325</td>\n      <td>124.975000</td>\n      <td>68.657500</td>\n      <td>6.635000</td>\n      <td>264.840000</td>\n      <td>115.795000</td>\n      <td>53.322500</td>\n      <td>13.900000</td>\n    </tr>\n    <tr>\n      <th>std</th>\n      <td>115.614301</td>\n      <td>2.824115</td>\n      <td>15.334512</td>\n      <td>27.986037</td>\n      <td>6.650364</td>\n      <td>147.376436</td>\n      <td>23.676664</td>\n      <td>16.200297</td>\n      <td>2.620528</td>\n    </tr>\n    <tr>\n      <th>min</th>\n      <td>1.000000</td>\n      <td>0.000000</td>\n      <td>77.000000</td>\n      <td>21.000000</td>\n      <td>0.000000</td>\n      <td>10.000000</td>\n      <td>24.000000</td>\n      <td>25.000000</td>\n      <td>10.000000</td>\n    </tr>\n    <tr>\n      <th>25%</th>\n      <td>100.750000</td>\n      <td>5.390000</td>\n      <td>115.000000</td>\n      <td>42.750000</td>\n      <td>0.000000</td>\n      <td>139.000000</td>\n      <td>100.000000</td>\n      <td>39.750000</td>\n      <td>12.000000</td>\n    </tr>\n    <tr>\n      <th>50%</th>\n      <td>200.500000</td>\n      <td>7.490000</td>\n      <td>125.000000</td>\n      <td>69.000000</td>\n      <td>5.000000</td>\n      <td>272.000000</td>\n      <td>117.000000</td>\n      <td>54.500000</td>\n      <td>14.000000</td>\n    </tr>\n    <tr>\n      <th>75%</th>\n      <td>300.250000</td>\n      <td>9.320000</td>\n      <td>135.000000</td>\n      <td>91.000000</td>\n      <td>12.000000</td>\n      <td>398.500000</td>\n      <td>131.000000</td>\n      <td>66.000000</td>\n      <td>16.000000</td>\n    </tr>\n    <tr>\n      <th>max</th>\n      <td>400.000000</td>\n      <td>16.270000</td>\n      <td>175.000000</td>\n      <td>120.000000</td>\n      <td>29.000000</td>\n      <td>509.000000</td>\n      <td>191.000000</td>\n      <td>80.000000</td>\n      <td>18.000000</td>\n    </tr>\n  </tbody>\n</table>\n</div>"
     },
     "execution_count": 26,
     "metadata": {},
     "output_type": "execute_result"
    }
   ]
  },
  {
   "cell_type": "markdown",
   "source": [
    "# 1. Linear Regression\n",
    "- $\\beta = (X^TX)^{-1}X^TY$"
   ],
   "metadata": {
    "id": "f5Keeg4Ph0vH"
   }
  },
  {
   "cell_type": "code",
   "source": [
    "advertising = pd.read_csv(\"Advertising.csv\", usecols=[1,2,3,4])\n",
    "advertising.head()\n"
   ],
   "metadata": {
    "colab": {
     "base_uri": "https://localhost:8080/",
     "height": 206
    },
    "id": "iu5v9-0XdvDZ",
    "executionInfo": {
     "status": "ok",
     "timestamp": 1711519093574,
     "user_tz": -540,
     "elapsed": 940,
     "user": {
      "displayName": "­전유진 / 학생 / 데이터사이언스학과",
      "userId": "15652399905532456357"
     }
    },
    "outputId": "9d43e560-64bb-4d8b-e909-bc12b5d434a3",
    "ExecuteTime": {
     "end_time": "2024-04-03T13:55:22.964829Z",
     "start_time": "2024-04-03T13:55:22.957882Z"
    }
   },
   "execution_count": 8,
   "outputs": [
    {
     "data": {
      "text/plain": "      TV  Radio  Newspaper  Sales\n0  230.1   37.8       69.2   22.1\n1   44.5   39.3       45.1   10.4\n2   17.2   45.9       69.3    9.3\n3  151.5   41.3       58.5   18.5\n4  180.8   10.8       58.4   12.9",
      "text/html": "<div>\n<style scoped>\n    .dataframe tbody tr th:only-of-type {\n        vertical-align: middle;\n    }\n\n    .dataframe tbody tr th {\n        vertical-align: top;\n    }\n\n    .dataframe thead th {\n        text-align: right;\n    }\n</style>\n<table border=\"1\" class=\"dataframe\">\n  <thead>\n    <tr style=\"text-align: right;\">\n      <th></th>\n      <th>TV</th>\n      <th>Radio</th>\n      <th>Newspaper</th>\n      <th>Sales</th>\n    </tr>\n  </thead>\n  <tbody>\n    <tr>\n      <th>0</th>\n      <td>230.1</td>\n      <td>37.8</td>\n      <td>69.2</td>\n      <td>22.1</td>\n    </tr>\n    <tr>\n      <th>1</th>\n      <td>44.5</td>\n      <td>39.3</td>\n      <td>45.1</td>\n      <td>10.4</td>\n    </tr>\n    <tr>\n      <th>2</th>\n      <td>17.2</td>\n      <td>45.9</td>\n      <td>69.3</td>\n      <td>9.3</td>\n    </tr>\n    <tr>\n      <th>3</th>\n      <td>151.5</td>\n      <td>41.3</td>\n      <td>58.5</td>\n      <td>18.5</td>\n    </tr>\n    <tr>\n      <th>4</th>\n      <td>180.8</td>\n      <td>10.8</td>\n      <td>58.4</td>\n      <td>12.9</td>\n    </tr>\n  </tbody>\n</table>\n</div>"
     },
     "execution_count": 8,
     "metadata": {},
     "output_type": "execute_result"
    }
   ]
  },
  {
   "cell_type": "code",
   "source": [
    "# TV ads and Sales\n",
    "sns.scatterplot(x=advertising.TV, y=advertising.Sales)\n",
    "plt.show()"
   ],
   "metadata": {
    "colab": {
     "base_uri": "https://localhost:8080/",
     "height": 449
    },
    "id": "Xe1uDMF2-5jA",
    "executionInfo": {
     "status": "ok",
     "timestamp": 1711519103201,
     "user_tz": -540,
     "elapsed": 1064,
     "user": {
      "displayName": "­전유진 / 학생 / 데이터사이언스학과",
      "userId": "15652399905532456357"
     }
    },
    "outputId": "cf51ab82-d188-486c-c842-567d87f68a6c",
    "ExecuteTime": {
     "end_time": "2024-04-03T13:11:48.495742Z",
     "start_time": "2024-04-03T13:11:48.383676Z"
    }
   },
   "execution_count": 28,
   "outputs": [
    {
     "data": {
      "text/plain": "<Figure size 640x480 with 1 Axes>",
      "image/png": "[encoded data removed]"
     },
     "metadata": {},
     "output_type": "display_data"
    }
   ]
  },
  {
   "cell_type": "code",
   "source": [
    "class LinearRegression:\n",
    "    def __init__(self):\n",
    "        self.weights = None\n",
    "        self.bias = None\n",
    "\n",
    "    def fit(self, X, y):\n",
    "        # Add a column of ones to X for the intercept(bias) term\n",
    "        X = np.hstack((np.ones((X.shape[0], 1)), X))\n",
    "\n",
    "        # Calculate weights using the least squares method (closed form solution)\n",
    "        self.weights = np.linalg.inv(X.T.dot(X)).dot(X.T).dot(y)\n",
    "\n",
    "        # Extract bias from weights\n",
    "        self.bias = self.weights[0]\n",
    "        self.weights = self.weights[1:]\n",
    "\n",
    "    def predict(self, X):\n",
    "        # Add a column of ones to X for the intercept term\n",
    "        X = np.hstack((np.ones((X.shape[0], 1)), X))\n",
    "\n",
    "        # Predict using the linear regression model\n",
    "        y_pred = X.dot(np.hstack((self.bias, self.weights)))\n",
    "\n",
    "        return y_pred"
   ],
   "metadata": {
    "id": "6mqt-QfHh2lF",
    "ExecuteTime": {
     "end_time": "2024-04-03T14:03:21.413303Z",
     "start_time": "2024-04-03T14:03:21.410325Z"
    }
   },
   "execution_count": 11,
   "outputs": []
  },
  {
   "cell_type": "code",
   "outputs": [],
   "source": [
    "import pandas as pd\n",
    "import numpy as np\n",
    "\n",
    "# Assume df is your DataFrame\n",
    "df = pd.DataFrame({\n",
    "    'A': range(5),\n",
    "    'B': range(5, 10),\n",
    "    'C': range(10, 15)\n",
    "})\n",
    "\n",
    "# Generate a permutation\n",
    "perm = np.random.permutation(len(df))\n",
    "# Shuffle the dataframe\n",
    "dfa = df.iloc[perm]"
   ],
   "metadata": {
    "collapsed": false,
    "ExecuteTime": {
     "end_time": "2024-04-03T14:00:04.069314Z",
     "start_time": "2024-04-03T14:00:04.064765Z"
    }
   },
   "execution_count": 10
  },
  {
   "cell_type": "code",
   "source": [
    "def train_test_split(dataframe, test_size=0.2, random_state=None):\n",
    "    if random_state:\n",
    "        np.random.seed(random_state)\n",
    "\n",
    "    # Shuffle the indices of the dataframe\n",
    "    indices = np.random.permutation(len(dataframe))\n",
    "\n",
    "    # Calculate the number of samples in the test set\n",
    "    test_samples = int(len(dataframe) * test_size)\n",
    "\n",
    "    # Split indices into train and test indices\n",
    "    test_indices = indices[:test_samples]\n",
    "    train_indices = indices[test_samples:]\n",
    "\n",
    "    # Split dataframe into train and test sets using the indices\n",
    "    train_data = dataframe.iloc[train_indices]\n",
    "    test_data = dataframe.iloc[test_indices]\n",
    "\n",
    "    return train_data, test_data\n",
    "\n",
    "def mean_squared_error(y_true, y_pred):\n",
    "    # Calculate squared errors\n",
    "    squared_errors = [(y_true[i] - y_pred[i]) ** 2 for i in range(len(y_true))]\n",
    "\n",
    "    # Calculate mean squared error\n",
    "    mse = sum(squared_errors) / len(y_true)\n",
    "\n",
    "    return mse\n",
    "\n",
    "def r_squared(y_true, y_pred):\n",
    "    # Calculate the mean of the true values\n",
    "    mean_y_true = sum(y_true) / len(y_true)\n",
    "\n",
    "    # Calculate the total sum of squares (TSS)\n",
    "    tss = sum([(y - mean_y_true) ** 2 for y in y_true])\n",
    "\n",
    "    # Calculate the residual sum of squares (RSS)\n",
    "    rss = sum([(y_true[i] - y_pred[i]) ** 2 for i in range(len(y_true))])\n",
    "\n",
    "    # Calculate R-squared\n",
    "    r2 = 1 - (rss / tss)\n",
    "\n",
    "    return r2"
   ],
   "metadata": {
    "id": "Rd3gShb9esSF",
    "ExecuteTime": {
     "end_time": "2024-04-03T14:03:25.188177Z",
     "start_time": "2024-04-03T14:03:25.183690Z"
    }
   },
   "execution_count": 12,
   "outputs": []
  },
  {
   "cell_type": "markdown",
   "source": [],
   "metadata": {
    "collapsed": false
   }
  },
  {
   "cell_type": "code",
   "source": [
    "train_data, test_data = train_test_split(advertising)\n",
    "\n",
    "X_train, y_train = np.array(train_data.TV).reshape(-1, 1), np.array(train_data.Sales)\n",
    "X_test, y_test = np.array(test_data.TV).reshape(-1, 1), np.array(test_data.Sales)"
   ],
   "metadata": {
    "id": "YuGQIRSPgN-L",
    "ExecuteTime": {
     "end_time": "2024-04-03T14:11:15.475650Z",
     "start_time": "2024-04-03T14:11:15.473072Z"
    }
   },
   "execution_count": 15,
   "outputs": []
  },
  {
   "cell_type": "code",
   "source": [
    "# Initialize and fit linear regression model\n",
    "model = LinearRegression()\n",
    "model.fit(X_train, y_train)\n",
    "\n",
    "# Predictions\n",
    "predictions = model.predict(X_test)"
   ],
   "metadata": {
    "id": "2QFFGzlqgAnM",
    "ExecuteTime": {
     "end_time": "2024-04-03T14:11:16.678319Z",
     "start_time": "2024-04-03T14:11:16.675604Z"
    }
   },
   "execution_count": 16,
   "outputs": []
  },
  {
   "cell_type": "code",
   "source": [
    "y_pred = model.predict(X_train)\n",
    "print(\"MSE: \", mean_squared_error(y_test, predictions))\n",
    "print(\"r-squared: \", r_squared(y_test, predictions))"
   ],
   "metadata": {
    "colab": {
     "base_uri": "https://localhost:8080/"
    },
    "id": "QlePhTo-6eDE",
    "executionInfo": {
     "status": "ok",
     "timestamp": 1711520629748,
     "user_tz": -540,
     "elapsed": 3,
     "user": {
      "displayName": "­전유진 / 학생 / 데이터사이언스학과",
      "userId": "15652399905532456357"
     }
    },
    "outputId": "e2076765-755e-4dc9-c02f-fdde79ca91ff",
    "ExecuteTime": {
     "end_time": "2024-04-03T14:12:37.922894Z",
     "start_time": "2024-04-03T14:12:37.919653Z"
    }
   },
   "execution_count": 17,
   "outputs": [
    {
     "name": "stdout",
     "output_type": "stream",
     "text": [
      "MSE:  9.983572887640419\n",
      "r-squared:  0.555039760768355\n"
     ]
    }
   ]
  },
  {
   "cell_type": "code",
   "source": [
    "plt.scatter(X_test, y_test, color='blue', label='Data')  # Scatter plot\n",
    "plt.plot(X_test, predictions, color='red', label='Regression Line')  # Regression line\n",
    "\n",
    "for i in range(len(X_test)):\n",
    "    plt.plot([X_test[i], X_test[i]], [y_test[i], predictions[i]], color='gray', linestyle='--', linewidth=0.5)\n",
    "\n",
    "plt.xlabel('TV')\n",
    "plt.ylabel('Sales')\n",
    "plt.title('Scatter plot with Regression Line')\n",
    "plt.legend()\n",
    "plt.grid(False)\n",
    "plt.show()"
   ],
   "metadata": {
    "colab": {
     "base_uri": "https://localhost:8080/",
     "height": 472
    },
    "id": "X0imf25eByhE",
    "executionInfo": {
     "status": "ok",
     "timestamp": 1711520639424,
     "user_tz": -540,
     "elapsed": 701,
     "user": {
      "displayName": "­전유진 / 학생 / 데이터사이언스학과",
      "userId": "15652399905532456357"
     }
    },
    "outputId": "5ab54131-d791-47e5-8c1f-ae00f2b02b57",
    "ExecuteTime": {
     "end_time": "2024-04-03T16:21:40.707526Z",
     "start_time": "2024-04-03T16:21:40.414646Z"
    }
   },
   "execution_count": 19,
   "outputs": [
    {
     "ename": "ValueError",
     "evalue": "x and y must be the same size",
     "output_type": "error",
     "traceback": [
      "\u001B[0;31m---------------------------------------------------------------------------\u001B[0m",
      "\u001B[0;31mValueError\u001B[0m                                Traceback (most recent call last)",
      "Cell \u001B[0;32mIn[19], line 1\u001B[0m\n\u001B[0;32m----> 1\u001B[0m \u001B[43mplt\u001B[49m\u001B[38;5;241;43m.\u001B[39;49m\u001B[43mscatter\u001B[49m\u001B[43m(\u001B[49m\u001B[43mX_test\u001B[49m\u001B[43m,\u001B[49m\u001B[43m \u001B[49m\u001B[43my_test\u001B[49m\u001B[43m,\u001B[49m\u001B[43m \u001B[49m\u001B[43mcolor\u001B[49m\u001B[38;5;241;43m=\u001B[39;49m\u001B[38;5;124;43m'\u001B[39;49m\u001B[38;5;124;43mblue\u001B[39;49m\u001B[38;5;124;43m'\u001B[39;49m\u001B[43m,\u001B[49m\u001B[43m \u001B[49m\u001B[43mlabel\u001B[49m\u001B[38;5;241;43m=\u001B[39;49m\u001B[38;5;124;43m'\u001B[39;49m\u001B[38;5;124;43mData\u001B[39;49m\u001B[38;5;124;43m'\u001B[39;49m\u001B[43m)\u001B[49m  \u001B[38;5;66;03m# Scatter plot\u001B[39;00m\n\u001B[1;32m      2\u001B[0m plt\u001B[38;5;241m.\u001B[39mplot(X_test, predictions, color\u001B[38;5;241m=\u001B[39m\u001B[38;5;124m'\u001B[39m\u001B[38;5;124mred\u001B[39m\u001B[38;5;124m'\u001B[39m, label\u001B[38;5;241m=\u001B[39m\u001B[38;5;124m'\u001B[39m\u001B[38;5;124mRegression Line\u001B[39m\u001B[38;5;124m'\u001B[39m)  \u001B[38;5;66;03m# Regression line\u001B[39;00m\n\u001B[1;32m      4\u001B[0m \u001B[38;5;28;01mfor\u001B[39;00m i \u001B[38;5;129;01min\u001B[39;00m \u001B[38;5;28mrange\u001B[39m(\u001B[38;5;28mlen\u001B[39m(X_test)):\n",
      "File \u001B[0;32m~/workspace/PycharmProjects/pythonProject/.venv/lib/python3.12/site-packages/matplotlib/pyplot.py:3699\u001B[0m, in \u001B[0;36mscatter\u001B[0;34m(x, y, s, c, marker, cmap, norm, vmin, vmax, alpha, linewidths, edgecolors, plotnonfinite, data, **kwargs)\u001B[0m\n\u001B[1;32m   3680\u001B[0m \u001B[38;5;129m@_copy_docstring_and_deprecators\u001B[39m(Axes\u001B[38;5;241m.\u001B[39mscatter)\n\u001B[1;32m   3681\u001B[0m \u001B[38;5;28;01mdef\u001B[39;00m \u001B[38;5;21mscatter\u001B[39m(\n\u001B[1;32m   3682\u001B[0m     x: \u001B[38;5;28mfloat\u001B[39m \u001B[38;5;241m|\u001B[39m ArrayLike,\n\u001B[0;32m   (...)\u001B[0m\n\u001B[1;32m   3697\u001B[0m     \u001B[38;5;241m*\u001B[39m\u001B[38;5;241m*\u001B[39mkwargs,\n\u001B[1;32m   3698\u001B[0m ) \u001B[38;5;241m-\u001B[39m\u001B[38;5;241m>\u001B[39m PathCollection:\n\u001B[0;32m-> 3699\u001B[0m     __ret \u001B[38;5;241m=\u001B[39m \u001B[43mgca\u001B[49m\u001B[43m(\u001B[49m\u001B[43m)\u001B[49m\u001B[38;5;241;43m.\u001B[39;49m\u001B[43mscatter\u001B[49m\u001B[43m(\u001B[49m\n\u001B[1;32m   3700\u001B[0m \u001B[43m        \u001B[49m\u001B[43mx\u001B[49m\u001B[43m,\u001B[49m\n\u001B[1;32m   3701\u001B[0m \u001B[43m        \u001B[49m\u001B[43my\u001B[49m\u001B[43m,\u001B[49m\n\u001B[1;32m   3702\u001B[0m \u001B[43m        \u001B[49m\u001B[43ms\u001B[49m\u001B[38;5;241;43m=\u001B[39;49m\u001B[43ms\u001B[49m\u001B[43m,\u001B[49m\n\u001B[1;32m   3703\u001B[0m \u001B[43m        \u001B[49m\u001B[43mc\u001B[49m\u001B[38;5;241;43m=\u001B[39;49m\u001B[43mc\u001B[49m\u001B[43m,\u001B[49m\n\u001B[1;32m   3704\u001B[0m \u001B[43m        \u001B[49m\u001B[43mmarker\u001B[49m\u001B[38;5;241;43m=\u001B[39;49m\u001B[43mmarker\u001B[49m\u001B[43m,\u001B[49m\n\u001B[1;32m   3705\u001B[0m \u001B[43m        \u001B[49m\u001B[43mcmap\u001B[49m\u001B[38;5;241;43m=\u001B[39;49m\u001B[43mcmap\u001B[49m\u001B[43m,\u001B[49m\n\u001B[1;32m   3706\u001B[0m \u001B[43m        \u001B[49m\u001B[43mnorm\u001B[49m\u001B[38;5;241;43m=\u001B[39;49m\u001B[43mnorm\u001B[49m\u001B[43m,\u001B[49m\n\u001B[1;32m   3707\u001B[0m \u001B[43m        \u001B[49m\u001B[43mvmin\u001B[49m\u001B[38;5;241;43m=\u001B[39;49m\u001B[43mvmin\u001B[49m\u001B[43m,\u001B[49m\n\u001B[1;32m   3708\u001B[0m \u001B[43m        \u001B[49m\u001B[43mvmax\u001B[49m\u001B[38;5;241;43m=\u001B[39;49m\u001B[43mvmax\u001B[49m\u001B[43m,\u001B[49m\n\u001B[1;32m   3709\u001B[0m \u001B[43m        \u001B[49m\u001B[43malpha\u001B[49m\u001B[38;5;241;43m=\u001B[39;49m\u001B[43malpha\u001B[49m\u001B[43m,\u001B[49m\n\u001B[1;32m   3710\u001B[0m \u001B[43m        \u001B[49m\u001B[43mlinewidths\u001B[49m\u001B[38;5;241;43m=\u001B[39;49m\u001B[43mlinewidths\u001B[49m\u001B[43m,\u001B[49m\n\u001B[1;32m   3711\u001B[0m \u001B[43m        \u001B[49m\u001B[43medgecolors\u001B[49m\u001B[38;5;241;43m=\u001B[39;49m\u001B[43medgecolors\u001B[49m\u001B[43m,\u001B[49m\n\u001B[1;32m   3712\u001B[0m \u001B[43m        \u001B[49m\u001B[43mplotnonfinite\u001B[49m\u001B[38;5;241;43m=\u001B[39;49m\u001B[43mplotnonfinite\u001B[49m\u001B[43m,\u001B[49m\n\u001B[1;32m   3713\u001B[0m \u001B[43m        \u001B[49m\u001B[38;5;241;43m*\u001B[39;49m\u001B[38;5;241;43m*\u001B[39;49m\u001B[43m(\u001B[49m\u001B[43m{\u001B[49m\u001B[38;5;124;43m\"\u001B[39;49m\u001B[38;5;124;43mdata\u001B[39;49m\u001B[38;5;124;43m\"\u001B[39;49m\u001B[43m:\u001B[49m\u001B[43m \u001B[49m\u001B[43mdata\u001B[49m\u001B[43m}\u001B[49m\u001B[43m \u001B[49m\u001B[38;5;28;43;01mif\u001B[39;49;00m\u001B[43m \u001B[49m\u001B[43mdata\u001B[49m\u001B[43m \u001B[49m\u001B[38;5;129;43;01mis\u001B[39;49;00m\u001B[43m \u001B[49m\u001B[38;5;129;43;01mnot\u001B[39;49;00m\u001B[43m \u001B[49m\u001B[38;5;28;43;01mNone\u001B[39;49;00m\u001B[43m \u001B[49m\u001B[38;5;28;43;01melse\u001B[39;49;00m\u001B[43m \u001B[49m\u001B[43m{\u001B[49m\u001B[43m}\u001B[49m\u001B[43m)\u001B[49m\u001B[43m,\u001B[49m\n\u001B[1;32m   3714\u001B[0m \u001B[43m        \u001B[49m\u001B[38;5;241;43m*\u001B[39;49m\u001B[38;5;241;43m*\u001B[39;49m\u001B[43mkwargs\u001B[49m\u001B[43m,\u001B[49m\n\u001B[1;32m   3715\u001B[0m \u001B[43m    \u001B[49m\u001B[43m)\u001B[49m\n\u001B[1;32m   3716\u001B[0m     sci(__ret)\n\u001B[1;32m   3717\u001B[0m     \u001B[38;5;28;01mreturn\u001B[39;00m __ret\n",
      "File \u001B[0;32m~/workspace/PycharmProjects/pythonProject/.venv/lib/python3.12/site-packages/matplotlib/__init__.py:1465\u001B[0m, in \u001B[0;36m_preprocess_data.<locals>.inner\u001B[0;34m(ax, data, *args, **kwargs)\u001B[0m\n\u001B[1;32m   1462\u001B[0m \u001B[38;5;129m@functools\u001B[39m\u001B[38;5;241m.\u001B[39mwraps(func)\n\u001B[1;32m   1463\u001B[0m \u001B[38;5;28;01mdef\u001B[39;00m \u001B[38;5;21minner\u001B[39m(ax, \u001B[38;5;241m*\u001B[39margs, data\u001B[38;5;241m=\u001B[39m\u001B[38;5;28;01mNone\u001B[39;00m, \u001B[38;5;241m*\u001B[39m\u001B[38;5;241m*\u001B[39mkwargs):\n\u001B[1;32m   1464\u001B[0m     \u001B[38;5;28;01mif\u001B[39;00m data \u001B[38;5;129;01mis\u001B[39;00m \u001B[38;5;28;01mNone\u001B[39;00m:\n\u001B[0;32m-> 1465\u001B[0m         \u001B[38;5;28;01mreturn\u001B[39;00m \u001B[43mfunc\u001B[49m\u001B[43m(\u001B[49m\u001B[43max\u001B[49m\u001B[43m,\u001B[49m\u001B[43m \u001B[49m\u001B[38;5;241;43m*\u001B[39;49m\u001B[38;5;28;43mmap\u001B[39;49m\u001B[43m(\u001B[49m\u001B[43msanitize_sequence\u001B[49m\u001B[43m,\u001B[49m\u001B[43m \u001B[49m\u001B[43margs\u001B[49m\u001B[43m)\u001B[49m\u001B[43m,\u001B[49m\u001B[43m \u001B[49m\u001B[38;5;241;43m*\u001B[39;49m\u001B[38;5;241;43m*\u001B[39;49m\u001B[43mkwargs\u001B[49m\u001B[43m)\u001B[49m\n\u001B[1;32m   1467\u001B[0m     bound \u001B[38;5;241m=\u001B[39m new_sig\u001B[38;5;241m.\u001B[39mbind(ax, \u001B[38;5;241m*\u001B[39margs, \u001B[38;5;241m*\u001B[39m\u001B[38;5;241m*\u001B[39mkwargs)\n\u001B[1;32m   1468\u001B[0m     auto_label \u001B[38;5;241m=\u001B[39m (bound\u001B[38;5;241m.\u001B[39marguments\u001B[38;5;241m.\u001B[39mget(label_namer)\n\u001B[1;32m   1469\u001B[0m                   \u001B[38;5;129;01mor\u001B[39;00m bound\u001B[38;5;241m.\u001B[39mkwargs\u001B[38;5;241m.\u001B[39mget(label_namer))\n",
      "File \u001B[0;32m~/workspace/PycharmProjects/pythonProject/.venv/lib/python3.12/site-packages/matplotlib/axes/_axes.py:4655\u001B[0m, in \u001B[0;36mAxes.scatter\u001B[0;34m(self, x, y, s, c, marker, cmap, norm, vmin, vmax, alpha, linewidths, edgecolors, plotnonfinite, **kwargs)\u001B[0m\n\u001B[1;32m   4653\u001B[0m y \u001B[38;5;241m=\u001B[39m np\u001B[38;5;241m.\u001B[39mma\u001B[38;5;241m.\u001B[39mravel(y)\n\u001B[1;32m   4654\u001B[0m \u001B[38;5;28;01mif\u001B[39;00m x\u001B[38;5;241m.\u001B[39msize \u001B[38;5;241m!=\u001B[39m y\u001B[38;5;241m.\u001B[39msize:\n\u001B[0;32m-> 4655\u001B[0m     \u001B[38;5;28;01mraise\u001B[39;00m \u001B[38;5;167;01mValueError\u001B[39;00m(\u001B[38;5;124m\"\u001B[39m\u001B[38;5;124mx and y must be the same size\u001B[39m\u001B[38;5;124m\"\u001B[39m)\n\u001B[1;32m   4657\u001B[0m \u001B[38;5;28;01mif\u001B[39;00m s \u001B[38;5;129;01mis\u001B[39;00m \u001B[38;5;28;01mNone\u001B[39;00m:\n\u001B[1;32m   4658\u001B[0m     s \u001B[38;5;241m=\u001B[39m (\u001B[38;5;241m20\u001B[39m \u001B[38;5;28;01mif\u001B[39;00m mpl\u001B[38;5;241m.\u001B[39mrcParams[\u001B[38;5;124m'\u001B[39m\u001B[38;5;124m_internal.classic_mode\u001B[39m\u001B[38;5;124m'\u001B[39m] \u001B[38;5;28;01melse\u001B[39;00m\n\u001B[1;32m   4659\u001B[0m          mpl\u001B[38;5;241m.\u001B[39mrcParams[\u001B[38;5;124m'\u001B[39m\u001B[38;5;124mlines.markersize\u001B[39m\u001B[38;5;124m'\u001B[39m] \u001B[38;5;241m*\u001B[39m\u001B[38;5;241m*\u001B[39m \u001B[38;5;241m2.0\u001B[39m)\n",
      "\u001B[0;31mValueError\u001B[0m: x and y must be the same size"
     ]
    },
    {
     "data": {
      "text/plain": "<Figure size 640x480 with 1 Axes>",
      "image/png": "[encoded data removed]"
     },
     "metadata": {},
     "output_type": "display_data"
    }
   ]
  },
  {
   "cell_type": "markdown",
   "source": [
    "## Multiple linear regression"
   ],
   "metadata": {
    "id": "pG0cLVel0ycV"
   }
  },
  {
   "cell_type": "code",
   "source": [
    "X_train, y_train = np.array(train_data.drop(\"Sales\", axis=1)), np.array(train_data.Sales)\n",
    "X_test, y_test = np.array(test_data.drop(\"Sales\", axis=1)), np.array(test_data.Sales)\n",
    "\n",
    "model = LinearRegression()\n",
    "model.fit(X_train, y_train)\n",
    "\n",
    "# Predictions\n",
    "predictions = model.predict(X_test)\n",
    "\n",
    "y_pred = model.predict(X_train)\n",
    "print(\"MSE: \", mean_squared_error(y_test, predictions))\n",
    "print(\"r-squared: \", r_squared(y_test, predictions))"
   ],
   "metadata": {
    "colab": {
     "base_uri": "https://localhost:8080/"
    },
    "id": "wYa-QXAVCYs8",
    "executionInfo": {
     "status": "ok",
     "timestamp": 1711520681682,
     "user_tz": -540,
     "elapsed": 274,
     "user": {
      "displayName": "­전유진 / 학생 / 데이터사이언스학과",
      "userId": "15652399905532456357"
     }
    },
    "outputId": "b6554480-f402-4a4d-dd43-27b8718b511b",
    "ExecuteTime": {
     "end_time": "2024-04-03T16:20:20.876790Z",
     "start_time": "2024-04-03T16:20:20.841389Z"
    }
   },
   "execution_count": 18,
   "outputs": [
    {
     "name": "stdout",
     "output_type": "stream",
     "text": [
      "MSE:  3.075581089279304\n",
      "r-squared:  0.8629236934848998\n"
     ]
    }
   ]
  },
  {
   "cell_type": "markdown",
   "source": [
    "# 2. Feature Selection"
   ],
   "metadata": {
    "id": "wWdfX3P3csbY"
   }
  },
  {
   "cell_type": "code",
   "source": [
    "df = pd.read_csv(\"Boston.csv\")\n",
    "df.head()\n"
   ],
   "metadata": {
    "colab": {
     "base_uri": "https://localhost:8080/",
     "height": 206
    },
    "id": "T8ZNqkLpoAkJ",
    "executionInfo": {
     "status": "ok",
     "timestamp": 1711591928598,
     "user_tz": -540,
     "elapsed": 1173,
     "user": {
      "displayName": "­전유진 / 학생 / 데이터사이언스학과",
      "userId": "15652399905532456357"
     }
    },
    "outputId": "7a520867-525e-44b3-f271-a340917de5ce",
    "ExecuteTime": {
     "end_time": "2024-04-03T16:25:57.904127Z",
     "start_time": "2024-04-03T16:25:57.893647Z"
    }
   },
   "execution_count": 20,
   "outputs": [
    {
     "data": {
      "text/plain": "      crim    zn  indus  chas    nox     rm   age     dis  rad  tax  ptratio  \\\n0  0.00632  18.0   2.31     0  0.538  6.575  65.2  4.0900    1  296     15.3   \n1  0.02731   0.0   7.07     0  0.469  6.421  78.9  4.9671    2  242     17.8   \n2  0.02729   0.0   7.07     0  0.469  7.185  61.1  4.9671    2  242     17.8   \n3  0.03237   0.0   2.18     0  0.458  6.998  45.8  6.0622    3  222     18.7   \n4  0.06905   0.0   2.18     0  0.458  7.147  54.2  6.0622    3  222     18.7   \n\n    black  lstat  medv  \n0  396.90   4.98  24.0  \n1  396.90   9.14  21.6  \n2  392.83   4.03  34.7  \n3  394.63   2.94  33.4  \n4  396.90   5.33  36.2  ",
      "text/html": "<div>\n<style scoped>\n    .dataframe tbody tr th:only-of-type {\n        vertical-align: middle;\n    }\n\n    .dataframe tbody tr th {\n        vertical-align: top;\n    }\n\n    .dataframe thead th {\n        text-align: right;\n    }\n</style>\n<table border=\"1\" class=\"dataframe\">\n  <thead>\n    <tr style=\"text-align: right;\">\n      <th></th>\n      <th>crim</th>\n      <th>zn</th>\n      <th>indus</th>\n      <th>chas</th>\n      <th>nox</th>\n      <th>rm</th>\n      <th>age</th>\n      <th>dis</th>\n      <th>rad</th>\n      <th>tax</th>\n      <th>ptratio</th>\n      <th>black</th>\n      <th>lstat</th>\n      <th>medv</th>\n    </tr>\n  </thead>\n  <tbody>\n    <tr>\n      <th>0</th>\n      <td>0.00632</td>\n      <td>18.0</td>\n      <td>2.31</td>\n      <td>0</td>\n      <td>0.538</td>\n      <td>6.575</td>\n      <td>65.2</td>\n      <td>4.0900</td>\n      <td>1</td>\n      <td>296</td>\n      <td>15.3</td>\n      <td>396.90</td>\n      <td>4.98</td>\n      <td>24.0</td>\n    </tr>\n    <tr>\n      <th>1</th>\n      <td>0.02731</td>\n      <td>0.0</td>\n      <td>7.07</td>\n      <td>0</td>\n      <td>0.469</td>\n      <td>6.421</td>\n      <td>78.9</td>\n      <td>4.9671</td>\n      <td>2</td>\n      <td>242</td>\n      <td>17.8</td>\n      <td>396.90</td>\n      <td>9.14</td>\n      <td>21.6</td>\n    </tr>\n    <tr>\n      <th>2</th>\n      <td>0.02729</td>\n      <td>0.0</td>\n      <td>7.07</td>\n      <td>0</td>\n      <td>0.469</td>\n      <td>7.185</td>\n      <td>61.1</td>\n      <td>4.9671</td>\n      <td>2</td>\n      <td>242</td>\n      <td>17.8</td>\n      <td>392.83</td>\n      <td>4.03</td>\n      <td>34.7</td>\n    </tr>\n    <tr>\n      <th>3</th>\n      <td>0.03237</td>\n      <td>0.0</td>\n      <td>2.18</td>\n      <td>0</td>\n      <td>0.458</td>\n      <td>6.998</td>\n      <td>45.8</td>\n      <td>6.0622</td>\n      <td>3</td>\n      <td>222</td>\n      <td>18.7</td>\n      <td>394.63</td>\n      <td>2.94</td>\n      <td>33.4</td>\n    </tr>\n    <tr>\n      <th>4</th>\n      <td>0.06905</td>\n      <td>0.0</td>\n      <td>2.18</td>\n      <td>0</td>\n      <td>0.458</td>\n      <td>7.147</td>\n      <td>54.2</td>\n      <td>6.0622</td>\n      <td>3</td>\n      <td>222</td>\n      <td>18.7</td>\n      <td>396.90</td>\n      <td>5.33</td>\n      <td>36.2</td>\n    </tr>\n  </tbody>\n</table>\n</div>"
     },
     "execution_count": 20,
     "metadata": {},
     "output_type": "execute_result"
    }
   ]
  },
  {
   "cell_type": "code",
   "source": [
    "train_data, test_data = train_test_split(df)\n",
    "\n",
    "X_train, y_train = np.array(train_data.drop(\"crim\", axis=1)), np.array(train_data[\"crim\"])\n",
    "X_test, y_test = np.array(test_data.drop(\"crim\", axis=1)), np.array(test_data[\"crim\"])"
   ],
   "metadata": {
    "id": "izO-A--J1fPL",
    "ExecuteTime": {
     "end_time": "2024-04-03T16:52:39.718357Z",
     "start_time": "2024-04-03T16:52:39.713313Z"
    }
   },
   "execution_count": 56,
   "outputs": []
  },
  {
   "cell_type": "markdown",
   "source": [
    "## 2-1. Subset Selection"
   ],
   "metadata": {
    "id": "b7L06Vs0nO0T"
   }
  },
  {
   "cell_type": "code",
   "source": [
    "def adjusted_r_squared(y_true, y_pred, n_features):\n",
    "    # Calculate R-squared\n",
    "    r2 = r_squared(y_true, y_pred)\n",
    "\n",
    "    # Calculate the number of samples\n",
    "    n_samples = len(y_true)\n",
    "\n",
    "    # Calculate adjusted R-squared\n",
    "    adj_r2 = 1 - ((1 - r2) * (n_samples - 1) / (n_samples - n_features - 1))\n",
    "\n",
    "    return adj_r2\n",
    "\n",
    "def subset_selection(X, y, metric):\n",
    "    n_features = X.shape[1]\n",
    "    best_subset = []\n",
    "    best_metric = 0\n",
    "\n",
    "    for k in range(1, n_features + 1):\n",
    "        # Generate all possible combinations of features\n",
    "        subsets = np.array(list(itertools.combinations(range(n_features), k)))\n",
    "        \n",
    "\n",
    "        for subset in subsets:\n",
    "            # Fit linear regression model using the current subset\n",
    "            X_subset = X[:, subset]\n",
    "            model = LinearRegression()\n",
    "            model.fit(X_subset, y)\n",
    "\n",
    "            y_pred = model.predict(X_subset)\n",
    "            if metric == \"r2\":\n",
    "              metric_val = r_squared(y, y_pred)\n",
    "            elif metric == \"adj_r2\":\n",
    "              metric_val = adjusted_r_squared(y, y_pred, k)\n",
    "\n",
    "            # Update best subset\n",
    "            if metric_val > best_metric:\n",
    "                best_metric = metric_val\n",
    "                best_subset = subset\n",
    "\n",
    "    return best_subset\n"
   ],
   "metadata": {
    "id": "sYbYpmdfnVTc",
    "ExecuteTime": {
     "end_time": "2024-04-03T16:52:45.080873Z",
     "start_time": "2024-04-03T16:52:45.077124Z"
    }
   },
   "execution_count": 57,
   "outputs": []
  },
  {
   "cell_type": "code",
   "outputs": [
    {
     "data": {
      "text/plain": "array([60. ,  5.8, 23.5,  8.3, 38.7, 49.8, 17.9, 69.3, 57.6,  9.3, 18.2,\n       38.9, 79.2, 31.6, 50.5,  9.4, 32. , 21.4, 45.1, 50.6, 59.7, 16.6,\n       20.5,  3.7,  5.7, 18.4, 49.9,  2.1, 37. , 25.6, 35.2, 59. , 53.4,\n       31.7,  9.3, 17. , 22.9, 52.9, 15.6, 58.7])"
     },
     "execution_count": 48,
     "metadata": {},
     "output_type": "execute_result"
    }
   ],
   "source": [
    "\n"
   ],
   "metadata": {
    "collapsed": false,
    "ExecuteTime": {
     "end_time": "2024-04-03T16:41:01.737472Z",
     "start_time": "2024-04-03T16:41:01.734259Z"
    }
   },
   "execution_count": 48
  },
  {
   "cell_type": "code",
   "source": [
    "# metric: r-squared\n",
    "best_subset_indices = subset_selection(X_train, y_train, \"r2\")\n",
    "\n",
    "print(f\"best subset features: {len(best_subset_indices)} / {len(df.columns) - 1}\")\n",
    "print(list(df.drop([\"crim\"], axis=1).columns[best_subset_indices]))"
   ],
   "metadata": {
    "colab": {
     "base_uri": "https://localhost:8080/"
    },
    "id": "yP5FmGOX7bso",
    "executionInfo": {
     "status": "ok",
     "timestamp": 1711520725691,
     "user_tz": -540,
     "elapsed": 11978,
     "user": {
      "displayName": "­전유진 / 학생 / 데이터사이언스학과",
      "userId": "15652399905532456357"
     }
    },
    "outputId": "5b162074-aa91-4040-9491-77d3cfaf0594",
    "ExecuteTime": {
     "end_time": "2024-04-03T16:52:50.655848Z",
     "start_time": "2024-04-03T16:52:47.712273Z"
    }
   },
   "execution_count": 58,
   "outputs": [
    {
     "name": "stdout",
     "output_type": "stream",
     "text": [
      "best subset features: 13 / 13\n",
      "['zn', 'indus', 'chas', 'nox', 'rm', 'age', 'dis', 'rad', 'tax', 'ptratio', 'black', 'lstat', 'medv']\n"
     ]
    }
   ]
  },
  {
   "cell_type": "code",
   "source": [
    "# metric: adjusted r-squared\n",
    "best_subset_indices = subset_selection(X_train, y_train, \"adj_r2\")\n",
    "print(f\"best subset features: {len(best_subset_indices)} / {len(df.columns) - 1}\")\n",
    "print(list(df.drop([\"crim\"], axis=1).columns[best_subset_indices]))"
   ],
   "metadata": {
    "colab": {
     "base_uri": "https://localhost:8080/"
    },
    "id": "S0-YUksd9fVz",
    "executionInfo": {
     "status": "ok",
     "timestamp": 1711520734346,
     "user_tz": -540,
     "elapsed": 8657,
     "user": {
      "displayName": "­전유진 / 학생 / 데이터사이언스학과",
      "userId": "15652399905532456357"
     }
    },
    "outputId": "c3ef57ce-fd81-422f-94f2-10e42b356da7",
    "ExecuteTime": {
     "end_time": "2024-04-03T16:52:55.059690Z",
     "start_time": "2024-04-03T16:52:52.036188Z"
    }
   },
   "execution_count": 59,
   "outputs": [
    {
     "name": "stdout",
     "output_type": "stream",
     "text": [
      "best subset features: 8 / 13\n",
      "['zn', 'nox', 'rm', 'dis', 'rad', 'ptratio', 'black', 'medv']\n"
     ]
    }
   ]
  },
  {
   "cell_type": "markdown",
   "source": [
    "## 2-2. Forward Step-wise Selection"
   ],
   "metadata": {
    "id": "RE_GEzEunScd"
   }
  },
  {
   "cell_type": "code",
   "source": [
    "def forward_stepwise_selection(X, y, k_fold=5):\n",
    "    n_features = X.shape[1]\n",
    "    selected_features = []\n",
    "    remaining_features = list(range(n_features))\n",
    "    best_mse = float('inf')\n",
    "\n",
    "    for _ in range(n_features):\n",
    "        best_feature = None\n",
    "        best_mse_with_feature = float('inf')\n",
    "\n",
    "        # Iterate over remaining features\n",
    "        for feature in remaining_features:\n",
    "            # Append the selected feature to the current subset\n",
    "            current_subset = selected_features + [feature]\n",
    "\n",
    "            # Perform k-fold cross-validation\n",
    "            mse_sum = 0\n",
    "            fold_indices = np.array_split(np.random.permutation(len(X)), k_fold)\n",
    "            for fold_idx in range(k_fold):\n",
    "                # Split data into train and validation sets\n",
    "                val_indices = fold_indices[fold_idx]\n",
    "                train_indices = np.concatenate([fold_indices[i] for i in range(k_fold) if i != fold_idx])\n",
    "                X_cross_train, X_cross_val = X[train_indices], X[val_indices]\n",
    "                y_cross_train, y_cross_val = y[train_indices], y[val_indices]\n",
    "\n",
    "                # Fit linear regression model using the current subset on the training data\n",
    "                X_cross_train_subset = X_cross_train[:, current_subset]\n",
    "                X_cross_val_subset = X_cross_val[:, current_subset]\n",
    "                model = LinearRegression()\n",
    "                model.fit(X_cross_train_subset, y_cross_train)\n",
    "\n",
    "                y_pred = model.predict(X_cross_val_subset)\n",
    "\n",
    "                # Calculate mean squared error (MSE) for this fold\n",
    "                mse_fold = mean_squared_error(y_cross_val, y_pred)\n",
    "                mse_sum += mse_fold\n",
    "\n",
    "            # Calculate average MSE across all folds for this feature\n",
    "            avg_mse_with_feature = mse_sum / k_fold\n",
    "\n",
    "            # Update best feature if average MSE is minimized\n",
    "            if avg_mse_with_feature < best_mse_with_feature:\n",
    "                best_mse_with_feature = avg_mse_with_feature\n",
    "                best_feature = feature\n",
    "\n",
    "        # Update selected features and remaining features\n",
    "        selected_features.append(best_feature)\n",
    "        remaining_features.remove(best_feature)\n",
    "\n",
    "        # Update best MSE if MSE with the current subset is minimized\n",
    "        if best_mse_with_feature < best_mse:\n",
    "            best_mse = best_mse_with_feature\n",
    "\n",
    "    return selected_features\n"
   ],
   "metadata": {
    "id": "3XGgQoepcukL",
    "ExecuteTime": {
     "end_time": "2024-04-03T16:55:09.444380Z",
     "start_time": "2024-04-03T16:55:09.435864Z"
    }
   },
   "execution_count": 60,
   "outputs": []
  },
  {
   "cell_type": "code",
   "source": [
    "best_subset_indices = forward_stepwise_selection(X_train, y_train, 5)\n",
    "print(f\"best subset features: {len(best_subset_indices)} / {len(df.columns) - 1}\")\n",
    "print(list(df.drop([\"crim\"], axis=1).columns[best_subset_indices]))"
   ],
   "metadata": {
    "colab": {
     "base_uri": "https://localhost:8080/"
    },
    "id": "SBPglkHekJ0e",
    "executionInfo": {
     "status": "ok",
     "timestamp": 1711520768040,
     "user_tz": -540,
     "elapsed": 6,
     "user": {
      "displayName": "­전유진 / 학생 / 데이터사이언스학과",
      "userId": "15652399905532456357"
     }
    },
    "outputId": "943502ab-e394-467a-8124-9a71dd359489"
   },
   "execution_count": null,
   "outputs": [
    {
     "output_type": "stream",
     "name": "stdout",
     "text": [
      "best subset features: 13 / 13\n",
      "['rad', 'medv', 'lstat', 'zn', 'black', 'indus', 'chas', 'age', 'nox', 'dis', 'ptratio', 'tax', 'rm']\n"
     ]
    }
   ]
  },
  {
   "cell_type": "markdown",
   "source": [
    "# 3. Logistic Regression"
   ],
   "metadata": {
    "id": "xkjIPgy0cvFk"
   }
  },
  {
   "cell_type": "code",
   "source": [
    "df = pd.read_csv(\"/content/drive/MyDrive/2-1_MLDL/Default.csv\")\n",
    "df.head()"
   ],
   "metadata": {
    "colab": {
     "base_uri": "https://localhost:8080/",
     "height": 206
    },
    "id": "obyNMnG7sHk7",
    "executionInfo": {
     "status": "ok",
     "timestamp": 1711520791094,
     "user_tz": -540,
     "elapsed": 948,
     "user": {
      "displayName": "­전유진 / 학생 / 데이터사이언스학과",
      "userId": "15652399905532456357"
     }
    },
    "outputId": "fd463337-11ff-431f-cad5-2668bae52512"
   },
   "execution_count": null,
   "outputs": [
    {
     "output_type": "execute_result",
     "data": {
      "text/plain": [
       "  default student      balance        income\n",
       "0      No      No   729.526495  44361.625074\n",
       "1      No     Yes   817.180407  12106.134700\n",
       "2      No      No  1073.549164  31767.138947\n",
       "3      No      No   529.250605  35704.493935\n",
       "4      No      No   785.655883  38463.495879"
      ],
      "text/html": [
       "\n",
       "  <div id=\"df-861954bf-7578-46bc-9b29-4c295eaab1b3\" class=\"colab-df-container\">\n",
       "    <div>\n",
       "<style scoped>\n",
       "    .dataframe tbody tr th:only-of-type {\n",
       "        vertical-align: middle;\n",
       "    }\n",
       "\n",
       "    .dataframe tbody tr th {\n",
       "        vertical-align: top;\n",
       "    }\n",
       "\n",
       "    .dataframe thead th {\n",
       "        text-align: right;\n",
       "    }\n",
       "</style>\n",
       "<table border=\"1\" class=\"dataframe\">\n",
       "  <thead>\n",
       "    <tr style=\"text-align: right;\">\n",
       "      <th></th>\n",
       "      <th>default</th>\n",
       "      <th>student</th>\n",
       "      <th>balance</th>\n",
       "      <th>income</th>\n",
       "    </tr>\n",
       "  </thead>\n",
       "  <tbody>\n",
       "    <tr>\n",
       "      <th>0</th>\n",
       "      <td>No</td>\n",
       "      <td>No</td>\n",
       "      <td>729.526495</td>\n",
       "      <td>44361.625074</td>\n",
       "    </tr>\n",
       "    <tr>\n",
       "      <th>1</th>\n",
       "      <td>No</td>\n",
       "      <td>Yes</td>\n",
       "      <td>817.180407</td>\n",
       "      <td>12106.134700</td>\n",
       "    </tr>\n",
       "    <tr>\n",
       "      <th>2</th>\n",
       "      <td>No</td>\n",
       "      <td>No</td>\n",
       "      <td>1073.549164</td>\n",
       "      <td>31767.138947</td>\n",
       "    </tr>\n",
       "    <tr>\n",
       "      <th>3</th>\n",
       "      <td>No</td>\n",
       "      <td>No</td>\n",
       "      <td>529.250605</td>\n",
       "      <td>35704.493935</td>\n",
       "    </tr>\n",
       "    <tr>\n",
       "      <th>4</th>\n",
       "      <td>No</td>\n",
       "      <td>No</td>\n",
       "      <td>785.655883</td>\n",
       "      <td>38463.495879</td>\n",
       "    </tr>\n",
       "  </tbody>\n",
       "</table>\n",
       "</div>\n",
       "    <div class=\"colab-df-buttons\">\n",
       "\n",
       "  <div class=\"colab-df-container\">\n",
       "    <button class=\"colab-df-convert\" onclick=\"convertToInteractive('df-861954bf-7578-46bc-9b29-4c295eaab1b3')\"\n",
       "            title=\"Convert this dataframe to an interactive table.\"\n",
       "            style=\"display:none;\">\n",
       "\n",
       "  <svg xmlns=\"http://www.w3.org/2000/svg\" height=\"24px\" viewBox=\"0 -960 960 960\">\n",
       "    <path d=\"M120-120v-720h720v720H120Zm60-500h600v-160H180v160Zm220 220h160v-160H400v160Zm0 220h160v-160H400v160ZM180-400h160v-160H180v160Zm440 0h160v-160H620v160ZM180-180h160v-160H180v160Zm440 0h160v-160H620v160Z\"/>\n",
       "  </svg>\n",
       "    </button>\n",
       "\n",
       "  <style>\n",
       "    .colab-df-container {\n",
       "      display:flex;\n",
       "      gap: 12px;\n",
       "    }\n",
       "\n",
       "    .colab-df-convert {\n",
       "      background-color: #E8F0FE;\n",
       "      border: none;\n",
       "      border-radius: 50%;\n",
       "      cursor: pointer;\n",
       "      display: none;\n",
       "      fill: #1967D2;\n",
       "      height: 32px;\n",
       "      padding: 0 0 0 0;\n",
       "      width: 32px;\n",
       "    }\n",
       "\n",
       "    .colab-df-convert:hover {\n",
       "      background-color: #E2EBFA;\n",
       "      box-shadow: 0px 1px 2px rgba(60, 64, 67, 0.3), 0px 1px 3px 1px rgba(60, 64, 67, 0.15);\n",
       "      fill: #174EA6;\n",
       "    }\n",
       "\n",
       "    .colab-df-buttons div {\n",
       "      margin-bottom: 4px;\n",
       "    }\n",
       "\n",
       "    [theme=dark] .colab-df-convert {\n",
       "      background-color: #3B4455;\n",
       "      fill: #D2E3FC;\n",
       "    }\n",
       "\n",
       "    [theme=dark] .colab-df-convert:hover {\n",
       "      background-color: #434B5C;\n",
       "      box-shadow: 0px 1px 3px 1px rgba(0, 0, 0, 0.15);\n",
       "      filter: drop-shadow(0px 1px 2px rgba(0, 0, 0, 0.3));\n",
       "      fill: #FFFFFF;\n",
       "    }\n",
       "  </style>\n",
       "\n",
       "    <script>\n",
       "      const buttonEl =\n",
       "        document.querySelector('#df-861954bf-7578-46bc-9b29-4c295eaab1b3 button.colab-df-convert');\n",
       "      buttonEl.style.display =\n",
       "        google.colab.kernel.accessAllowed ? 'block' : 'none';\n",
       "\n",
       "      async function convertToInteractive(key) {\n",
       "        const element = document.querySelector('#df-861954bf-7578-46bc-9b29-4c295eaab1b3');\n",
       "        const dataTable =\n",
       "          await google.colab.kernel.invokeFunction('convertToInteractive',\n",
       "                                                    [key], {});\n",
       "        if (!dataTable) return;\n",
       "\n",
       "        const docLinkHtml = 'Like what you see? Visit the ' +\n",
       "          '<a target=\"_blank\" href=https://colab.research.google.com/notebooks/data_table.ipynb>data table notebook</a>'\n",
       "          + ' to learn more about interactive tables.';\n",
       "        element.innerHTML = '';\n",
       "        dataTable['output_type'] = 'display_data';\n",
       "        await google.colab.output.renderOutput(dataTable, element);\n",
       "        const docLink = document.createElement('div');\n",
       "        docLink.innerHTML = docLinkHtml;\n",
       "        element.appendChild(docLink);\n",
       "      }\n",
       "    </script>\n",
       "  </div>\n",
       "\n",
       "\n",
       "<div id=\"df-010389bd-79f9-456f-ad38-59c2114cefe6\">\n",
       "  <button class=\"colab-df-quickchart\" onclick=\"quickchart('df-010389bd-79f9-456f-ad38-59c2114cefe6')\"\n",
       "            title=\"Suggest charts\"\n",
       "            style=\"display:none;\">\n",
       "\n",
       "<svg xmlns=\"http://www.w3.org/2000/svg\" height=\"24px\"viewBox=\"0 0 24 24\"\n",
       "     width=\"24px\">\n",
       "    <g>\n",
       "        <path d=\"M19 3H5c-1.1 0-2 .9-2 2v14c0 1.1.9 2 2 2h14c1.1 0 2-.9 2-2V5c0-1.1-.9-2-2-2zM9 17H7v-7h2v7zm4 0h-2V7h2v10zm4 0h-2v-4h2v4z\"/>\n",
       "    </g>\n",
       "</svg>\n",
       "  </button>\n",
       "\n",
       "<style>\n",
       "  .colab-df-quickchart {\n",
       "      --bg-color: #E8F0FE;\n",
       "      --fill-color: #1967D2;\n",
       "      --hover-bg-color: #E2EBFA;\n",
       "      --hover-fill-color: #174EA6;\n",
       "      --disabled-fill-color: #AAA;\n",
       "      --disabled-bg-color: #DDD;\n",
       "  }\n",
       "\n",
       "  [theme=dark] .colab-df-quickchart {\n",
       "      --bg-color: #3B4455;\n",
       "      --fill-color: #D2E3FC;\n",
       "      --hover-bg-color: #434B5C;\n",
       "      --hover-fill-color: #FFFFFF;\n",
       "      --disabled-bg-color: #3B4455;\n",
       "      --disabled-fill-color: #666;\n",
       "  }\n",
       "\n",
       "  .colab-df-quickchart {\n",
       "    background-color: var(--bg-color);\n",
       "    border: none;\n",
       "    border-radius: 50%;\n",
       "    cursor: pointer;\n",
       "    display: none;\n",
       "    fill: var(--fill-color);\n",
       "    height: 32px;\n",
       "    padding: 0;\n",
       "    width: 32px;\n",
       "  }\n",
       "\n",
       "  .colab-df-quickchart:hover {\n",
       "    background-color: var(--hover-bg-color);\n",
       "    box-shadow: 0 1px 2px rgba(60, 64, 67, 0.3), 0 1px 3px 1px rgba(60, 64, 67, 0.15);\n",
       "    fill: var(--button-hover-fill-color);\n",
       "  }\n",
       "\n",
       "  .colab-df-quickchart-complete:disabled,\n",
       "  .colab-df-quickchart-complete:disabled:hover {\n",
       "    background-color: var(--disabled-bg-color);\n",
       "    fill: var(--disabled-fill-color);\n",
       "    box-shadow: none;\n",
       "  }\n",
       "\n",
       "  .colab-df-spinner {\n",
       "    border: 2px solid var(--fill-color);\n",
       "    border-color: transparent;\n",
       "    border-bottom-color: var(--fill-color);\n",
       "    animation:\n",
       "      spin 1s steps(1) infinite;\n",
       "  }\n",
       "\n",
       "  @keyframes spin {\n",
       "    0% {\n",
       "      border-color: transparent;\n",
       "      border-bottom-color: var(--fill-color);\n",
       "      border-left-color: var(--fill-color);\n",
       "    }\n",
       "    20% {\n",
       "      border-color: transparent;\n",
       "      border-left-color: var(--fill-color);\n",
       "      border-top-color: var(--fill-color);\n",
       "    }\n",
       "    30% {\n",
       "      border-color: transparent;\n",
       "      border-left-color: var(--fill-color);\n",
       "      border-top-color: var(--fill-color);\n",
       "      border-right-color: var(--fill-color);\n",
       "    }\n",
       "    40% {\n",
       "      border-color: transparent;\n",
       "      border-right-color: var(--fill-color);\n",
       "      border-top-color: var(--fill-color);\n",
       "    }\n",
       "    60% {\n",
       "      border-color: transparent;\n",
       "      border-right-color: var(--fill-color);\n",
       "    }\n",
       "    80% {\n",
       "      border-color: transparent;\n",
       "      border-right-color: var(--fill-color);\n",
       "      border-bottom-color: var(--fill-color);\n",
       "    }\n",
       "    90% {\n",
       "      border-color: transparent;\n",
       "      border-bottom-color: var(--fill-color);\n",
       "    }\n",
       "  }\n",
       "</style>\n",
       "\n",
       "  <script>\n",
       "    async function quickchart(key) {\n",
       "      const quickchartButtonEl =\n",
       "        document.querySelector('#' + key + ' button');\n",
       "      quickchartButtonEl.disabled = true;  // To prevent multiple clicks.\n",
       "      quickchartButtonEl.classList.add('colab-df-spinner');\n",
       "      try {\n",
       "        const charts = await google.colab.kernel.invokeFunction(\n",
       "            'suggestCharts', [key], {});\n",
       "      } catch (error) {\n",
       "        console.error('Error during call to suggestCharts:', error);\n",
       "      }\n",
       "      quickchartButtonEl.classList.remove('colab-df-spinner');\n",
       "      quickchartButtonEl.classList.add('colab-df-quickchart-complete');\n",
       "    }\n",
       "    (() => {\n",
       "      let quickchartButtonEl =\n",
       "        document.querySelector('#df-010389bd-79f9-456f-ad38-59c2114cefe6 button');\n",
       "      quickchartButtonEl.style.display =\n",
       "        google.colab.kernel.accessAllowed ? 'block' : 'none';\n",
       "    })();\n",
       "  </script>\n",
       "</div>\n",
       "    </div>\n",
       "  </div>\n"
      ],
      "application/vnd.google.colaboratory.intrinsic+json": {
       "type": "dataframe",
       "variable_name": "df",
       "summary": "{\n  \"name\": \"df\",\n  \"rows\": 10000,\n  \"fields\": [\n    {\n      \"column\": \"default\",\n      \"properties\": {\n        \"dtype\": \"category\",\n        \"num_unique_values\": 2,\n        \"samples\": [\n          \"Yes\",\n          \"No\"\n        ],\n        \"semantic_type\": \"\",\n        \"description\": \"\"\n      }\n    },\n    {\n      \"column\": \"student\",\n      \"properties\": {\n        \"dtype\": \"category\",\n        \"num_unique_values\": 2,\n        \"samples\": [\n          \"Yes\",\n          \"No\"\n        ],\n        \"semantic_type\": \"\",\n        \"description\": \"\"\n      }\n    },\n    {\n      \"column\": \"balance\",\n      \"properties\": {\n        \"dtype\": \"number\",\n        \"std\": 483.71498520561704,\n        \"min\": 0.0,\n        \"max\": 2654.32257628018,\n        \"num_unique_values\": 9502,\n        \"samples\": [\n          245.346492518079,\n          186.523520052956\n        ],\n        \"semantic_type\": \"\",\n        \"description\": \"\"\n      }\n    },\n    {\n      \"column\": \"income\",\n      \"properties\": {\n        \"dtype\": \"number\",\n        \"std\": 13336.639562689938,\n        \"min\": 771.967729386357,\n        \"max\": 73554.2334951972,\n        \"num_unique_values\": 10000,\n        \"samples\": [\n          31507.0892769087,\n          42139.0702685072\n        ],\n        \"semantic_type\": \"\",\n        \"description\": \"\"\n      }\n    }\n  ]\n}"
      }
     },
     "metadata": {},
     "execution_count": 19
    }
   ]
  },
  {
   "cell_type": "code",
   "source": [
    "print(df.default.unique())\n",
    "print(df.student.unique())"
   ],
   "metadata": {
    "colab": {
     "base_uri": "https://localhost:8080/"
    },
    "id": "d806CvEis9Tl",
    "executionInfo": {
     "status": "ok",
     "timestamp": 1711520800615,
     "user_tz": -540,
     "elapsed": 291,
     "user": {
      "displayName": "­전유진 / 학생 / 데이터사이언스학과",
      "userId": "15652399905532456357"
     }
    },
    "outputId": "8bb31219-9398-4716-8c68-c46e7c85e22f"
   },
   "execution_count": null,
   "outputs": [
    {
     "output_type": "stream",
     "name": "stdout",
     "text": [
      "['No' 'Yes']\n",
      "['No' 'Yes']\n"
     ]
    }
   ]
  },
  {
   "cell_type": "code",
   "source": [
    "df['student'] = df.student.map({'No':0, 'Yes':1})\n",
    "df['default'] = df.default.map({'No':0, 'Yes':1})"
   ],
   "metadata": {
    "id": "60ZgUG-es4AM"
   },
   "execution_count": null,
   "outputs": []
  },
  {
   "cell_type": "code",
   "source": [
    "train_data, test_data = train_test_split(df)\n",
    "\n",
    "X_train, y_train = np.array(train_data.drop(\"default\", axis=1)), np.array(train_data.default)\n",
    "X_test, y_test = np.array(test_data.drop(\"default\", axis=1)), np.array(test_data.default)"
   ],
   "metadata": {
    "id": "juzDAZkptIZk"
   },
   "execution_count": null,
   "outputs": []
  },
  {
   "cell_type": "code",
   "source": [
    "class LogisticRegression:\n",
    "    def __init__(self, learning_rate=0.01, n_iterations=1000):\n",
    "        self.learning_rate = learning_rate\n",
    "        self.n_iterations = n_iterations\n",
    "        self.weights = None\n",
    "        self.bias = None\n",
    "\n",
    "    def sigmoid(self, z):\n",
    "        return 1 / (1 + np.exp(-z))\n",
    "\n",
    "    def fit(self, X, y):\n",
    "        n_samples, n_features = X.shape\n",
    "        self.weights = np.zeros(n_features)\n",
    "        self.bias = 0\n",
    "\n",
    "        for _ in range(self.n_iterations):\n",
    "            linear_model = np.dot(X, self.weights) + self.bias\n",
    "            y_predicted = self.sigmoid(linear_model)\n",
    "\n",
    "            # Gradient descent\n",
    "            dw = (1 / n_samples) * np.dot(X.T, (y_predicted - y))\n",
    "            db = (1 / n_samples) * np.sum(y_predicted - y)\n",
    "\n",
    "            self.weights -= self.learning_rate * dw\n",
    "            self.bias -= self.learning_rate * db\n",
    "\n",
    "    def predict(self, X):\n",
    "        linear_model = np.dot(X, self.weights) + self.bias\n",
    "        y_predicted = self.sigmoid(linear_model)\n",
    "        y_predicted_cls = [1 if i > 0.5 else 0 for i in y_predicted]\n",
    "        return np.array(y_predicted_cls)\n",
    "\n",
    "\n",
    "def accuracy(y_true, y_pred):\n",
    "    # Compute accuracy\n",
    "    correct = sum(1 for true, pred in zip(y_true, y_pred) if true == pred)\n",
    "    return correct / len(y_true)"
   ],
   "metadata": {
    "id": "A6BR9NcRcwJY"
   },
   "execution_count": null,
   "outputs": []
  },
  {
   "cell_type": "code",
   "source": [
    "model = LogisticRegression(learning_rate=0.01, n_iterations=1000)\n",
    "model.fit(X_train, y_train)\n",
    "\n",
    "y_pred = model.predict(X_test)\n",
    "\n",
    "print(\"Accuracy:\", accuracy(y_test, y_pred))"
   ],
   "metadata": {
    "colab": {
     "base_uri": "https://localhost:8080/"
    },
    "id": "GKVd9GvDc0Ul",
    "executionInfo": {
     "status": "ok",
     "timestamp": 1711520824915,
     "user_tz": -540,
     "elapsed": 1302,
     "user": {
      "displayName": "­전유진 / 학생 / 데이터사이언스학과",
      "userId": "15652399905532456357"
     }
    },
    "outputId": "c751218b-2281-421e-81f5-2396a9da3e74"
   },
   "execution_count": null,
   "outputs": [
    {
     "output_type": "stream",
     "name": "stdout",
     "text": [
      "Accuracy: 0.966\n"
     ]
    }
   ]
  },
  {
   "cell_type": "markdown",
   "source": [
    "# 4. Linear Discriminant Analysis (LDA)"
   ],
   "metadata": {
    "id": "xM3RGtlR0dtc"
   }
  },
  {
   "cell_type": "code",
   "source": [
    "from sklearn import datasets\n",
    "\n",
    "iris = datasets.load_iris()\n",
    "X = iris.data\n",
    "y = iris.target\n",
    "label_dict = {0: \"Setosa\", 1: \"Versicolor\", 2: \"Virginica\"}"
   ],
   "metadata": {
    "id": "dIoiojjs7Ogn"
   },
   "execution_count": null,
   "outputs": []
  },
  {
   "cell_type": "code",
   "source": [
    "print(X.shape, y.shape)"
   ],
   "metadata": {
    "colab": {
     "base_uri": "https://localhost:8080/"
    },
    "id": "A5HvXWDSg7lF",
    "executionInfo": {
     "status": "ok",
     "timestamp": 1711592618611,
     "user_tz": -540,
     "elapsed": 4,
     "user": {
      "displayName": "­전유진 / 학생 / 데이터사이언스학과",
      "userId": "15652399905532456357"
     }
    },
    "outputId": "2d7b088f-c4bd-4056-9711-2cec6d0fe552"
   },
   "execution_count": null,
   "outputs": [
    {
     "output_type": "stream",
     "name": "stdout",
     "text": [
      "(150, 4) (150,)\n"
     ]
    }
   ]
  },
  {
   "cell_type": "code",
   "source": [
    "overall_mean = np.mean(X, axis=0).reshape(-1, 1)\n",
    "\n",
    "labels = [0, 1, 2]\n",
    "\n",
    "mean_vectors = []\n",
    "for label in labels:\n",
    "    mean_vectors.append(np.mean(X[y==label]))\n",
    "\n",
    "S_W = np.zeros((4, 4)) # within-class scatter matrix\n",
    "S_B = np.zeros((4, 4)) # between-class scatter matrix\n",
    "\n",
    "for label, mean_vector in zip(labels, mean_vectors):\n",
    "    S_i = np.zeros((4, 4)) # scatter matrix for each class\n",
    "    n = len(X[y==label])\n",
    "    mean_vector = mean_vector.reshape(-1, 1)\n",
    "\n",
    "    S_B += n * np.dot((mean_vector - overall_mean), (mean_vector - overall_mean).T)\n",
    "    for row in X[y==label]:\n",
    "        row = row.reshape(-1, 1)\n",
    "\n",
    "        S_i += np.dot((row - mean_vector), (row - mean_vector).T)\n",
    "\n",
    "    S_W += S_i"
   ],
   "metadata": {
    "id": "1q0WJyouWTDi"
   },
   "execution_count": null,
   "outputs": []
  },
  {
   "cell_type": "code",
   "source": [
    "eigen_values, eigen_vectors = np.linalg.eig(np.linalg.inv(S_W).dot(S_B))\n",
    "\n",
    "eigen_pairs = [(np.abs(eigen_values[i]), eigen_vectors[:, i]) for i in range(4)]\n",
    "\n",
    "eigen_sum = sum(eigen_values)\n",
    "for i, eigen in enumerate(eigen_pairs):\n",
    "    print(\"eigenvalue {0:}: {1: .2%}\".format(i, eigen[0] / eigen_sum))"
   ],
   "metadata": {
    "colab": {
     "base_uri": "https://localhost:8080/"
    },
    "id": "CBpY1U2VbGyv",
    "executionInfo": {
     "status": "ok",
     "timestamp": 1711592619679,
     "user_tz": -540,
     "elapsed": 3,
     "user": {
      "displayName": "­전유진 / 학생 / 데이터사이언스학과",
      "userId": "15652399905532456357"
     }
    },
    "outputId": "c28dc7c1-b471-43e6-c3d3-b100c1c06df0"
   },
   "execution_count": null,
   "outputs": [
    {
     "output_type": "stream",
     "name": "stdout",
     "text": [
      "eigenvalue 0:  85.55%\n",
      "eigenvalue 1:  14.45%\n",
      "eigenvalue 2:  0.00%\n",
      "eigenvalue 3:  0.00%\n"
     ]
    }
   ]
  },
  {
   "cell_type": "code",
   "source": [
    "W = eigen_vectors[:2].reshape(4,2)\n",
    "X_LDA = X.dot(W)"
   ],
   "metadata": {
    "id": "jywWMRP3-ThA"
   },
   "execution_count": null,
   "outputs": []
  },
  {
   "cell_type": "code",
   "source": [
    "ax = plt.subplot(111)\n",
    "for label, marker, color in zip([0, 1, 2], [\"^\", \"o\", \"s\"], [\"red\", \"blue\", \"green\"]):\n",
    "    plt.scatter(\n",
    "        x=X_LDA[:, 0][y==label],\n",
    "        y=X_LDA[:, 1][y==label],\n",
    "        marker=marker,\n",
    "        color=color,\n",
    "        alpha=0.5,\n",
    "        label=label_dict[label]\n",
    "        )\n",
    "plt.xlabel(\"X1\")\n",
    "plt.ylabel(\"X2\")\n",
    "plt.legend()\n",
    "\n",
    "plt.show()"
   ],
   "metadata": {
    "colab": {
     "base_uri": "https://localhost:8080/",
     "height": 449
    },
    "id": "xRx_HUONeSQb",
    "executionInfo": {
     "status": "ok",
     "timestamp": 1711594444331,
     "user_tz": -540,
     "elapsed": 1105,
     "user": {
      "displayName": "­전유진 / 학생 / 데이터사이언스학과",
      "userId": "15652399905532456357"
     }
    },
    "outputId": "6290f145-a685-4df1-b12a-21649b512f07"
   },
   "execution_count": null,
   "outputs": [
    {
     "output_type": "display_data",
     "data": {
      "text/plain": [
       "<Figure size 640x480 with 1 Axes>"
      ],
      "image/png": "[encoded data removed]"
     },
     "metadata": {}
    }
   ]
  }
 ]
}
