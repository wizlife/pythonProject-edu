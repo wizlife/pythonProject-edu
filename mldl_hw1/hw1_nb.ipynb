{
 "cells": [
  {
   "cell_type": "markdown",
   "source": [
    "Please modify only the cells with\n",
    "\n",
    "        ##################\n",
    "        # IMPLEMENT HERE #\n",
    "        ##################"
   ],
   "metadata": {
    "id": "5Zx8ta4qoFyB"
   }
  },
  {
   "cell_type": "markdown",
   "metadata": {
    "id": "PH686DIaH3CX"
   },
   "source": [
    "# Setup"
   ]
  },
  {
   "cell_type": "markdown",
   "metadata": {
    "id": "-xXCUB_jH3Cd"
   },
   "source": [
    "### Google Colab"
   ]
  },
  {
   "cell_type": "code",
   "execution_count": null,
   "metadata": {
    "id": "i0UhlhEfH3Ce",
    "colab": {
     "base_uri": "https://localhost:8080/"
    },
    "executionInfo": {
     "status": "ok",
     "timestamp": 1711435746209,
     "user_tz": -540,
     "elapsed": 29131,
     "user": {
      "displayName": "­김찬우 / 학생 / 데이터사이언스학과",
      "userId": "13781309879689777377"
     }
    },
    "outputId": "a14adeed-a64d-4979-e138-11fa8b3c32f9"
   },
   "outputs": [
    {
     "output_type": "stream",
     "name": "stdout",
     "text": [
      "Mounted at /content/drive\n"
     ]
    }
   ],
   "source": [
    "#from google.colab import drive\n",
    "#drive.mount('/content/drive')"
   ]
  },
  {
   "cell_type": "code",
   "metadata": {
    "id": "4TBavV8SH3Cg",
    "ExecuteTime": {
     "end_time": "2024-04-08T03:55:23.955338Z",
     "start_time": "2024-04-08T03:55:23.844543Z"
    }
   },
   "source": [
    "#### Change directory to where this file is located ####\n",
    "%cd 'COPY&PASTE FILE DIRECTORY HERE'\n",
    "import os\n",
    "os.pwd()"
   ],
   "outputs": [
    {
     "name": "stdout",
     "output_type": "stream",
     "text": [
      "[Errno 2] No such file or directory: 'COPY&PASTE FILE DIRECTORY HERE'\n",
      "/Users/jspark/Library/CloudStorage/GoogleDrive-bewise@gmail.com/내 드라이브/0.대학원/2024-1학기/머신러닝/MLDL1_HW1\n"
     ]
    },
    {
     "name": "stderr",
     "output_type": "stream",
     "text": [
      "/Users/jspark/workspace/PycharmProjects/pythonProject/.venv/lib/python3.12/site-packages/IPython/core/magics/osm.py:393: UserWarning: This is now an optional IPython functionality, using bookmarks requires you to install the `pickleshare` library.\n",
      "  bkms = self.shell.db.get('bookmarks', {})\n"
     ]
    },
    {
     "ename": "AttributeError",
     "evalue": "module 'os' has no attribute 'pwd'",
     "output_type": "error",
     "traceback": [
      "\u001B[0;31m---------------------------------------------------------------------------\u001B[0m",
      "\u001B[0;31mAttributeError\u001B[0m                            Traceback (most recent call last)",
      "Cell \u001B[0;32mIn[1], line 4\u001B[0m\n\u001B[1;32m      2\u001B[0m get_ipython()\u001B[38;5;241m.\u001B[39mrun_line_magic(\u001B[38;5;124m'\u001B[39m\u001B[38;5;124mcd\u001B[39m\u001B[38;5;124m'\u001B[39m, \u001B[38;5;124m\"\u001B[39m\u001B[38;5;124m'\u001B[39m\u001B[38;5;124mCOPY&PASTE FILE DIRECTORY HERE\u001B[39m\u001B[38;5;124m'\u001B[39m\u001B[38;5;124m\"\u001B[39m)\n\u001B[1;32m      3\u001B[0m \u001B[38;5;28;01mimport\u001B[39;00m \u001B[38;5;21;01mos\u001B[39;00m\n\u001B[0;32m----> 4\u001B[0m \u001B[43mos\u001B[49m\u001B[38;5;241;43m.\u001B[39;49m\u001B[43mpwd\u001B[49m()\n",
      "\u001B[0;31mAttributeError\u001B[0m: module 'os' has no attribute 'pwd'"
     ]
    }
   ],
   "execution_count": 1
  },
  {
   "cell_type": "markdown",
   "metadata": {
    "id": "HZq9gkSLH3Ch"
   },
   "source": [
    "### Import Modules"
   ]
  },
  {
   "cell_type": "code",
   "metadata": {
    "id": "kZUBO23ZH3Ci",
    "ExecuteTime": {
     "end_time": "2024-04-08T03:55:43.852543Z",
     "start_time": "2024-04-08T03:55:43.776762Z"
    }
   },
   "source": [
    "import numpy as np\n",
    "import pandas as pd\n",
    "from sklearn.feature_extraction.text import CountVectorizer"
   ],
   "outputs": [],
   "execution_count": 5
  },
  {
   "cell_type": "markdown",
   "metadata": {
    "id": "IYZURRpIH3Ci"
   },
   "source": [
    "# Multinomial Naive Bayes Classifier"
   ]
  },
  {
   "cell_type": "markdown",
   "metadata": {
    "id": "lDLO9TBvH3Cj"
   },
   "source": [
    "### Model"
   ]
  },
  {
   "cell_type": "code",
   "metadata": {
    "id": "OnZw6OMLH3Cj",
    "ExecuteTime": {
     "end_time": "2024-04-08T05:31:08.126369Z",
     "start_time": "2024-04-08T05:31:08.118841Z"
    }
   },
   "source": [
    "class MultinomialNaiveBayes:\n",
    "    def __init__(self, alpha=1.0):\n",
    "        \"\"\"Initializes the model hyperparameter alpha(smoothing factor).\n",
    "        \"\"\"\n",
    "        self.classes = None\n",
    "        self.priors = None\n",
    "        self.probs = None\n",
    "        self.alpha = alpha\n",
    "\n",
    "    def fit(self, X, y):\n",
    "        \"\"\"Estimates prior of classes and conditional probabilities given each class.\n",
    "\n",
    "        Args:\n",
    "            X: a numpy array of training data, shape (N, feature_dim)\n",
    "            y: a numpy array of training label classes, shape (N,)\n",
    "        \"\"\"\n",
    "        n_samples, n_features = X.shape\n",
    "        self.classes = np.unique(y)\n",
    "        n_classes = len(self.classes)\n",
    "\n",
    "        self.priors = np.zeros(n_classes, dtype=np.float64)\n",
    "        self.probs = np.zeros((n_classes, n_features), dtype=np.float64)\n",
    "\n",
    "        #### Question (a) #####\n",
    "        # Estimate self.priors and self.probs.\n",
    "        # You must utilize self.alpha (smoothing factor)\n",
    "\n",
    "        ##################\n",
    "        # IMPLEMENT HERE #\n",
    "        ##################\n",
    "         \n",
    "        for k in range(n_classes):\n",
    "            # index of y in class k  \n",
    "            index_y = (np.where(y == self.classes[k]))[0]\n",
    "            # total sum of word count in class k\n",
    "            total_sum_x = np.sum(X[index_y])\n",
    "            # total_sum_x = 0\n",
    "            # for i in index_y:\n",
    "            #     total_sum_x += np.sum(X[i])\n",
    "            #     # total_sum_x = np.sum(X[index_y]) ## same result but slow(?)\n",
    "                \n",
    "            # Estimate conditional probabilities of each class\n",
    "            for j in range(n_features):\n",
    "                sum_x_j = np.sum(X[index_y,j])\n",
    "                self.probs[k,j] = (self.alpha + sum_x_j) / (n_features * self.alpha + total_sum_x)\n",
    "\n",
    "            # Estimate prior probabilities of each class\n",
    "            self.priors[k] =  (self.alpha + len(index_y) )/ (n_classes * self.alpha + n_samples )\n",
    "        \n",
    "    def predict(self, X):\n",
    "        \"\"\"Predicts the class of input X.\n",
    "\n",
    "        Args:\n",
    "            X: a numpy array of test data, shape (N, feature_dim)\n",
    "\n",
    "        Returns:\n",
    "            y_hat: a numpy array of predicted classes, shape (N,)\n",
    "        \"\"\"\n",
    "\n",
    "        #### Question (b) #####\n",
    "        # Predict the class of input X using estimated self.priors and self.probs.\n",
    "        # As we learned in class, it is numerically stable to use log probability instead of raw probability.\n",
    "\n",
    "        ##################\n",
    "        # IMPLEMENT HERE #\n",
    "        ##################\n",
    "        n_test, n_features = X.shape\n",
    "        n_classes = len(self.classes)\n",
    "        \n",
    "        # predicted_class :  test data(n)'s probability of each class (k=4) ==> n by k\n",
    "        ## dimension :  predicted_class ( n by k) = X (n by d) dot self.probs.T (d by k ) + self.priors.T (1 by K)\n",
    "        predicted_class = np.dot(X, np.log(self.probs.T + 1e-10)) + np.log(self.priors + 1e-10)\n",
    "        \n",
    "        # select max probability class for each test data ==> ( n by k) to (n by 1)\n",
    "        y_hat = self.classes[np.argmax(predicted_class, axis=1)]\n",
    "        \n",
    "        # non-vectorized version\n",
    "        # for i in range(n_test):\n",
    "        #     # predicted class for i-th test data \n",
    "        #     prob_class = []\n",
    "        #     for k in range(n_classes):\n",
    "        #         # log_P(C_k) + sum( x_j * log_Pk_j)\n",
    "        #         prob = np.log(self.priors[k] + 1e-10 ) + np.sum(X[i] * np.log(self.probs[k] + 1e-10 ))\n",
    "        #         prob_class.append(prob)\n",
    "        #     max_class = self.classes[np.argmax(prob_class)]\n",
    "        #     y_hat.append(max_class)\n",
    "        \n",
    "        return y_hat"
   ],
   "outputs": [],
   "execution_count": 32
  },
  {
   "cell_type": "markdown",
   "metadata": {
    "id": "nyl8OhfeH3Cj"
   },
   "source": [
    "# Log Classification with Multinomial NB Classifier"
   ]
  },
  {
   "cell_type": "markdown",
   "metadata": {
    "id": "9316BsY-H3Ck"
   },
   "source": [
    "### Load Dataset"
   ]
  },
  {
   "cell_type": "code",
   "metadata": {
    "id": "8qGyb9_LH3Ck",
    "ExecuteTime": {
     "end_time": "2024-04-08T03:55:52.244646Z",
     "start_time": "2024-04-08T03:55:50.438011Z"
    }
   },
   "source": [
    "train = pd.read_csv('train.csv')\n",
    "test = pd.read_csv('test.csv')"
   ],
   "outputs": [],
   "execution_count": 7
  },
  {
   "cell_type": "code",
   "metadata": {
    "id": "DoEE4rBlH3Cl",
    "outputId": "46312d03-8c72-4941-8117-9fcac264a87d",
    "colab": {
     "base_uri": "https://localhost:8080/",
     "height": 414
    },
    "executionInfo": {
     "status": "ok",
     "timestamp": 1711436535606,
     "user_tz": -540,
     "elapsed": 369,
     "user": {
      "displayName": "­김찬우 / 학생 / 데이터사이언스학과",
      "userId": "13781309879689777377"
     }
    },
    "ExecuteTime": {
     "end_time": "2024-04-08T03:55:55.323222Z",
     "start_time": "2024-04-08T03:55:55.313248Z"
    }
   },
   "source": [
    "pd.set_option('display.max_colwidth', None)\n",
    "train.head()"
   ],
   "outputs": [
    {
     "data": {
      "text/plain": [
       "                                                                                                                                                                                                                                                                                                                                                                                                                                                                                                                                                                                                                                                                                                                                                                                                     full_log  \\\n",
       "0                                                                                                                                                                                                                                                                                                                                                                                                                                                                                                                                                                                                           Jan 13 07:53:27 localhost kibana: {\"type\":\"log\",\"@timestamp\":\"2021-01-12T22:53:27Z\",\"tags\":[\"error\",\"task_manager\"],\"pid\":4332,\"message\":\"Failed to poll for work: Error: No Living connections\"}   \n",
       "1  type=SYSCALL msg=audit(1611884598.851:46637): arch=c000003e syscall=2 success=yes exit=10 a0=7fd5641bd552 a1=80000 a2=1b6 a3=24 items=1 ppid=1 pid=16168 auid=1000 uid=0 gid=980 euid=0 suid=0 fsuid=0 egid=980 sgid=980 fsgid=980 tty=(none) ses=1 comm=\"ossec-syscheckd\" exe=\"/var/esild/bin/ossec-syscheckd\" subj=unconfined_u:unconfined_r:unconfined_t:s0-s0:c0.c1023 key=\"audit-wazuh-r\" type=CWD msg=audit(1611884598.851:46637):  cwd=\"/\" type=PATH msg=audit(1611884598.851:46637): item=0 name=\"/etc/passwd\" inode=35395316 dev=fd:00 mode=0100644 ouid=0 ogid=0 rdev=00:00 obj=system_u:object_r:passwd_file_t:s0 objtype=NORMAL cap_fp=0000000000000000 cap_fi=0000000000000000 cap_fe=0 cap_fver=0 type=PROCTITLE msg=audit(1611884598.851:46637): proctitle=\"/var/esild/bin/ossec-syscheckd\"   \n",
       "2                                                                                                                                                                                                                                       Jan  5 07:23:42 localhost kibana: {\"type\":\"error\",\"@timestamp\":\"2021-01-04T22:23:42Z\",\"tags\":[\"warning\",\"stats-collection\"],\"pid\":4820,\"level\":\"error\",\"error\":{\"message\":\"No Living connections\",\"name\":\"Error\",\"stack\":\"Error: No Living connections\\n    at sendReqWithConnection (/usr/share/kibana/node_modules/elasticsearch/src/lib/transport.js:226:15)\\n    at next (/usr/share/kibana/node_modules/elasticsearch/src/lib/connection_pool.js:214:7)\\n    at process._tickCallback (internal/process/next_tick.js:61:11)\"},\"message\":\"No Living connections\"}   \n",
       "3                                                                                                                                                                                                                                                                                                                                                                                                                                                                                                                                                                                                                                                                                                                System Audit: SSH Hardening - 3: Root can log in. File: /etc/ssh/sshd_config. Reference: 3 .   \n",
       "4                                                                                                                                                                                                                                                                                                                                                                                                                                                                                                                                                                                                Oct 30 18:35:00 localhost suricata[1444]: [1:2010937:3] ET SCAN Suspicious inbound to mySQL port 3306 [Classification: Potentially Bad Traffic] [Priority: 2] {TCP} 192.168.0.160:44768 -> 192.168.0.42:3306   \n",
       "\n",
       "   level  \n",
       "0      0  \n",
       "1      1  \n",
       "2      0  \n",
       "3      1  \n",
       "4      0  "
      ],
      "text/html": [
       "<div>\n",
       "<style scoped>\n",
       "    .dataframe tbody tr th:only-of-type {\n",
       "        vertical-align: middle;\n",
       "    }\n",
       "\n",
       "    .dataframe tbody tr th {\n",
       "        vertical-align: top;\n",
       "    }\n",
       "\n",
       "    .dataframe thead th {\n",
       "        text-align: right;\n",
       "    }\n",
       "</style>\n",
       "<table border=\"1\" class=\"dataframe\">\n",
       "  <thead>\n",
       "    <tr style=\"text-align: right;\">\n",
       "      <th></th>\n",
       "      <th>full_log</th>\n",
       "      <th>level</th>\n",
       "    </tr>\n",
       "  </thead>\n",
       "  <tbody>\n",
       "    <tr>\n",
       "      <th>0</th>\n",
       "      <td>Jan 13 07:53:27 localhost kibana: {\"type\":\"log\",\"@timestamp\":\"2021-01-12T22:53:27Z\",\"tags\":[\"error\",\"task_manager\"],\"pid\":4332,\"message\":\"Failed to poll for work: Error: No Living connections\"}</td>\n",
       "      <td>0</td>\n",
       "    </tr>\n",
       "    <tr>\n",
       "      <th>1</th>\n",
       "      <td>type=SYSCALL msg=audit(1611884598.851:46637): arch=c000003e syscall=2 success=yes exit=10 a0=7fd5641bd552 a1=80000 a2=1b6 a3=24 items=1 ppid=1 pid=16168 auid=1000 uid=0 gid=980 euid=0 suid=0 fsuid=0 egid=980 sgid=980 fsgid=980 tty=(none) ses=1 comm=\"ossec-syscheckd\" exe=\"/var/esild/bin/ossec-syscheckd\" subj=unconfined_u:unconfined_r:unconfined_t:s0-s0:c0.c1023 key=\"audit-wazuh-r\" type=CWD msg=audit(1611884598.851:46637):  cwd=\"/\" type=PATH msg=audit(1611884598.851:46637): item=0 name=\"/etc/passwd\" inode=35395316 dev=fd:00 mode=0100644 ouid=0 ogid=0 rdev=00:00 obj=system_u:object_r:passwd_file_t:s0 objtype=NORMAL cap_fp=0000000000000000 cap_fi=0000000000000000 cap_fe=0 cap_fver=0 type=PROCTITLE msg=audit(1611884598.851:46637): proctitle=\"/var/esild/bin/ossec-syscheckd\"</td>\n",
       "      <td>1</td>\n",
       "    </tr>\n",
       "    <tr>\n",
       "      <th>2</th>\n",
       "      <td>Jan  5 07:23:42 localhost kibana: {\"type\":\"error\",\"@timestamp\":\"2021-01-04T22:23:42Z\",\"tags\":[\"warning\",\"stats-collection\"],\"pid\":4820,\"level\":\"error\",\"error\":{\"message\":\"No Living connections\",\"name\":\"Error\",\"stack\":\"Error: No Living connections\\n    at sendReqWithConnection (/usr/share/kibana/node_modules/elasticsearch/src/lib/transport.js:226:15)\\n    at next (/usr/share/kibana/node_modules/elasticsearch/src/lib/connection_pool.js:214:7)\\n    at process._tickCallback (internal/process/next_tick.js:61:11)\"},\"message\":\"No Living connections\"}</td>\n",
       "      <td>0</td>\n",
       "    </tr>\n",
       "    <tr>\n",
       "      <th>3</th>\n",
       "      <td>System Audit: SSH Hardening - 3: Root can log in. File: /etc/ssh/sshd_config. Reference: 3 .</td>\n",
       "      <td>1</td>\n",
       "    </tr>\n",
       "    <tr>\n",
       "      <th>4</th>\n",
       "      <td>Oct 30 18:35:00 localhost suricata[1444]: [1:2010937:3] ET SCAN Suspicious inbound to mySQL port 3306 [Classification: Potentially Bad Traffic] [Priority: 2] {TCP} 192.168.0.160:44768 -&gt; 192.168.0.42:3306</td>\n",
       "      <td>0</td>\n",
       "    </tr>\n",
       "  </tbody>\n",
       "</table>\n",
       "</div>"
      ]
     },
     "execution_count": 9,
     "metadata": {},
     "output_type": "execute_result"
    }
   ],
   "execution_count": 9
  },
  {
   "cell_type": "markdown",
   "metadata": {
    "id": "zvQPAv2hH3Cm"
   },
   "source": [
    "### Preprocess Dataset"
   ]
  },
  {
   "cell_type": "code",
   "metadata": {
    "id": "6-TWNOo1H3Cm",
    "outputId": "4ecc1854-de60-4211-f02d-48cbd6648e3d",
    "colab": {
     "base_uri": "https://localhost:8080/",
     "height": 74
    },
    "executionInfo": {
     "status": "ok",
     "timestamp": 1711436565263,
     "user_tz": -540,
     "elapsed": 26916,
     "user": {
      "displayName": "­김찬우 / 학생 / 데이터사이언스학과",
      "userId": "13781309879689777377"
     }
    },
    "ExecuteTime": {
     "end_time": "2024-04-08T03:56:04.786899Z",
     "start_time": "2024-04-08T03:55:57.200665Z"
    }
   },
   "source": [
    "vectorizer = CountVectorizer(analyzer=\"word\", max_features=1000)\n",
    "vectorizer.fit(train['full_log'])"
   ],
   "outputs": [
    {
     "data": {
      "text/plain": [
       "CountVectorizer(max_features=1000)"
      ],
      "text/html": [
       "<style>#sk-container-id-1 {\n",
       "  /* Definition of color scheme common for light and dark mode */\n",
       "  --sklearn-color-text: black;\n",
       "  --sklearn-color-line: gray;\n",
       "  /* Definition of color scheme for unfitted estimators */\n",
       "  --sklearn-color-unfitted-level-0: #fff5e6;\n",
       "  --sklearn-color-unfitted-level-1: #f6e4d2;\n",
       "  --sklearn-color-unfitted-level-2: #ffe0b3;\n",
       "  --sklearn-color-unfitted-level-3: chocolate;\n",
       "  /* Definition of color scheme for fitted estimators */\n",
       "  --sklearn-color-fitted-level-0: #f0f8ff;\n",
       "  --sklearn-color-fitted-level-1: #d4ebff;\n",
       "  --sklearn-color-fitted-level-2: #b3dbfd;\n",
       "  --sklearn-color-fitted-level-3: cornflowerblue;\n",
       "\n",
       "  /* Specific color for light theme */\n",
       "  --sklearn-color-text-on-default-background: var(--sg-text-color, var(--theme-code-foreground, var(--jp-content-font-color1, black)));\n",
       "  --sklearn-color-background: var(--sg-background-color, var(--theme-background, var(--jp-layout-color0, white)));\n",
       "  --sklearn-color-border-box: var(--sg-text-color, var(--theme-code-foreground, var(--jp-content-font-color1, black)));\n",
       "  --sklearn-color-icon: #696969;\n",
       "\n",
       "  @media (prefers-color-scheme: dark) {\n",
       "    /* Redefinition of color scheme for dark theme */\n",
       "    --sklearn-color-text-on-default-background: var(--sg-text-color, var(--theme-code-foreground, var(--jp-content-font-color1, white)));\n",
       "    --sklearn-color-background: var(--sg-background-color, var(--theme-background, var(--jp-layout-color0, #111)));\n",
       "    --sklearn-color-border-box: var(--sg-text-color, var(--theme-code-foreground, var(--jp-content-font-color1, white)));\n",
       "    --sklearn-color-icon: #878787;\n",
       "  }\n",
       "}\n",
       "\n",
       "#sk-container-id-1 {\n",
       "  color: var(--sklearn-color-text);\n",
       "}\n",
       "\n",
       "#sk-container-id-1 pre {\n",
       "  padding: 0;\n",
       "}\n",
       "\n",
       "#sk-container-id-1 input.sk-hidden--visually {\n",
       "  border: 0;\n",
       "  clip: rect(1px 1px 1px 1px);\n",
       "  clip: rect(1px, 1px, 1px, 1px);\n",
       "  height: 1px;\n",
       "  margin: -1px;\n",
       "  overflow: hidden;\n",
       "  padding: 0;\n",
       "  position: absolute;\n",
       "  width: 1px;\n",
       "}\n",
       "\n",
       "#sk-container-id-1 div.sk-dashed-wrapped {\n",
       "  border: 1px dashed var(--sklearn-color-line);\n",
       "  margin: 0 0.4em 0.5em 0.4em;\n",
       "  box-sizing: border-box;\n",
       "  padding-bottom: 0.4em;\n",
       "  background-color: var(--sklearn-color-background);\n",
       "}\n",
       "\n",
       "#sk-container-id-1 div.sk-container {\n",
       "  /* jupyter's `normalize.less` sets `[hidden] { display: none; }`\n",
       "     but bootstrap.min.css set `[hidden] { display: none !important; }`\n",
       "     so we also need the `!important` here to be able to override the\n",
       "     default hidden behavior on the sphinx rendered scikit-learn.org.\n",
       "     See: https://github.com/scikit-learn/scikit-learn/issues/21755 */\n",
       "  display: inline-block !important;\n",
       "  position: relative;\n",
       "}\n",
       "\n",
       "#sk-container-id-1 div.sk-text-repr-fallback {\n",
       "  display: none;\n",
       "}\n",
       "\n",
       "div.sk-parallel-item,\n",
       "div.sk-serial,\n",
       "div.sk-item {\n",
       "  /* draw centered vertical line to link estimators */\n",
       "  background-image: linear-gradient(var(--sklearn-color-text-on-default-background), var(--sklearn-color-text-on-default-background));\n",
       "  background-size: 2px 100%;\n",
       "  background-repeat: no-repeat;\n",
       "  background-position: center center;\n",
       "}\n",
       "\n",
       "/* Parallel-specific style estimator block */\n",
       "\n",
       "#sk-container-id-1 div.sk-parallel-item::after {\n",
       "  content: \"\";\n",
       "  width: 100%;\n",
       "  border-bottom: 2px solid var(--sklearn-color-text-on-default-background);\n",
       "  flex-grow: 1;\n",
       "}\n",
       "\n",
       "#sk-container-id-1 div.sk-parallel {\n",
       "  display: flex;\n",
       "  align-items: stretch;\n",
       "  justify-content: center;\n",
       "  background-color: var(--sklearn-color-background);\n",
       "  position: relative;\n",
       "}\n",
       "\n",
       "#sk-container-id-1 div.sk-parallel-item {\n",
       "  display: flex;\n",
       "  flex-direction: column;\n",
       "}\n",
       "\n",
       "#sk-container-id-1 div.sk-parallel-item:first-child::after {\n",
       "  align-self: flex-end;\n",
       "  width: 50%;\n",
       "}\n",
       "\n",
       "#sk-container-id-1 div.sk-parallel-item:last-child::after {\n",
       "  align-self: flex-start;\n",
       "  width: 50%;\n",
       "}\n",
       "\n",
       "#sk-container-id-1 div.sk-parallel-item:only-child::after {\n",
       "  width: 0;\n",
       "}\n",
       "\n",
       "/* Serial-specific style estimator block */\n",
       "\n",
       "#sk-container-id-1 div.sk-serial {\n",
       "  display: flex;\n",
       "  flex-direction: column;\n",
       "  align-items: center;\n",
       "  background-color: var(--sklearn-color-background);\n",
       "  padding-right: 1em;\n",
       "  padding-left: 1em;\n",
       "}\n",
       "\n",
       "\n",
       "/* Toggleable style: style used for estimator/Pipeline/ColumnTransformer box that is\n",
       "clickable and can be expanded/collapsed.\n",
       "- Pipeline and ColumnTransformer use this feature and define the default style\n",
       "- Estimators will overwrite some part of the style using the `sk-estimator` class\n",
       "*/\n",
       "\n",
       "/* Pipeline and ColumnTransformer style (default) */\n",
       "\n",
       "#sk-container-id-1 div.sk-toggleable {\n",
       "  /* Default theme specific background. It is overwritten whether we have a\n",
       "  specific estimator or a Pipeline/ColumnTransformer */\n",
       "  background-color: var(--sklearn-color-background);\n",
       "}\n",
       "\n",
       "/* Toggleable label */\n",
       "#sk-container-id-1 label.sk-toggleable__label {\n",
       "  cursor: pointer;\n",
       "  display: block;\n",
       "  width: 100%;\n",
       "  margin-bottom: 0;\n",
       "  padding: 0.5em;\n",
       "  box-sizing: border-box;\n",
       "  text-align: center;\n",
       "}\n",
       "\n",
       "#sk-container-id-1 label.sk-toggleable__label-arrow:before {\n",
       "  /* Arrow on the left of the label */\n",
       "  content: \"▸\";\n",
       "  float: left;\n",
       "  margin-right: 0.25em;\n",
       "  color: var(--sklearn-color-icon);\n",
       "}\n",
       "\n",
       "#sk-container-id-1 label.sk-toggleable__label-arrow:hover:before {\n",
       "  color: var(--sklearn-color-text);\n",
       "}\n",
       "\n",
       "/* Toggleable content - dropdown */\n",
       "\n",
       "#sk-container-id-1 div.sk-toggleable__content {\n",
       "  max-height: 0;\n",
       "  max-width: 0;\n",
       "  overflow: hidden;\n",
       "  text-align: left;\n",
       "  /* unfitted */\n",
       "  background-color: var(--sklearn-color-unfitted-level-0);\n",
       "}\n",
       "\n",
       "#sk-container-id-1 div.sk-toggleable__content.fitted {\n",
       "  /* fitted */\n",
       "  background-color: var(--sklearn-color-fitted-level-0);\n",
       "}\n",
       "\n",
       "#sk-container-id-1 div.sk-toggleable__content pre {\n",
       "  margin: 0.2em;\n",
       "  border-radius: 0.25em;\n",
       "  color: var(--sklearn-color-text);\n",
       "  /* unfitted */\n",
       "  background-color: var(--sklearn-color-unfitted-level-0);\n",
       "}\n",
       "\n",
       "#sk-container-id-1 div.sk-toggleable__content.fitted pre {\n",
       "  /* unfitted */\n",
       "  background-color: var(--sklearn-color-fitted-level-0);\n",
       "}\n",
       "\n",
       "#sk-container-id-1 input.sk-toggleable__control:checked~div.sk-toggleable__content {\n",
       "  /* Expand drop-down */\n",
       "  max-height: 200px;\n",
       "  max-width: 100%;\n",
       "  overflow: auto;\n",
       "}\n",
       "\n",
       "#sk-container-id-1 input.sk-toggleable__control:checked~label.sk-toggleable__label-arrow:before {\n",
       "  content: \"▾\";\n",
       "}\n",
       "\n",
       "/* Pipeline/ColumnTransformer-specific style */\n",
       "\n",
       "#sk-container-id-1 div.sk-label input.sk-toggleable__control:checked~label.sk-toggleable__label {\n",
       "  color: var(--sklearn-color-text);\n",
       "  background-color: var(--sklearn-color-unfitted-level-2);\n",
       "}\n",
       "\n",
       "#sk-container-id-1 div.sk-label.fitted input.sk-toggleable__control:checked~label.sk-toggleable__label {\n",
       "  background-color: var(--sklearn-color-fitted-level-2);\n",
       "}\n",
       "\n",
       "/* Estimator-specific style */\n",
       "\n",
       "/* Colorize estimator box */\n",
       "#sk-container-id-1 div.sk-estimator input.sk-toggleable__control:checked~label.sk-toggleable__label {\n",
       "  /* unfitted */\n",
       "  background-color: var(--sklearn-color-unfitted-level-2);\n",
       "}\n",
       "\n",
       "#sk-container-id-1 div.sk-estimator.fitted input.sk-toggleable__control:checked~label.sk-toggleable__label {\n",
       "  /* fitted */\n",
       "  background-color: var(--sklearn-color-fitted-level-2);\n",
       "}\n",
       "\n",
       "#sk-container-id-1 div.sk-label label.sk-toggleable__label,\n",
       "#sk-container-id-1 div.sk-label label {\n",
       "  /* The background is the default theme color */\n",
       "  color: var(--sklearn-color-text-on-default-background);\n",
       "}\n",
       "\n",
       "/* On hover, darken the color of the background */\n",
       "#sk-container-id-1 div.sk-label:hover label.sk-toggleable__label {\n",
       "  color: var(--sklearn-color-text);\n",
       "  background-color: var(--sklearn-color-unfitted-level-2);\n",
       "}\n",
       "\n",
       "/* Label box, darken color on hover, fitted */\n",
       "#sk-container-id-1 div.sk-label.fitted:hover label.sk-toggleable__label.fitted {\n",
       "  color: var(--sklearn-color-text);\n",
       "  background-color: var(--sklearn-color-fitted-level-2);\n",
       "}\n",
       "\n",
       "/* Estimator label */\n",
       "\n",
       "#sk-container-id-1 div.sk-label label {\n",
       "  font-family: monospace;\n",
       "  font-weight: bold;\n",
       "  display: inline-block;\n",
       "  line-height: 1.2em;\n",
       "}\n",
       "\n",
       "#sk-container-id-1 div.sk-label-container {\n",
       "  text-align: center;\n",
       "}\n",
       "\n",
       "/* Estimator-specific */\n",
       "#sk-container-id-1 div.sk-estimator {\n",
       "  font-family: monospace;\n",
       "  border: 1px dotted var(--sklearn-color-border-box);\n",
       "  border-radius: 0.25em;\n",
       "  box-sizing: border-box;\n",
       "  margin-bottom: 0.5em;\n",
       "  /* unfitted */\n",
       "  background-color: var(--sklearn-color-unfitted-level-0);\n",
       "}\n",
       "\n",
       "#sk-container-id-1 div.sk-estimator.fitted {\n",
       "  /* fitted */\n",
       "  background-color: var(--sklearn-color-fitted-level-0);\n",
       "}\n",
       "\n",
       "/* on hover */\n",
       "#sk-container-id-1 div.sk-estimator:hover {\n",
       "  /* unfitted */\n",
       "  background-color: var(--sklearn-color-unfitted-level-2);\n",
       "}\n",
       "\n",
       "#sk-container-id-1 div.sk-estimator.fitted:hover {\n",
       "  /* fitted */\n",
       "  background-color: var(--sklearn-color-fitted-level-2);\n",
       "}\n",
       "\n",
       "/* Specification for estimator info (e.g. \"i\" and \"?\") */\n",
       "\n",
       "/* Common style for \"i\" and \"?\" */\n",
       "\n",
       ".sk-estimator-doc-link,\n",
       "a:link.sk-estimator-doc-link,\n",
       "a:visited.sk-estimator-doc-link {\n",
       "  float: right;\n",
       "  font-size: smaller;\n",
       "  line-height: 1em;\n",
       "  font-family: monospace;\n",
       "  background-color: var(--sklearn-color-background);\n",
       "  border-radius: 1em;\n",
       "  height: 1em;\n",
       "  width: 1em;\n",
       "  text-decoration: none !important;\n",
       "  margin-left: 1ex;\n",
       "  /* unfitted */\n",
       "  border: var(--sklearn-color-unfitted-level-1) 1pt solid;\n",
       "  color: var(--sklearn-color-unfitted-level-1);\n",
       "}\n",
       "\n",
       ".sk-estimator-doc-link.fitted,\n",
       "a:link.sk-estimator-doc-link.fitted,\n",
       "a:visited.sk-estimator-doc-link.fitted {\n",
       "  /* fitted */\n",
       "  border: var(--sklearn-color-fitted-level-1) 1pt solid;\n",
       "  color: var(--sklearn-color-fitted-level-1);\n",
       "}\n",
       "\n",
       "/* On hover */\n",
       "div.sk-estimator:hover .sk-estimator-doc-link:hover,\n",
       ".sk-estimator-doc-link:hover,\n",
       "div.sk-label-container:hover .sk-estimator-doc-link:hover,\n",
       ".sk-estimator-doc-link:hover {\n",
       "  /* unfitted */\n",
       "  background-color: var(--sklearn-color-unfitted-level-3);\n",
       "  color: var(--sklearn-color-background);\n",
       "  text-decoration: none;\n",
       "}\n",
       "\n",
       "div.sk-estimator.fitted:hover .sk-estimator-doc-link.fitted:hover,\n",
       ".sk-estimator-doc-link.fitted:hover,\n",
       "div.sk-label-container:hover .sk-estimator-doc-link.fitted:hover,\n",
       ".sk-estimator-doc-link.fitted:hover {\n",
       "  /* fitted */\n",
       "  background-color: var(--sklearn-color-fitted-level-3);\n",
       "  color: var(--sklearn-color-background);\n",
       "  text-decoration: none;\n",
       "}\n",
       "\n",
       "/* Span, style for the box shown on hovering the info icon */\n",
       ".sk-estimator-doc-link span {\n",
       "  display: none;\n",
       "  z-index: 9999;\n",
       "  position: relative;\n",
       "  font-weight: normal;\n",
       "  right: .2ex;\n",
       "  padding: .5ex;\n",
       "  margin: .5ex;\n",
       "  width: min-content;\n",
       "  min-width: 20ex;\n",
       "  max-width: 50ex;\n",
       "  color: var(--sklearn-color-text);\n",
       "  box-shadow: 2pt 2pt 4pt #999;\n",
       "  /* unfitted */\n",
       "  background: var(--sklearn-color-unfitted-level-0);\n",
       "  border: .5pt solid var(--sklearn-color-unfitted-level-3);\n",
       "}\n",
       "\n",
       ".sk-estimator-doc-link.fitted span {\n",
       "  /* fitted */\n",
       "  background: var(--sklearn-color-fitted-level-0);\n",
       "  border: var(--sklearn-color-fitted-level-3);\n",
       "}\n",
       "\n",
       ".sk-estimator-doc-link:hover span {\n",
       "  display: block;\n",
       "}\n",
       "\n",
       "/* \"?\"-specific style due to the `<a>` HTML tag */\n",
       "\n",
       "#sk-container-id-1 a.estimator_doc_link {\n",
       "  float: right;\n",
       "  font-size: 1rem;\n",
       "  line-height: 1em;\n",
       "  font-family: monospace;\n",
       "  background-color: var(--sklearn-color-background);\n",
       "  border-radius: 1rem;\n",
       "  height: 1rem;\n",
       "  width: 1rem;\n",
       "  text-decoration: none;\n",
       "  /* unfitted */\n",
       "  color: var(--sklearn-color-unfitted-level-1);\n",
       "  border: var(--sklearn-color-unfitted-level-1) 1pt solid;\n",
       "}\n",
       "\n",
       "#sk-container-id-1 a.estimator_doc_link.fitted {\n",
       "  /* fitted */\n",
       "  border: var(--sklearn-color-fitted-level-1) 1pt solid;\n",
       "  color: var(--sklearn-color-fitted-level-1);\n",
       "}\n",
       "\n",
       "/* On hover */\n",
       "#sk-container-id-1 a.estimator_doc_link:hover {\n",
       "  /* unfitted */\n",
       "  background-color: var(--sklearn-color-unfitted-level-3);\n",
       "  color: var(--sklearn-color-background);\n",
       "  text-decoration: none;\n",
       "}\n",
       "\n",
       "#sk-container-id-1 a.estimator_doc_link.fitted:hover {\n",
       "  /* fitted */\n",
       "  background-color: var(--sklearn-color-fitted-level-3);\n",
       "}\n",
       "</style><div id=\"sk-container-id-1\" class=\"sk-top-container\"><div class=\"sk-text-repr-fallback\"><pre>CountVectorizer(max_features=1000)</pre><b>In a Jupyter environment, please rerun this cell to show the HTML representation or trust the notebook. <br />On GitHub, the HTML representation is unable to render, please try loading this page with nbviewer.org.</b></div><div class=\"sk-container\" hidden><div class=\"sk-item\"><div class=\"sk-estimator fitted sk-toggleable\"><input class=\"sk-toggleable__control sk-hidden--visually\" id=\"sk-estimator-id-1\" type=\"checkbox\" checked><label for=\"sk-estimator-id-1\" class=\"sk-toggleable__label fitted sk-toggleable__label-arrow fitted\">&nbsp;&nbsp;CountVectorizer<a class=\"sk-estimator-doc-link fitted\" rel=\"noreferrer\" target=\"_blank\" href=\"https://scikit-learn.org/1.4/modules/generated/sklearn.feature_extraction.text.CountVectorizer.html\">?<span>Documentation for CountVectorizer</span></a><span class=\"sk-estimator-doc-link fitted\">i<span>Fitted</span></span></label><div class=\"sk-toggleable__content fitted\"><pre>CountVectorizer(max_features=1000)</pre></div> </div></div></div></div>"
      ]
     },
     "execution_count": 10,
     "metadata": {},
     "output_type": "execute_result"
    }
   ],
   "execution_count": 10
  },
  {
   "cell_type": "code",
   "metadata": {
    "id": "OACDJkivH3Cm",
    "outputId": "921384d5-3ee1-483b-d71e-d274d1cf2d88",
    "colab": {
     "base_uri": "https://localhost:8080/"
    },
    "executionInfo": {
     "status": "ok",
     "timestamp": 1711436570449,
     "user_tz": -540,
     "elapsed": 5,
     "user": {
      "displayName": "­김찬우 / 학생 / 데이터사이언스학과",
      "userId": "13781309879689777377"
     }
    },
    "ExecuteTime": {
     "end_time": "2024-04-08T03:56:07.325095Z",
     "start_time": "2024-04-08T03:56:04.908517Z"
    }
   },
   "source": [
    "print('Index for Word \"kibana\":', vectorizer.vocabulary_[\"kibana\"])\n",
    "print('Index for Word \"error\":', vectorizer.vocabulary_[\"error\"])\n",
    "print('Index for Word \"localhost\":', vectorizer.vocabulary_[\"localhost\"])\n",
    "print('Index for Word \"jan\":', vectorizer.vocabulary_[\"jan\"])"
   ],
   "outputs": [
    {
     "name": "stdout",
     "output_type": "stream",
     "text": [
      "Index for Word \"kibana\": 717\n",
      "Index for Word \"error\": 633\n",
      "Index for Word \"localhost\": 736\n",
      "Index for Word \"jan\": 710\n"
     ]
    }
   ],
   "execution_count": 11
  },
  {
   "cell_type": "markdown",
   "metadata": {
    "id": "7tCIJnkJH3Cm"
   },
   "source": [
    "### Train and Test Log Classifier"
   ]
  },
  {
   "cell_type": "code",
   "metadata": {
    "id": "oXpl6NpVH3Cm",
    "ExecuteTime": {
     "end_time": "2024-04-08T03:56:23.435018Z",
     "start_time": "2024-04-08T03:56:13.484347Z"
    }
   },
   "source": [
    "train_X = vectorizer.transform(train['full_log'])\n",
    "train_y = train['level'].values\n",
    "test_X = vectorizer.transform(test['full_log'])\n",
    "test_y = test['level'].values"
   ],
   "outputs": [],
   "execution_count": 12
  },
  {
   "metadata": {
    "ExecuteTime": {
     "end_time": "2024-04-08T05:31:48.342936Z",
     "start_time": "2024-04-08T05:31:42.205795Z"
    }
   },
   "cell_type": "code",
   "source": [
    "#### Question (c) #####\n",
    "# Create an instance using class MultinomialNaiveBayes with alpha = 1.\n",
    "# Then fit the model with training data(train_X, train_y), and calculate accuracy using test data(test_X, test_y).\n",
    "\n",
    "##################\n",
    "# IMPLEMENT HERE #\n",
    "##################\n",
    "\n",
    "model = MultinomialNaiveBayes(alpha=1)\n",
    "# Use train data to fit the model\n",
    "model.fit(train_X.toarray(), train_y)\n",
    "\n",
    "# use test data to predict y(class)\n",
    "pred_y = model.predict(test_X.toarray())\n",
    "\n",
    "# code from Lab1\n",
    "def accuracy(y_true, y_pred):\n",
    "    # Compute accuracy\n",
    "    correct = sum(1 for true, pred in zip(y_true, y_pred) if true == pred)\n",
    "    return correct / len(y_true)\n",
    "\n",
    "print(\"Accuracy:\", accuracy(test_y, pred_y))"
   ],
   "outputs": [
    {
     "name": "stdout",
     "output_type": "stream",
     "text": [
      "Accuracy: 0.9789827569801985\n"
     ]
    }
   ],
   "execution_count": 35
  },
  {
   "cell_type": "code",
   "source": [
    "#### Question (d) ####\n",
    "# (HINT) You can exploit these variables.\n",
    "# No implementation needed.\n",
    "\n",
    "word_idx = vectorizer.vocabulary_[\"ossec\"]\n",
    "security_level = 2\n",
    "# default alpha = 1\n",
    "model.fit(train_X.toarray(), train_y)\n",
    "print(\"alpha[{0}] model.probs[security_level, word_idx] [{1}]\".format(model.alpha, model.probs[security_level, word_idx]))\n",
    "# alpha = 0\n",
    "model.alpha = 0\n",
    "model.fit(train_X.toarray(), train_y)\n",
    "print(\"alpha[{0}] model.probs[security_level, word_idx] [{1}]\".format(model.alpha, model.probs[security_level, word_idx]))\n",
    "# alpha = 0.1\n",
    "model.alpha = 0.1\n",
    "model.fit(train_X.toarray(), train_y)\n",
    "print(\"alpha[{0}] model.probs[security_level, word_idx] [{1}]\".format(model.alpha, model.probs[security_level, word_idx]))\n",
    "# alpha = 10\n",
    "model.alpha = 10\n",
    "model.fit(train_X.toarray(), train_y)\n",
    "print(\"alpha[{0}] model.probs[security_level, word_idx] [{1}]\".format(model.alpha, model.probs[security_level, word_idx]))"
   ],
   "metadata": {
    "id": "00i4f5MWWXLa",
    "ExecuteTime": {
     "end_time": "2024-04-08T05:26:15.371591Z",
     "start_time": "2024-04-08T05:25:52.091234Z"
    }
   },
   "outputs": [
    {
     "name": "stdout",
     "output_type": "stream",
     "text": [
      "alpha[0] model.probs[security_level, word_idx] [0.0]\n",
      "alpha[0] model.probs[security_level, word_idx] [0.0]\n",
      "alpha[0.1] model.probs[security_level, word_idx] [1.1600524343700335e-06]\n",
      "alpha[10] model.probs[security_level, word_idx] [0.00010405502429684818]\n"
     ]
    }
   ],
   "execution_count": 28
  },
  {
   "metadata": {},
   "cell_type": "code",
   "outputs": [],
   "execution_count": null,
   "source": ""
  }
 ],
 "metadata": {
  "kernelspec": {
   "display_name": "mldl",
   "language": "python",
   "name": "python3"
  },
  "language_info": {
   "codemirror_mode": {
    "name": "ipython",
    "version": 3
   },
   "file_extension": ".py",
   "mimetype": "text/x-python",
   "name": "python",
   "nbconvert_exporter": "python",
   "pygments_lexer": "ipython3",
   "version": "3.10.13"
  },
  "colab": {
   "provenance": []
  }
 },
 "nbformat": 4,
 "nbformat_minor": 0
}
