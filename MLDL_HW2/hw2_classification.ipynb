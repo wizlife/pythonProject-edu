{
 "nbformat": 4,
 "nbformat_minor": 0,
 "metadata": {
  "colab": {
   "provenance": []
  },
  "kernelspec": {
   "name": "python3",
   "display_name": "Python 3 (ipykernel)",
   "language": "python"
  },
  "language_info": {
   "name": "python"
  }
 },
 "cells": [
  {
   "cell_type": "markdown",
   "metadata": {
    "id": "2fXF_T3bSEa_"
   },
   "source": [
    "## Colab Setup"
   ]
  },
  {
   "cell_type": "code",
   "metadata": {
    "id": "EqEDSdeoOXpn",
    "colab": {
     "base_uri": "https://localhost:8080/"
    },
    "outputId": "1456f819-5396-4f9a-97f6-5ea4fddb7b23"
   },
   "source": [
    "from google.colab import drive\n",
    "drive.mount('/content/drive')"
   ],
   "execution_count": null,
   "outputs": [
    {
     "output_type": "stream",
     "name": "stdout",
     "text": [
      "Mounted at /content/drive\n"
     ]
    }
   ]
  },
  {
   "cell_type": "code",
   "metadata": {
    "id": "c57lCStiOyqA",
    "colab": {
     "base_uri": "https://localhost:8080/"
    },
    "outputId": "63f8a2c3-b014-41e4-b091-d7879712514b",
    "ExecuteTime": {
     "end_time": "2024-04-29T14:45:01.321509Z",
     "start_time": "2024-04-29T14:45:01.316043Z"
    }
   },
   "source": [
    "\"\"\"\n",
    "Change directory to where this file is located\n",
    "\"\"\"\n",
    "# 로컬 경로\n",
    "%cd './dataset'     \n",
    "# 구글 드라이브 경로\n",
    "# %cd '/content/drive/MyDrive/Colab Notebooks/MLDL_HW2/dataset'       "
   ],
   "outputs": [
    {
     "name": "stdout",
     "output_type": "stream",
     "text": [
      "/Users/jspark/workspace/PycharmProjects/pythonProject/MLDL_HW2/dataset\n"
     ]
    },
    {
     "name": "stderr",
     "output_type": "stream",
     "text": [
      "/Users/jspark/workspace/PycharmProjects/pythonProject/.venv/lib/python3.12/site-packages/IPython/core/magics/osm.py:417: UserWarning: This is now an optional IPython functionality, setting dhist requires you to install the `pickleshare` library.\n",
      "  self.shell.db['dhist'] = compress_dhist(dhist)[-100:]\n"
     ]
    }
   ],
   "execution_count": 2
  },
  {
   "cell_type": "markdown",
   "metadata": {
    "id": "c_qq-N3MSOZc"
   },
   "source": [
    "## Import Modules"
   ]
  },
  {
   "cell_type": "code",
   "metadata": {
    "id": "5hOTbpcQPndk",
    "ExecuteTime": {
     "end_time": "2024-04-29T14:45:03.880744Z",
     "start_time": "2024-04-29T14:45:02.606581Z"
    }
   },
   "source": [
    "import numpy as np\n",
    "import pandas as pd\n",
    "import matplotlib.pyplot as plt\n",
    "# You may import other models from scikit-learn.\n",
    "from sklearn.linear_model import LogisticRegression as LR\n",
    "from sklearn.svm import SVC\n",
    "from sklearn.ensemble import RandomForestClassifier as RF\n",
    "from sklearn.discriminant_analysis import LinearDiscriminantAnalysis as LDA\n",
    "from sklearn.metrics import classification_report, accuracy_score\n",
    "from sklearn.preprocessing import StandardScaler, OneHotEncoder, LabelEncoder\n",
    "from sklearn.model_selection import train_test_split, GridSearchCV, StratifiedKFold\n"
   ],
   "outputs": [],
   "execution_count": 3
  },
  {
   "cell_type": "markdown",
   "metadata": {
    "id": "NAWjyGJeSSOY"
   },
   "source": [
    "## 1. Diabetes Classification"
   ]
  },
  {
   "cell_type": "code",
   "source": [
    "diabetes = pd.read_csv(\"diabetes.csv\") # load dataset"
   ],
   "metadata": {
    "id": "Mcpue7AVk5-Z",
    "ExecuteTime": {
     "end_time": "2024-04-29T14:45:12.184411Z",
     "start_time": "2024-04-29T14:45:12.177532Z"
    }
   },
   "outputs": [],
   "execution_count": 4
  },
  {
   "cell_type": "code",
   "source": [
    "len(diabetes)"
   ],
   "metadata": {
    "colab": {
     "base_uri": "https://localhost:8080/"
    },
    "id": "fYboccKCqWdO",
    "outputId": "01726d4f-bd3e-41a4-82c7-4ef0348aee93",
    "ExecuteTime": {
     "end_time": "2024-04-29T14:45:15.601361Z",
     "start_time": "2024-04-29T14:45:15.595572Z"
    }
   },
   "outputs": [
    {
     "data": {
      "text/plain": [
       "768"
      ]
     },
     "execution_count": 5,
     "metadata": {},
     "output_type": "execute_result"
    }
   ],
   "execution_count": 5
  },
  {
   "cell_type": "code",
   "source": [
    "diabetes.head()"
   ],
   "metadata": {
    "colab": {
     "base_uri": "https://localhost:8080/",
     "height": 276
    },
    "id": "_OfYxFKxqahF",
    "outputId": "2023a4c8-3fd0-426a-a0a1-94f802cc2795",
    "ExecuteTime": {
     "end_time": "2024-04-28T05:15:09.050317Z",
     "start_time": "2024-04-28T05:15:09.041249Z"
    }
   },
   "outputs": [
    {
     "data": {
      "text/plain": [
       "   Number of times pregnant  \\\n",
       "0                         6   \n",
       "1                         1   \n",
       "2                         8   \n",
       "3                         1   \n",
       "4                         0   \n",
       "\n",
       "   Plasma glucose concentration a 2 hours in an oral glucose tolerance test  \\\n",
       "0                                                148                          \n",
       "1                                                 85                          \n",
       "2                                                183                          \n",
       "3                                                 89                          \n",
       "4                                                137                          \n",
       "\n",
       "   Diastolic blood pressure (mm Hg)  Triceps skin fold thickness (mm)  \\\n",
       "0                                72                                35   \n",
       "1                                66                                29   \n",
       "2                                64                                 0   \n",
       "3                                66                                23   \n",
       "4                                40                                35   \n",
       "\n",
       "   2-Hour serum insulin (mu U/ml)  \\\n",
       "0                               0   \n",
       "1                               0   \n",
       "2                               0   \n",
       "3                              94   \n",
       "4                             168   \n",
       "\n",
       "   Body mass index (weight in kg/(height in m)^2)  Diabetes pedigree function  \\\n",
       "0                                            33.6                       0.627   \n",
       "1                                            26.6                       0.351   \n",
       "2                                            23.3                       0.672   \n",
       "3                                            28.1                       0.167   \n",
       "4                                            43.1                       2.288   \n",
       "\n",
       "   Age (years)  Class variable (0 or 1)  \n",
       "0           50                        1  \n",
       "1           31                        0  \n",
       "2           32                        1  \n",
       "3           21                        0  \n",
       "4           33                        1  "
      ],
      "text/html": [
       "<div>\n",
       "<style scoped>\n",
       "    .dataframe tbody tr th:only-of-type {\n",
       "        vertical-align: middle;\n",
       "    }\n",
       "\n",
       "    .dataframe tbody tr th {\n",
       "        vertical-align: top;\n",
       "    }\n",
       "\n",
       "    .dataframe thead th {\n",
       "        text-align: right;\n",
       "    }\n",
       "</style>\n",
       "<table border=\"1\" class=\"dataframe\">\n",
       "  <thead>\n",
       "    <tr style=\"text-align: right;\">\n",
       "      <th></th>\n",
       "      <th>Number of times pregnant</th>\n",
       "      <th>Plasma glucose concentration a 2 hours in an oral glucose tolerance test</th>\n",
       "      <th>Diastolic blood pressure (mm Hg)</th>\n",
       "      <th>Triceps skin fold thickness (mm)</th>\n",
       "      <th>2-Hour serum insulin (mu U/ml)</th>\n",
       "      <th>Body mass index (weight in kg/(height in m)^2)</th>\n",
       "      <th>Diabetes pedigree function</th>\n",
       "      <th>Age (years)</th>\n",
       "      <th>Class variable (0 or 1)</th>\n",
       "    </tr>\n",
       "  </thead>\n",
       "  <tbody>\n",
       "    <tr>\n",
       "      <th>0</th>\n",
       "      <td>6</td>\n",
       "      <td>148</td>\n",
       "      <td>72</td>\n",
       "      <td>35</td>\n",
       "      <td>0</td>\n",
       "      <td>33.6</td>\n",
       "      <td>0.627</td>\n",
       "      <td>50</td>\n",
       "      <td>1</td>\n",
       "    </tr>\n",
       "    <tr>\n",
       "      <th>1</th>\n",
       "      <td>1</td>\n",
       "      <td>85</td>\n",
       "      <td>66</td>\n",
       "      <td>29</td>\n",
       "      <td>0</td>\n",
       "      <td>26.6</td>\n",
       "      <td>0.351</td>\n",
       "      <td>31</td>\n",
       "      <td>0</td>\n",
       "    </tr>\n",
       "    <tr>\n",
       "      <th>2</th>\n",
       "      <td>8</td>\n",
       "      <td>183</td>\n",
       "      <td>64</td>\n",
       "      <td>0</td>\n",
       "      <td>0</td>\n",
       "      <td>23.3</td>\n",
       "      <td>0.672</td>\n",
       "      <td>32</td>\n",
       "      <td>1</td>\n",
       "    </tr>\n",
       "    <tr>\n",
       "      <th>3</th>\n",
       "      <td>1</td>\n",
       "      <td>89</td>\n",
       "      <td>66</td>\n",
       "      <td>23</td>\n",
       "      <td>94</td>\n",
       "      <td>28.1</td>\n",
       "      <td>0.167</td>\n",
       "      <td>21</td>\n",
       "      <td>0</td>\n",
       "    </tr>\n",
       "    <tr>\n",
       "      <th>4</th>\n",
       "      <td>0</td>\n",
       "      <td>137</td>\n",
       "      <td>40</td>\n",
       "      <td>35</td>\n",
       "      <td>168</td>\n",
       "      <td>43.1</td>\n",
       "      <td>2.288</td>\n",
       "      <td>33</td>\n",
       "      <td>1</td>\n",
       "    </tr>\n",
       "  </tbody>\n",
       "</table>\n",
       "</div>"
      ]
     },
     "execution_count": 16,
     "metadata": {},
     "output_type": "execute_result"
    }
   ],
   "execution_count": 16
  },
  {
   "cell_type": "markdown",
   "source": [
    "### Question (a)\n",
    "Train **at least 2** different classification models for the diabetes dataset and briefly explain your choice of models.\n",
    "\n",
    "Make sure the training and evaluation codes are run in this notebook, and the results should be printed out. e.g., accuracy: 00%\n",
    "\n",
    "(We will not run the cells to train and evaluate the models if the results are not printed out in your submitted file.)"
   ],
   "metadata": {
    "id": "q3ygER7EqwgW"
   }
  },
  {
   "cell_type": "markdown",
   "source": [
    "이진 분류에 적합한 로지스틱 회귀분석, 랜덤포레스트와 성능이 높은 서포트 벡터 머신의 기본 파라미터로 모델을 학습하여 비교\n",
    "- Logistic Regression : 0.7338\n",
    "- Random Forest : 0.7403\n",
    "-  Support Vector Machine : 0.7208"
   ],
   "metadata": {
    "id": "x22i7j7OkvhO"
   }
  },
  {
   "cell_type": "code",
   "source": [
    "# your code here\n",
    "\n",
    "# 데이터를 feature와 label로 분리\n",
    "X = diabetes.drop('Class variable (0 or 1)', axis=1)\n",
    "y = diabetes['Class variable (0 or 1)']\n",
    "\n",
    "# 데이터를 train_val set(0.8), evaluation(test) set(0.2)으로 분리\n",
    "X_train_val, X_test, y_train_val, y_test = train_test_split(X, y, test_size=0.2, random_state=50, stratify=y, shuffle=True)   \n",
    "\n",
    "# feature 표준화\n",
    "scaler = StandardScaler()\n",
    "X_train_scaled = scaler.fit_transform(X_train_val)\n",
    "X_test_scaled = scaler.transform(X_test)\n",
    "\n",
    "# 검토 대상 분류 모델\n",
    "models = {\n",
    "    'LogisticRegression':\n",
    "        { 'model' : LR(max_iter=200),\n",
    "          'params' : {}\n",
    "        },\n",
    "    'RandomForestClassifier':\n",
    "        { 'model' : RF(),\n",
    "          'params' : {}\n",
    "        },\n",
    "    'SVC':\n",
    "        { 'model' : SVC(),\n",
    "          'params' : {}\n",
    "        }\n",
    "}\n",
    "\n",
    "\n",
    "# 각 모델별로 학습 및 accuracy 평가 / 클래스별 정밀도(precision출력)\n",
    "for model_name in models:\n",
    "    clf = models[model_name]['model']\n",
    "    clf.fit(X_train_val, y_train_val)\n",
    "    y_pred = clf.predict(X_test)\n",
    "    accuracy = accuracy_score(y_test, y_pred)\n",
    "    report = classification_report(y_test, y_pred)\n",
    "    print(f\"[{model_name:25}] accuracy\\t\\t: {accuracy:.4f}\")\n",
    "    print(f\"{report}\")\n",
    "    print(f\"--\"*30)\n",
    "    "
   ],
   "metadata": {
    "id": "6j19vDuImSEw",
    "ExecuteTime": {
     "end_time": "2024-04-28T09:49:46.635210Z",
     "start_time": "2024-04-28T09:49:46.458118Z"
    }
   },
   "outputs": [
    {
     "name": "stdout",
     "output_type": "stream",
     "text": [
      "[LogisticRegression       ] accuracy\t\t: 0.7338\n",
      "              precision    recall  f1-score   support\n",
      "\n",
      "           0       0.75      0.89      0.81       100\n",
      "           1       0.69      0.44      0.54        54\n",
      "\n",
      "    accuracy                           0.73       154\n",
      "   macro avg       0.72      0.67      0.68       154\n",
      "weighted avg       0.73      0.73      0.72       154\n",
      "\n",
      "------------------------------------------------------------\n",
      "[RandomForestClassifier   ] accuracy\t\t: 0.7403\n",
      "              precision    recall  f1-score   support\n",
      "\n",
      "           0       0.77      0.85      0.81       100\n",
      "           1       0.66      0.54      0.59        54\n",
      "\n",
      "    accuracy                           0.74       154\n",
      "   macro avg       0.72      0.69      0.70       154\n",
      "weighted avg       0.73      0.74      0.73       154\n",
      "\n",
      "------------------------------------------------------------\n",
      "[SVC                      ] accuracy\t\t: 0.7208\n",
      "              precision    recall  f1-score   support\n",
      "\n",
      "           0       0.74      0.87      0.80       100\n",
      "           1       0.65      0.44      0.53        54\n",
      "\n",
      "    accuracy                           0.72       154\n",
      "   macro avg       0.70      0.66      0.66       154\n",
      "weighted avg       0.71      0.72      0.71       154\n",
      "\n",
      "------------------------------------------------------------\n"
     ]
    }
   ],
   "execution_count": 210
  },
  {
   "cell_type": "markdown",
   "source": [
    "### Question (b)\n",
    "In the next cell, report the best model and explain why you chose this model.\n",
    "\n",
    "In your explanation, include the differences between the models you fitted in (a).\n",
    "\n",
    "Also, describe how you optimized the final model to get the best performance.\n",
    "\n",
    "You will get full credit if you plot the process of model optimization."
   ],
   "metadata": {
    "id": "ekla_OW0rT6R"
   }
  },
  {
   "cell_type": "code",
   "source": [
    "# optimize your model here\n",
    "# plotting the optimization process is necessary to get full credit.\n",
    "\n",
    "#k-fold 설정\n",
    "S_kfold = StratifiedKFold(n_splits=5, shuffle=True, random_state=50)\n",
    "# 최적화 대상 모델 파라미터\n",
    "models = {\n",
    "    'RandomForestClassifier':\n",
    "        { 'model' : RF(),\n",
    "          ## 최적화 대상 하이퍼파라미터\n",
    "          'params' : {\n",
    "              'n_estimators': [100, 200, 300, 400, 500],  # 트리의 개수\n",
    "              #'max_features': ['sqrt', 'log2'],  # 최대 선택할 feature의 수\n",
    "                'max_depth': [10, 20, 30],      # 트리의 최대 깊이\n",
    "              # 'min_samples_split': [2, 5, 10],   # 노드 분할을 위한 최소 샘플 수 \n",
    "              'random_state': [50]\n",
    "          }\n",
    "      },\n",
    "    'LogisticRegression':\n",
    "        { 'model' : LR(max_iter=200),\n",
    "          ## 최적화 대상 하이퍼파라미터\n",
    "          'params' : {\n",
    "              # 'penalty': ['l2'],\n",
    "              'C': [0.01, 0.1, 1, 10, 100],  # 규제 강도의 역수\n",
    "              'solver': ['liblinear', 'lbfgs']  # 최적화 알고리즘\n",
    "              #'max_iter': [100,200,300],        # 최대 반복 횟수\n",
    "          }\n",
    "        }\n",
    "}\n",
    "\n",
    "best_models = {}   # 최적화된 모델 저장\n",
    "cv_results = {}    # 최적화 과정 저장\n",
    "for model_name in models:\n",
    "    print(f\"******* Optimizing {model_name}  ********\")\n",
    "    model = models[model_name]['model']\n",
    "    param_grid = models[model_name]['params']\n",
    "    clf = GridSearchCV(model, param_grid, cv=S_kfold, n_jobs=-1, verbose=1, scoring='accuracy')\n",
    "    # 표준화된 train set으로 학습\n",
    "    clf.fit(X_train_scaled, y_train_val)\n",
    "    \n",
    "    print(f\"Best parameters: {clf.best_params_}\")\n",
    "    print(f\"best score : {clf.best_score_}\")\n",
    "    model = clf.best_estimator_\n",
    "    best_models[model_name] = model\n",
    "    cv_results[model_name] = clf.cv_results_\n",
    "    # 표준화된 test set으로 평가\n",
    "    predictions = model.predict(X_test_scaled)\n",
    "    print(f\"{model_name} Test accuracy: {accuracy_score(y_test, predictions)}\")\n",
    "    print(f\"--\"*30+\"\\n\")\n",
    "    \n",
    "\n",
    "for model_name in best_models:\n",
    "    # 최적화 과정 plot\n",
    "    param_grid = models[model_name]['params']\n",
    "    results = cv_results[model_name]\n",
    "    mean_test_scores = results['mean_test_score']\n",
    "    params = results['params']\n",
    "    \n",
    "    if model_name == 'RandomForestClassifier':\n",
    "        for max_depth in param_grid['max_depth']:\n",
    "            scores = mean_test_scores[np.array([p['max_depth'] for p in params]) == max_depth]\n",
    "            plt.plot(param_grid['n_estimators'], scores, '-o', label=f'max_depth: {max_depth}')\n",
    "        plt.xlabel('Number of Estimators')\n",
    "        plt.ylabel('Mean Test Score')\n",
    "        plt.title('RandomForestClassifier')\n",
    "        plt.legend()\n",
    "        plt.show()\n",
    "    else: # LogisticRegression\n",
    "        for solver in param_grid['solver']:\n",
    "            scores = mean_test_scores[np.array([p['solver'] for p in params]) == solver]\n",
    "            plt.plot(param_grid['C'], scores, '-o', label=f'solver: {solver}')\n",
    "        plt.xscale('log')\n",
    "        plt.xlabel('C')\n",
    "        plt.ylabel('Mean Test Score')\n",
    "        plt.title('LogisticRegression')\n",
    "        plt.legend()\n",
    "        plt.show()\n",
    "            \n",
    "    "
   ],
   "metadata": {
    "id": "7sPZc0pz0yiU",
    "ExecuteTime": {
     "end_time": "2024-04-28T09:23:28.808979Z",
     "start_time": "2024-04-28T09:23:23.983581Z"
    }
   },
   "outputs": [
    {
     "name": "stdout",
     "output_type": "stream",
     "text": [
      "******* Optimizing RandomForestClassifier  ********\n",
      "Fitting 5 folds for each of 15 candidates, totalling 75 fits\n",
      "Best parameters: {'max_depth': 30, 'n_estimators': 200, 'random_state': 50}\n",
      "best score : 0.7703318672530988\n",
      "RandomForestClassifier Test accuracy: 0.7402597402597403\n",
      "------------------------------------------------------------\n",
      "\n",
      "******* Optimizing LogisticRegression  ********\n",
      "Fitting 5 folds for each of 10 candidates, totalling 50 fits\n",
      "Best parameters: {'C': 1, 'solver': 'liblinear'}\n",
      "best score : 0.7752499000399841\n",
      "LogisticRegression Test accuracy: 0.7532467532467533\n",
      "------------------------------------------------------------\n",
      "\n"
     ]
    },
    {
     "data": {
      "text/plain": [
       "<Figure size 640x480 with 1 Axes>"
      ],
      "image/png": "[encoded data removed]"
     },
     "metadata": {},
     "output_type": "display_data"
    },
    {
     "data": {
      "text/plain": [
       "<Figure size 640x480 with 1 Axes>"
      ],
      "image/png": "[encoded data removed]"
     },
     "metadata": {},
     "output_type": "display_data"
    }
   ],
   "execution_count": 209
  },
  {
   "cell_type": "markdown",
   "source": [
    "- (a)에서(결과 아래) 높은 정확도를 보인 Random Forest와 Logistic Regression 모델을 최적화하여 비교\n",
    "    - Random Forest : 0.7403 (accuracy)(실행시마다 약간씩 변동)\n",
    "    - Logistic Regression : 0.7338 (accuracy)\n",
    "    - Random Forest의 성능이 일반적으로 높으나, diabets의 feature가 고르게 분포되어 있어 Logistic Regression의 성능이 더 높을 수 있음\n",
    "- (b) 최적화(하이퍼 파라미터 튜닝) 과정 : training set을 표준화하여 학습하고, GridSearchCV를 사용하여 5-fold로 교차검증하여 최대 파라미터를 찾음.\n",
    "    - RandomForestClassifier : 트리의 개수(n_estimators)와 최대 깊이(max_depth)를 최적화\n",
    "        - {'max_depth': 30, 'n_estimators': 200} 에서 최적화 모델      \n",
    "        - 해당 모델의 accuracy : 0.7703\n",
    "        - 최적화 이전과 비교하여 약 4% 정도의 성능 향상\n",
    "    - Logistic Regression : 규제 강도의 역수(C)와 최적화 알고리즘(solver)를 최적화\n",
    "        - {'C': 0.1, 'solver': 'liblinear'} 에서 최적화 모델\n",
    "        - 해당 모델의 accuracy : 0.7752\n",
    "        - 최적화 이전과 비교하여 약 5.6% 정도의 성능 향상\n",
    "- 최종 모델로 비교적 단순하여 적은 데이터에 유리한 Logistic Regression('C':0.1, 'solver':'liblinear')을 선택"
   ],
   "metadata": {
    "id": "TbQBpVSQovCz"
   }
  },
  {
   "cell_type": "markdown",
   "metadata": {
    "id": "Ayyb-V4pZS1x"
   },
   "source": [
    "## 2. Credit Score Classification"
   ]
  },
  {
   "cell_type": "code",
   "source": [
    "credit_score = pd.read_csv(\"credit_score.csv\")"
   ],
   "metadata": {
    "id": "3_wZ8QyLqgdH",
    "ExecuteTime": {
     "end_time": "2024-04-29T14:45:21.710947Z",
     "start_time": "2024-04-29T14:45:21.639300Z"
    }
   },
   "outputs": [],
   "execution_count": 6
  },
  {
   "cell_type": "code",
   "source": [
    "len(credit_score)"
   ],
   "metadata": {
    "colab": {
     "base_uri": "https://localhost:8080/"
    },
    "id": "8YqPorvbqmas",
    "outputId": "b1f14ce1-acb9-4284-e9bf-3321586ab140",
    "ExecuteTime": {
     "end_time": "2024-04-29T14:45:23.552403Z",
     "start_time": "2024-04-29T14:45:23.549234Z"
    }
   },
   "outputs": [
    {
     "data": {
      "text/plain": [
       "30000"
      ]
     },
     "execution_count": 7,
     "metadata": {},
     "output_type": "execute_result"
    }
   ],
   "execution_count": 7
  },
  {
   "cell_type": "code",
   "source": [
    "credit_score.head()"
   ],
   "metadata": {
    "colab": {
     "base_uri": "https://localhost:8080/",
     "height": 394
    },
    "id": "TaZcG333qoFN",
    "outputId": "0ec671db-e7e5-4a8d-9938-37753ad56908",
    "ExecuteTime": {
     "end_time": "2024-04-29T14:45:25.252929Z",
     "start_time": "2024-04-29T14:45:25.240517Z"
    }
   },
   "outputs": [
    {
     "data": {
      "text/plain": [
       "   Month   Age  Occupation  Annual_Income  Monthly_Inhand_Salary  \\\n",
       "0      8  34.0    Musician      30375.050            2426.254167   \n",
       "1      6  47.0  Accountant      16609.095            1488.091250   \n",
       "2      1  17.0      Writer      66289.360            5433.113333   \n",
       "3      6  40.0  Accountant      72936.680            5800.056667   \n",
       "4      6  39.0     Teacher      31846.760            2703.896667   \n",
       "\n",
       "   Num_Bank_Accounts  Num_Credit_Card  Interest_Rate  Num_of_Loan  \\\n",
       "0                6.0              5.0            6.0          0.0   \n",
       "1                2.0              3.0            4.0          3.0   \n",
       "2                4.0              5.0           15.0          2.0   \n",
       "3                0.0              2.0           12.0          1.0   \n",
       "4                2.0              4.0            7.0          2.0   \n",
       "\n",
       "                                        Type_of_Loan  ...  Credit_Mix  \\\n",
       "0                                            No Data  ...    Standard   \n",
       "1  home equity loan,credit-builder loan,student loan  ...        Good   \n",
       "2                         personal loan,student loan  ...    Standard   \n",
       "3                                       student loan  ...        Good   \n",
       "4                   student loan,credit-builder loan  ...        Good   \n",
       "\n",
       "   Outstanding_Debt  Credit_Utilization_Ratio  Credit_History_Age  \\\n",
       "0           1367.11                 35.452909               260.0   \n",
       "1            864.00                 36.989979               277.0   \n",
       "2            713.33                 35.810164               189.0   \n",
       "3            827.89                 37.082235               381.0   \n",
       "4            881.26                 35.267508               190.0   \n",
       "\n",
       "  Payment_of_Min_Amount  Total_EMI_per_month  Amount_invested_monthly  \\\n",
       "0                    No             0.000000                35.244025   \n",
       "1                    No            22.411006                26.706984   \n",
       "2                   Yes            61.325213                59.890917   \n",
       "3                    No            51.672175                80.016877   \n",
       "4                    No            27.407887                64.455327   \n",
       "\n",
       "                  Payment_Behaviour Monthly_Balance  Credit_Score  \n",
       "0  High_spent_Medium_value_payments      448.481023      Standard  \n",
       "1    Low_spent_Small_value_payments      305.872096          Good  \n",
       "2  High_spent_Medium_value_payments      524.549646      Standard  \n",
       "3  High_spent_Medium_value_payments      698.316615          Good  \n",
       "4   High_spent_Small_value_payments      392.324645          Good  \n",
       "\n",
       "[5 rows x 24 columns]"
      ],
      "text/html": [
       "<div>\n",
       "<style scoped>\n",
       "    .dataframe tbody tr th:only-of-type {\n",
       "        vertical-align: middle;\n",
       "    }\n",
       "\n",
       "    .dataframe tbody tr th {\n",
       "        vertical-align: top;\n",
       "    }\n",
       "\n",
       "    .dataframe thead th {\n",
       "        text-align: right;\n",
       "    }\n",
       "</style>\n",
       "<table border=\"1\" class=\"dataframe\">\n",
       "  <thead>\n",
       "    <tr style=\"text-align: right;\">\n",
       "      <th></th>\n",
       "      <th>Month</th>\n",
       "      <th>Age</th>\n",
       "      <th>Occupation</th>\n",
       "      <th>Annual_Income</th>\n",
       "      <th>Monthly_Inhand_Salary</th>\n",
       "      <th>Num_Bank_Accounts</th>\n",
       "      <th>Num_Credit_Card</th>\n",
       "      <th>Interest_Rate</th>\n",
       "      <th>Num_of_Loan</th>\n",
       "      <th>Type_of_Loan</th>\n",
       "      <th>...</th>\n",
       "      <th>Credit_Mix</th>\n",
       "      <th>Outstanding_Debt</th>\n",
       "      <th>Credit_Utilization_Ratio</th>\n",
       "      <th>Credit_History_Age</th>\n",
       "      <th>Payment_of_Min_Amount</th>\n",
       "      <th>Total_EMI_per_month</th>\n",
       "      <th>Amount_invested_monthly</th>\n",
       "      <th>Payment_Behaviour</th>\n",
       "      <th>Monthly_Balance</th>\n",
       "      <th>Credit_Score</th>\n",
       "    </tr>\n",
       "  </thead>\n",
       "  <tbody>\n",
       "    <tr>\n",
       "      <th>0</th>\n",
       "      <td>8</td>\n",
       "      <td>34.0</td>\n",
       "      <td>Musician</td>\n",
       "      <td>30375.050</td>\n",
       "      <td>2426.254167</td>\n",
       "      <td>6.0</td>\n",
       "      <td>5.0</td>\n",
       "      <td>6.0</td>\n",
       "      <td>0.0</td>\n",
       "      <td>No Data</td>\n",
       "      <td>...</td>\n",
       "      <td>Standard</td>\n",
       "      <td>1367.11</td>\n",
       "      <td>35.452909</td>\n",
       "      <td>260.0</td>\n",
       "      <td>No</td>\n",
       "      <td>0.000000</td>\n",
       "      <td>35.244025</td>\n",
       "      <td>High_spent_Medium_value_payments</td>\n",
       "      <td>448.481023</td>\n",
       "      <td>Standard</td>\n",
       "    </tr>\n",
       "    <tr>\n",
       "      <th>1</th>\n",
       "      <td>6</td>\n",
       "      <td>47.0</td>\n",
       "      <td>Accountant</td>\n",
       "      <td>16609.095</td>\n",
       "      <td>1488.091250</td>\n",
       "      <td>2.0</td>\n",
       "      <td>3.0</td>\n",
       "      <td>4.0</td>\n",
       "      <td>3.0</td>\n",
       "      <td>home equity loan,credit-builder loan,student loan</td>\n",
       "      <td>...</td>\n",
       "      <td>Good</td>\n",
       "      <td>864.00</td>\n",
       "      <td>36.989979</td>\n",
       "      <td>277.0</td>\n",
       "      <td>No</td>\n",
       "      <td>22.411006</td>\n",
       "      <td>26.706984</td>\n",
       "      <td>Low_spent_Small_value_payments</td>\n",
       "      <td>305.872096</td>\n",
       "      <td>Good</td>\n",
       "    </tr>\n",
       "    <tr>\n",
       "      <th>2</th>\n",
       "      <td>1</td>\n",
       "      <td>17.0</td>\n",
       "      <td>Writer</td>\n",
       "      <td>66289.360</td>\n",
       "      <td>5433.113333</td>\n",
       "      <td>4.0</td>\n",
       "      <td>5.0</td>\n",
       "      <td>15.0</td>\n",
       "      <td>2.0</td>\n",
       "      <td>personal loan,student loan</td>\n",
       "      <td>...</td>\n",
       "      <td>Standard</td>\n",
       "      <td>713.33</td>\n",
       "      <td>35.810164</td>\n",
       "      <td>189.0</td>\n",
       "      <td>Yes</td>\n",
       "      <td>61.325213</td>\n",
       "      <td>59.890917</td>\n",
       "      <td>High_spent_Medium_value_payments</td>\n",
       "      <td>524.549646</td>\n",
       "      <td>Standard</td>\n",
       "    </tr>\n",
       "    <tr>\n",
       "      <th>3</th>\n",
       "      <td>6</td>\n",
       "      <td>40.0</td>\n",
       "      <td>Accountant</td>\n",
       "      <td>72936.680</td>\n",
       "      <td>5800.056667</td>\n",
       "      <td>0.0</td>\n",
       "      <td>2.0</td>\n",
       "      <td>12.0</td>\n",
       "      <td>1.0</td>\n",
       "      <td>student loan</td>\n",
       "      <td>...</td>\n",
       "      <td>Good</td>\n",
       "      <td>827.89</td>\n",
       "      <td>37.082235</td>\n",
       "      <td>381.0</td>\n",
       "      <td>No</td>\n",
       "      <td>51.672175</td>\n",
       "      <td>80.016877</td>\n",
       "      <td>High_spent_Medium_value_payments</td>\n",
       "      <td>698.316615</td>\n",
       "      <td>Good</td>\n",
       "    </tr>\n",
       "    <tr>\n",
       "      <th>4</th>\n",
       "      <td>6</td>\n",
       "      <td>39.0</td>\n",
       "      <td>Teacher</td>\n",
       "      <td>31846.760</td>\n",
       "      <td>2703.896667</td>\n",
       "      <td>2.0</td>\n",
       "      <td>4.0</td>\n",
       "      <td>7.0</td>\n",
       "      <td>2.0</td>\n",
       "      <td>student loan,credit-builder loan</td>\n",
       "      <td>...</td>\n",
       "      <td>Good</td>\n",
       "      <td>881.26</td>\n",
       "      <td>35.267508</td>\n",
       "      <td>190.0</td>\n",
       "      <td>No</td>\n",
       "      <td>27.407887</td>\n",
       "      <td>64.455327</td>\n",
       "      <td>High_spent_Small_value_payments</td>\n",
       "      <td>392.324645</td>\n",
       "      <td>Good</td>\n",
       "    </tr>\n",
       "  </tbody>\n",
       "</table>\n",
       "<p>5 rows × 24 columns</p>\n",
       "</div>"
      ]
     },
     "execution_count": 8,
     "metadata": {},
     "output_type": "execute_result"
    }
   ],
   "execution_count": 8
  },
  {
   "cell_type": "markdown",
   "source": [
    "### Question (c)\n",
    "Train **at least 2** different classification models for the diabetes dataset and briefly explain your choice of models.\n",
    "\n",
    "Make sure the training and evaluation codes are run in this notebook, and the results should be printed out. e.g., accuracy: 00%\n",
    "\n",
    "(We will not run the cells to train and evaluate the models if the results are not printed out in your submitted file.)"
   ],
   "metadata": {
    "id": "mWbd9X8MrdR_"
   }
  },
  {
   "cell_type": "markdown",
   "source": [
    "세개의 클래스(Good, Standard, Poor)를 예측하기 위하여 다중 분류에 적합한 로지스틱 회귀분석, 랜덤포레스트, LDA을 기본 파라미터로 모델을 학습하여 비교\n",
    "- 비교 과정에서 feature 중 'Type_of_Loan'은 인코딩 시 feature가 너무 많이 확장되며, 또한 실제 값 중 'No Data'가 있어서 해당 feature를 제외하여 학습 추가\n",
    "- 또한 데이터의 feature가 많아 모델이 복잡해지지 않도록 설정하여 학습\n",
    "\n",
    "| Model | accuracy(all feature) | accracy(Type_of_loan 제외) |\n",
    "|-------|-----------------------|--------------------------|\n",
    "| Logistic Regression  | 0.6930                  | 0.6612                   |\n",
    "| Random Forest  | 0.7618                  | **0.7702**               |\n",
    "| Linear Discriminant Analysis  | 0.6602                  | 0.6598                   |"
   ],
   "metadata": {
    "id": "CFCYWw-dk4y5"
   }
  },
  {
   "cell_type": "code",
   "source": [
    "# your code here\n",
    "# 데이터 분할(feature, target, train, test)\n",
    "X = credit_score.drop('Credit_Score', axis=1)\n",
    "y = credit_score['Credit_Score']  # target\n",
    "\n",
    "## 범주형 데이터(feature)\n",
    "category_features = X.select_dtypes(include=['object']).columns.tolist()\n",
    "#print(category_features)\n",
    "# 수치형 데이터(feature)\n",
    "numeric_features = X.select_dtypes(include=['float64', 'int64']).columns\n",
    "#print(numeric_features)\n",
    "\n",
    "# 범주형 원핫 인코딩\n",
    "encoder = OneHotEncoder(sparse_output=False, handle_unknown='ignore')\n",
    "X_encoded = encoder.fit_transform(X[category_features])\n",
    "X_encoded_df = pd.DataFrame(X_encoded, columns=encoder.get_feature_names_out(X[category_features].columns))\n",
    "# 인코딩 데이터와 기존 데이터 결합\n",
    "X = X.drop(category_features, axis=1)\n",
    "X_encoded_concat = pd.concat([X, X_encoded_df], axis=1)\n",
    "\n",
    "# 타겟 라벨 인코딩\n",
    "label_encoder = LabelEncoder()\n",
    "y_encoded = label_encoder.fit_transform(y)\n",
    "\n",
    "# 데이터 분할\n",
    "X_train, X_test, y_train, y_test = train_test_split(X_encoded_concat, y_encoded, test_size=0.2, random_state=50, stratify=y, shuffle=True)\n",
    "\n",
    "# 수치형 데이터 스케일링\n",
    "scaler = StandardScaler()\n",
    "X_train[numeric_features] = scaler.fit_transform(X_train[numeric_features])\n",
    "X_test[numeric_features] = scaler.transform(X_test[numeric_features])\n",
    "\n",
    "# feature 중 'Type_of_Loan'은 인코딩 시 feature가 너무 많이 확장되며, \n",
    "# 또한 실제 값 중 'No Data'가 있어서 해당 feature를 제외하여 학습 추가\n",
    "X_train_wo_loan = X_train.copy()\n",
    "X_test_wo_loan = X_test.copy()\n",
    "loan_col = [col for col in X_train.columns if 'Type_of_Loan' in col]\n",
    "X_train_wo_loan = X_train_wo_loan.drop(loan_col, axis=1)\n",
    "X_test_wo_loan = X_test_wo_loan.drop(loan_col, axis=1)\n",
    "\n",
    "print(f'X_train_columns size: {len(X_train.columns)}')\n",
    "print(f'X_train_wo_loan_columns size: {len(X_train_wo_loan.columns)}')\n",
    "\n",
    "# 검토 대상 분류 모델\n",
    "models = {\n",
    "    'LogisticRegression':\n",
    "        { 'model' : LR(penalty='l1', solver='liblinear'),\n",
    "          },\n",
    "    'RandomForestClassifier':\n",
    "        { 'model' : RF(),\n",
    "          },\n",
    "    'LinearDiscriminantAnalysis':\n",
    "        { 'model' : LDA(solver='lsqr',shrinkage='auto'),\n",
    "          },\n",
    "}\n",
    "\n",
    "\n",
    "# 각 모델별로 학습 및 accuracy 평가 / 클래스별 정밀도(precision출력)\n",
    "for model_name in models:\n",
    "    clf = models[model_name]['model']\n",
    "    # feature 모두 사용 학습\n",
    "    clf.fit(X_train, y_train)\n",
    "    y_pred = clf.predict(X_test)\n",
    "    accuracy = accuracy_score(y_test, y_pred)\n",
    "    report = classification_report(y_test, y_pred)\n",
    "    print(f\"[{model_name:25}]\\n\\t 1) All feature Accuracy\\t\\t: {accuracy:.4f}\")\n",
    "    print(f\"{report}\")\n",
    "    # feature 중 'Type_of_Loan'은 제외하여 학습\n",
    "    clf.fit(X_train_wo_loan, y_train)\n",
    "    y_pred = clf.predict(X_test_wo_loan)\n",
    "    accuracy = accuracy_score(y_test, y_pred)\n",
    "    report = classification_report(y_test, y_pred)\n",
    "    print(f\"\\t 2) feature(w/o loan) Accuracy\\t\\t: {accuracy:.4f}\")\n",
    "    print(f\"{report}\")\n",
    "    print(f\"--\"*40)\n"
   ],
   "metadata": {
    "id": "8Z72LW96rdSA",
    "ExecuteTime": {
     "end_time": "2024-04-29T15:20:16.456608Z",
     "start_time": "2024-04-29T15:17:55.193336Z"
    }
   },
   "outputs": [
    {
     "name": "stdout",
     "output_type": "stream",
     "text": [
      "X_train_columns size: 5986\n",
      "X_train_wo_loan_columns size: 45\n",
      "[LogisticRegression       ]\n",
      "\t 1) All feature Accuracy\t\t: 0.6930\n",
      "              precision    recall  f1-score   support\n",
      "\n",
      "           0       0.56      0.72      0.63      1088\n",
      "           1       0.70      0.63      0.66      1744\n",
      "           2       0.75      0.72      0.74      3168\n",
      "\n",
      "    accuracy                           0.69      6000\n",
      "   macro avg       0.67      0.69      0.68      6000\n",
      "weighted avg       0.70      0.69      0.69      6000\n",
      "\n",
      "\t 2) feature(w/o loan) Accuracy\t\t: 0.6612\n",
      "              precision    recall  f1-score   support\n",
      "\n",
      "           0       0.53      0.72      0.61      1088\n",
      "           1       0.67      0.56      0.61      1744\n",
      "           2       0.73      0.70      0.71      3168\n",
      "\n",
      "    accuracy                           0.66      6000\n",
      "   macro avg       0.64      0.66      0.64      6000\n",
      "weighted avg       0.67      0.66      0.66      6000\n",
      "\n",
      "--------------------------------------------------------------------------------\n",
      "[RandomForestClassifier   ]\n",
      "\t 1) All feature Accuracy\t\t: 0.7618\n",
      "              precision    recall  f1-score   support\n",
      "\n",
      "           0       0.66      0.70      0.68      1088\n",
      "           1       0.78      0.74      0.76      1744\n",
      "           2       0.79      0.79      0.79      3168\n",
      "\n",
      "    accuracy                           0.76      6000\n",
      "   macro avg       0.74      0.75      0.74      6000\n",
      "weighted avg       0.76      0.76      0.76      6000\n",
      "\n",
      "\t 2) feature(w/o loan) Accuracy\t\t: 0.7702\n",
      "              precision    recall  f1-score   support\n",
      "\n",
      "           0       0.69      0.71      0.70      1088\n",
      "           1       0.78      0.76      0.77      1744\n",
      "           2       0.79      0.80      0.80      3168\n",
      "\n",
      "    accuracy                           0.77      6000\n",
      "   macro avg       0.75      0.75      0.75      6000\n",
      "weighted avg       0.77      0.77      0.77      6000\n",
      "\n",
      "--------------------------------------------------------------------------------\n",
      "[LinearDiscriminantAnalysis]\n",
      "\t 1) All feature Accuracy\t\t: 0.6602\n",
      "              precision    recall  f1-score   support\n",
      "\n",
      "           0       0.48      0.82      0.60      1088\n",
      "           1       0.65      0.68      0.66      1744\n",
      "           2       0.82      0.60      0.69      3168\n",
      "\n",
      "    accuracy                           0.66      6000\n",
      "   macro avg       0.65      0.70      0.65      6000\n",
      "weighted avg       0.71      0.66      0.67      6000\n",
      "\n",
      "\t 2) feature(w/o loan) Accuracy\t\t: 0.6598\n",
      "              precision    recall  f1-score   support\n",
      "\n",
      "           0       0.49      0.81      0.61      1088\n",
      "           1       0.67      0.59      0.63      1744\n",
      "           2       0.77      0.65      0.70      3168\n",
      "\n",
      "    accuracy                           0.66      6000\n",
      "   macro avg       0.64      0.68      0.65      6000\n",
      "weighted avg       0.69      0.66      0.66      6000\n",
      "\n",
      "--------------------------------------------------------------------------------\n"
     ]
    }
   ],
   "execution_count": 18
  },
  {
   "metadata": {},
   "cell_type": "markdown",
   "source": [
    "### Question (d)\n",
    "In the next cell, report the best model and explain why you chose this model.\n",
    "\n",
    "In your explanation, include the differences between the models you fitted in (a).\n",
    "\n",
    "Also, describe how you optimized the final model to get the best performance.\n",
    "\n",
    "You will get full credit if you plot the process of model optimization."
   ]
  },
  {
   "cell_type": "code",
   "source": [
    "# optimize your model here\n",
    "# plotting the optimization process is necessary to get full credit.\n",
    "\n",
    "# (c)애서 Random Forest가 가장 높은 성능을 보였으므로 최적화\n",
    "# 데이터는 type_of_loan feature를 제외한 데이터로 학습\n",
    "models = {\n",
    "    'RandomForestClassifier':\n",
    "        { 'model' : RF(),\n",
    "          ## 최적화 대상 하이퍼파라미터\n",
    "          'params' : {\n",
    "              'n_estimators': [200, 300, 400, 500, 600],  # 트리의 개수\n",
    "              #'max_features': ['sqrt', 'log2'],  # 최대 선택할 feature의 수\n",
    "              'max_depth': [20, 30, 40, 50],      # 트리의 최대 깊이\n",
    "              # 'min_samples_split': [2, 5, 10],   # 노드 분할을 위한 최소 샘플 수 \n",
    "              'random_state': [50]\n",
    "          }\n",
    "      }\n",
    "}\n",
    "#k-fold 설정(학습시간 단축을 위해 3-fold)\n",
    "S_kfold = StratifiedKFold(n_splits=3, shuffle=True, random_state=50)\n",
    "\n",
    "best_models = {}   # 최적화된 모델 저장\n",
    "cv_results = {}    # 최적화 과정 저장\n",
    "for model_name in models:\n",
    "    print(f\"******* Optimizing {model_name}  ********\")\n",
    "    model = models[model_name]['model']\n",
    "    param_grid = models[model_name]['params']\n",
    "    clf = GridSearchCV(model, param_grid, cv=S_kfold, n_jobs=-1, verbose=1, scoring='accuracy')\n",
    "    # feature 중 'Type_of_Loan'은 제외하여 학습\n",
    "    clf.fit(X_train_wo_loan, y_train)\n",
    "    print(f\"Best parameters: {clf.best_params_}\")\n",
    "    print(f\"best score : {clf.best_score_}\")\n",
    "    model = clf.best_estimator_\n",
    "    best_models[model_name] = model\n",
    "    cv_results[model_name] = clf.cv_results_\n",
    "    predictions = model.predict(X_test_wo_loan)\n",
    "    print(f\"{model_name} Test accuracy: {accuracy_score(y_test, predictions)}\")\n",
    "    print(f\"--\"*30+\"\\n\")\n",
    "\n",
    "# 최적화 과정 plot\n",
    "for model_name in best_models:\n",
    "    param_grid = models[model_name]['params']\n",
    "    results = cv_results[model_name]\n",
    "    mean_test_scores = results['mean_test_score']\n",
    "    params = results['params']\n",
    "\n",
    "    # Random Forest 만 최적화 진행\n",
    "    if model_name == 'RandomForestClassifier':\n",
    "        for max_depth in param_grid['max_depth']:\n",
    "            scores = mean_test_scores[np.array([p['max_depth'] for p in params]) == max_depth]\n",
    "            plt.plot(param_grid['n_estimators'], scores, '-o', label=f'max_depth: {max_depth}')\n",
    "        plt.xlabel('Number of Estimators')\n",
    "        plt.ylabel('Mean Test Score')\n",
    "        plt.title('RandomForestClassifier')\n",
    "        plt.legend()\n",
    "        plt.show()\n"
   ],
   "metadata": {
    "id": "Wfja_8at1IJN",
    "ExecuteTime": {
     "end_time": "2024-04-29T16:39:13.270387Z",
     "start_time": "2024-04-29T16:36:49.971995Z"
    }
   },
   "outputs": [
    {
     "name": "stdout",
     "output_type": "stream",
     "text": [
      "******* Optimizing RandomForestClassifier  ********\n",
      "Fitting 3 folds for each of 20 candidates, totalling 60 fits\n",
      "Best parameters: {'max_depth': 40, 'n_estimators': 500, 'random_state': 50}\n",
      "best score : 0.75325\n",
      "RandomForestClassifier Test accuracy: 0.775\n",
      "------------------------------------------------------------\n",
      "\n"
     ]
    },
    {
     "data": {
      "text/plain": [
       "<Figure size 640x480 with 1 Axes>"
      ],
      "image/png": "[encoded data removed]"
     },
     "metadata": {},
     "output_type": "display_data"
    }
   ],
   "execution_count": 21
  },
  {
   "cell_type": "markdown",
   "source": [
    "1. (c) 에서 가장 높은 accuracy를 보여준 Random Forest 모델과 type_of_loan을 제외한 feature로 학습\n",
    "\n",
    "| Model | accuracy(all feature) | accracy(Type_of_loan 제외) |\n",
    "|-------|-----------------------|--------------------------|\n",
    "| Logistic Regression  | 0.6930                  | 0.6612                   |\n",
    "| Random Forest  | 0.7618                  | **0.7702**               |\n",
    "| Linear Discriminant Analysis  | 0.6602                  | 0.6598                   |\n",
    "\n",
    "2. GridSearchCV를 이용하여 3-fold로 교차검증하여 최대 accuracy를 보여주는 하이퍼파라미터를 검색\n",
    "    - 트리의 개수(n_estimators)와 최대 깊이(max_depth)를 수정하며 반복하여 최적화 파라미터를 검색\n",
    "        - 트리 개수와 깊이가 높을 수록 성능이 올라가 수치를 더 늘려가며 성능이 떨어지는 지점을 찾음        \n",
    "    - 최대 성능(accuracy) : 0.775\n",
    "        - n_estimators : 500\n",
    "        - max_depth : 40\n",
    "    - (c)(0.7702) 와 비교하여 약 0.6% 정도의 성능 향상\n",
    "3. 최종 모델로 Random Forest('n_estimators':500, 'max_depth':40)을 선택"
   ],
   "metadata": {
    "id": "4ZSJYylordSA"
   }
  },
  {
   "cell_type": "markdown",
   "source": [
    "### Question (e)\n",
    "In the next cell, examine the differences between the two datasets with respect to the reasoning behind your choice of the the best model for each dataset."
   ],
   "metadata": {
    "id": "a6RkH-Tnrltu"
   }
  },
  {
   "cell_type": "markdown",
   "source": [
    "1. 두 데이터셋은 분류(classification) 문제이나 다음과 같은 차이점이 있음\n",
    "    - Diabetes : 이진 분류(Binary Classification, 2개 클래스)\n",
    "        - feature가 적고(8개) 데이터가 상대적으로 작음(768개)\n",
    "        - feature가 모두 수치형으로 데이터가 고르게 분포되어 있음\n",
    "    - credit_score : 다중 분류(Multi-class Classification, 3개 클래스)\n",
    "        - feature가 많고(23개) 데이터가 많음(30000개)\n",
    "        - feature 중 범주형 데이터가 많아 인코딩 시 feature가 확장됨\n",
    "2. 모델 선택 이유\n",
    "    - Diabetes : Logistic Regression\n",
    "        - 이진 분류이고 feature 수치형으로 고르게 분포되어 있어 Logistic Regression에 적합\n",
    "        - 상대적으로 단순한 모델로 작은 데이터셋에서 과적합 위험이 적음\n",
    "    - credit_score : Random Forest\n",
    "        - feature가 많고 데이터가 많아 복잡한 모델에서도 성능이 좋은 Random Forest 선택\n",
    "        - 배깅과정을 통해 여러 트리를 평균하여 특정 데이터에 과적합되는것을 방지\n",
    "        - 범주형 및 수치형 데이터를 모두 처리 가능(위에서는 범주형 데이터를 인코딩 하여 학습함)"
   ],
   "metadata": {
    "id": "ubirQPwArltu"
   }
  }
 ]
}
